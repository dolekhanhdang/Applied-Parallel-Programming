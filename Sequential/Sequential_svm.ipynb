{
 "cells": [
  {
   "cell_type": "code",
   "execution_count": 1,
   "metadata": {
    "id": "40ygIDXEhjav"
   },
   "outputs": [],
   "source": [
    "import pandas as pd\n",
    "import numpy as np\n",
    "import matplotlib.pyplot as plt"
   ]
  },
  {
   "cell_type": "code",
   "execution_count": 2,
   "metadata": {
    "colab": {
     "base_uri": "https://localhost:8080/"
    },
    "id": "JaLbkQ21hpPY",
    "outputId": "4323ff63-81ab-42e2-bab5-c1874664a769"
   },
   "outputs": [
    {
     "name": "stdout",
     "output_type": "stream",
     "text": [
      "Writing SVM.py\n"
     ]
    }
   ],
   "source": [
    "%%writefile SVM.py\n",
    "import numpy as np\n",
    "\n",
    "class SVM():\n",
    "  def __init__(self,C=1.0):\n",
    "    # C error terms\n",
    "    self.C = C\n",
    "    self.w = 0\n",
    "    self.b = 0\n",
    "\n",
    "  # Hinge Loss Function / Calculation\n",
    "  def hingeloss(self, w, b, x, y):\n",
    "    # Regularizer term\n",
    "    reg = 0.5 * (w * w)\n",
    "\n",
    "    for i in range(x.shape[0]):\n",
    "      # Optimization term\n",
    "      opt_term = y[i] * ((np.dot(w, x[i])) + b)\n",
    "\n",
    "      # calculating loss\n",
    "      loss = reg + self.C * max(0, 1-opt_term)\n",
    "    return loss[0][0]\n",
    "\n",
    "  def fit(self, X, Y, batch_size=100, learning_rate=0.001, epochs=1000):\n",
    "    # The number of features in X\n",
    "    number_of_features = X.shape[1]\n",
    "\n",
    "    # The number of Samples in X\n",
    "    number_of_samples = X.shape[0]\n",
    "\n",
    "    c = self.C\n",
    "\n",
    "    # Creating ids from 0 to number_of_samples - 1\n",
    "    ids = np.arange(number_of_samples)\n",
    "\n",
    "    # Shuffling the samples randomly\n",
    "    np.random.shuffle(ids)\n",
    "\n",
    "    # creating an array of zeros\n",
    "    w = np.zeros((1, number_of_features))\n",
    "    b = 0\n",
    "    losses = []\n",
    "\n",
    "    # Gradient Descent logic\n",
    "    for i in range(epochs):\n",
    "      # Calculating the Hinge Loss\n",
    "      l = self.hingeloss(w, b, X, Y)\n",
    "\n",
    "      # Appending all losses \n",
    "      losses.append(l)\n",
    "      \n",
    "      # Starting from 0 to the number of samples with batch_size as interval\n",
    "      for batch_initial in range(0, number_of_samples, batch_size):\n",
    "        gradw = 0\n",
    "        gradb = 0\n",
    "\n",
    "        for j in range(batch_initial, batch_initial + batch_size):\n",
    "          if j < number_of_samples:\n",
    "            x = ids[j]\n",
    "            ti = Y[x] * (np.dot(w, X[x].T) + b)\n",
    "\n",
    "            if ti > 1:\n",
    "              gradw += 0\n",
    "              gradb += 0\n",
    "            else:\n",
    "              # Calculating the gradients\n",
    "              #w.r.t w \n",
    "              gradw += c * Y[x] * X[x]\n",
    "              # w.r.t b\n",
    "              gradb += c * Y[x]\n",
    "\n",
    "        # Updating weights and bias\n",
    "        w = w - learning_rate * w + learning_rate * gradw\n",
    "        b = b + learning_rate * gradb\n",
    "\n",
    "    self.w = w\n",
    "    self.b = b\n",
    "\n",
    "    return self.w, self.b, losses\n",
    "        \n",
    "  def predict(self, X):\n",
    "    prediction = np.dot(X, self.w[0]) + self.b # w.x + b\n",
    "    return np.sign(prediction)"
   ]
  },
  {
   "cell_type": "code",
   "execution_count": 3,
   "metadata": {
    "id": "rnTzMWcBYWE1"
   },
   "outputs": [],
   "source": [
    "from sklearn import datasets\n",
    "import matplotlib.pyplot as plt\n",
    "import numpy as np\n",
    "from sklearn.metrics import accuracy_score\n",
    "from sklearn.model_selection import train_test_split\n",
    "from SVM import SVM\n",
    "\n",
    "# Creating dataset\n",
    "X, y = datasets.make_blobs(\n",
    "\n",
    "        n_samples = 100, # Number of samples\n",
    "        n_features = 2, # Features\n",
    "        centers = 2,\n",
    "        cluster_std = 1,\n",
    "        random_state=40\n",
    "    )\n",
    "\n",
    "# Classes 1 and -1\n",
    "y = np.where(y == 0, -1, 1)"
   ]
  },
  {
   "cell_type": "code",
   "execution_count": 4,
   "metadata": {
    "id": "h3v4BizoYWlo"
   },
   "outputs": [],
   "source": [
    "X_train, X_test, y_train, y_test = train_test_split(X, y, test_size=0.5, random_state=42)"
   ]
  },
  {
   "cell_type": "code",
   "execution_count": 5,
   "metadata": {
    "id": "vm-jF2NubjUz"
   },
   "outputs": [],
   "source": [
    "svm = SVM()\n",
    "\n",
    "w, b, losses = svm.fit(X_train, y_train)"
   ]
  },
  {
   "cell_type": "code",
   "execution_count": 6,
   "metadata": {
    "colab": {
     "base_uri": "https://localhost:8080/"
    },
    "id": "qiT2Z6ujbl0b",
    "outputId": "20baa333-1229-4975-9371-bcd3162c7f58"
   },
   "outputs": [
    {
     "name": "stdout",
     "output_type": "stream",
     "text": [
      "Loss: 0.0991126738798482\n",
      "Prediction: [-1.  1. -1. -1.  1.  1.  1.  1. -1.  1. -1. -1.  1.  1. -1. -1.  1. -1.\n",
      "  1. -1.  1.  1. -1.  1.  1.  1. -1. -1. -1. -1.  1. -1. -1.  1.  1. -1.\n",
      "  1. -1. -1.  1.  1.  1.  1.  1.  1. -1.  1.  1.  1.  1.]\n",
      "Accuracy: 1.0\n",
      "w, b: [array([[0.44477983, 0.15109913]]), 0.05700000000000004]\n"
     ]
    }
   ],
   "source": [
    "prediction = svm.predict(X_test)\n",
    "\n",
    "# Loss value\n",
    "lss = losses.pop()\n",
    "\n",
    "print(\"Loss:\", lss)\n",
    "print(\"Prediction:\", prediction)\n",
    "print(\"Accuracy:\", accuracy_score(prediction, y_test))\n",
    "print(\"w, b:\", [w, b])"
   ]
  },
  {
   "cell_type": "code",
   "execution_count": 6,
   "metadata": {
    "id": "mkzNZxxdhsa5"
   },
   "outputs": [],
   "source": []
  },
  {
   "cell_type": "code",
   "execution_count": 7,
   "metadata": {
    "colab": {
     "base_uri": "https://localhost:8080/",
     "height": 515
    },
    "id": "rAWHJbFJhiVf",
    "outputId": "6eff89ec-fb7c-4173-d149-4562ecf0efdc"
   },
   "outputs": [
    {
     "data": {
      "image/png": "[encoded data removed]",
      "text/plain": [
       "<Figure size 432x288 with 1 Axes>"
      ]
     },
     "metadata": {
      "needs_background": "light"
     },
     "output_type": "display_data"
    },
    {
     "data": {
      "image/png": "[encoded data removed]",
      "text/plain": [
       "<Figure size 432x288 with 1 Axes>"
      ]
     },
     "metadata": {
      "needs_background": "light"
     },
     "output_type": "display_data"
    }
   ],
   "source": [
    "# Visualizing the scatter plot of the dataset\n",
    "def visualize_dataset():\n",
    "    plt.scatter(X[:, 0], X[:, 1], c=y)\n",
    "\n",
    "\n",
    "# Visualizing SVM\n",
    "def visualize_svm():\n",
    "  def get_hyperplane_value(x, w, b, offset):\n",
    "    return (-w[0][0] * x + b + offset) / w[0][1]\n",
    "\n",
    "  fig = plt.figure()\n",
    "  ax = fig.add_subplot(1,1,1)\n",
    "  plt.scatter(X_test[:, 0], X_test[:, 1], marker=\"o\", c=y_test)\n",
    "\n",
    "  x0_1 = np.amin(X_test[:, 0])\n",
    "  x0_2 = np.amax(X_test[:, 0])\n",
    "\n",
    "  x1_1 = get_hyperplane_value(x0_1, w, b, 0)\n",
    "  x1_2 = get_hyperplane_value(x0_2, w, b, 0)\n",
    "\n",
    "  x1_1_m = get_hyperplane_value(x0_1, w, b, -1)\n",
    "  x1_2_m = get_hyperplane_value(x0_2, w, b, -1)\n",
    "\n",
    "  x1_1_p = get_hyperplane_value(x0_1, w, b, 1)\n",
    "  x1_2_p = get_hyperplane_value(x0_2, w, b, 1)\n",
    "\n",
    "  ax.plot([x0_1, x0_2], [x1_1, x1_2], \"y--\")\n",
    "  ax.plot([x0_1, x0_2], [x1_1_m, x1_2_m], \"k\")\n",
    "  ax.plot([x0_1, x0_2], [x1_1_p, x1_2_p], \"k\")\n",
    "\n",
    "  x1_min = np.amin(X[:, 1])\n",
    "  x1_max = np.amax(X[:, 1])\n",
    "  ax.set_ylim([x1_min - 3, x1_max + 3])\n",
    "\n",
    "  plt.show()\n",
    "\n",
    "\n",
    "visualize_dataset()\n",
    "visualize_svm()"
   ]
  }
 ],
 "metadata": {
  "colab": {
   "provenance": []
  },
  "kernelspec": {
   "display_name": "Python 3 (ipykernel)",
   "language": "python",
   "name": "python3"
  },
  "language_info": {
   "codemirror_mode": {
    "name": "ipython",
    "version": 3
   },
   "file_extension": ".py",
   "mimetype": "text/x-python",
   "name": "python",
   "nbconvert_exporter": "python",
   "pygments_lexer": "ipython3",
   "version": "3.9.16"
  }
 },
 "nbformat": 4,
 "nbformat_minor": 1
}

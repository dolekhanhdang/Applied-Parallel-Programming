{
 "cells": [
  {
   "cell_type": "code",
   "execution_count": 1,
   "metadata": {},
   "outputs": [],
   "source": [
    "import matplotlib.pyplot as plt\n",
    "from PIL import Image\n",
    "import numpy as np\n",
    "import cv2\n",
    "import os\n",
    "from numpy import linalg as LA"
   ]
  },
  {
   "cell_type": "code",
   "execution_count": 2,
   "metadata": {},
   "outputs": [],
   "source": [
    "img = Image.open('./Picture/cat-1.jpg')\n",
    "img = img.resize((img.size[0],img.size[0]*2 ), Image.LANCZOS)\n",
    "img_pixel = np.array(img)"
   ]
  },
  {
   "cell_type": "code",
   "execution_count": 3,
   "metadata": {},
   "outputs": [],
   "source": [
    "height, width, channel = img_pixel.shape"
   ]
  },
  {
   "cell_type": "code",
   "execution_count": 4,
   "metadata": {},
   "outputs": [],
   "source": [
    "error_id = []\n",
    "def check(input1, input2):\n",
    "    global error_id\n",
    "    error_id = []\n",
    "    sum = 0\n",
    "    for i in range(len(input1)):\n",
    "        for j in range(len(input1[0])):\n",
    "            if np.abs(input1[i][j]-input2[i][j])!=0:\n",
    "                error_id.append([i,j])\n",
    "            sum+=np.abs(input1[i][j]-input2[i][j])\n",
    "    return sum"
   ]
  },
  {
   "cell_type": "code",
   "execution_count": 5,
   "metadata": {},
   "outputs": [],
   "source": [
    "def check_avg(input1, input2):\n",
    "    sum = 0\n",
    "    count = 0\n",
    "    for i in range(len(input1)):\n",
    "        for j in range(len(input1[0])):\n",
    "            sum+=np.abs(input1[i][j]-input2[i][j])\n",
    "            count+=1\n",
    "    return sum/count"
   ]
  },
  {
   "cell_type": "code",
   "execution_count": 6,
   "metadata": {},
   "outputs": [],
   "source": [
    "def print_array(arr):\n",
    "    for r in range(len(arr)):\n",
    "        for c in range(len(arr[0])):\n",
    "            print(arr[r][c], end='\\t')\n",
    "        print()"
   ]
  },
  {
   "cell_type": "code",
   "execution_count": 7,
   "metadata": {},
   "outputs": [],
   "source": [
    "def gray_scale(input, channel):\n",
    "    if channel==1:\n",
    "        return\n",
    "    return 0.299*input[:,:,0]+0.587*input[:,:,1]+0.114*input[:,:,2]"
   ]
  },
  {
   "cell_type": "code",
   "execution_count": 8,
   "metadata": {},
   "outputs": [],
   "source": [
    "gray = gray_scale(img_pixel, channel)\n",
    "gray = [[np.rint(e) for e in row] for row in gray]"
   ]
  },
  {
   "cell_type": "code",
   "execution_count": 9,
   "metadata": {},
   "outputs": [],
   "source": [
    "filter_x = [[-1, 0, 1]]\n",
    "filterx_size = (1,3)\n",
    "filter_y = [[-1],\n",
    "            [0],\n",
    "            [1]]\n",
    "filtery_size = (3, 1)"
   ]
  },
  {
   "cell_type": "code",
   "execution_count": 10,
   "metadata": {},
   "outputs": [],
   "source": [
    "def convolution(input, width, height, filter, filter_size):\n",
    "    output = []\n",
    "    for h in range(height):\n",
    "        row = []\n",
    "        for w in range(width):\n",
    "            current_sum = 0\n",
    "            for f_r in range(filter_size[0]):\n",
    "                for f_c in range(filter_size[1]):\n",
    "                    pixel_r = h - int(filter_size[0]/2) + f_r\n",
    "                    pixel_c = w - int(filter_size[1]/2) + f_c\n",
    "                    pixel_r = min(max(0, pixel_r), height - 1)\n",
    "                    pixel_c = min(max(0, pixel_c), width - 1)\n",
    "                    current_sum += filter[f_r][f_c] * input[pixel_r][pixel_c]\n",
    "            row.append(current_sum)\n",
    "        output.append(row)\n",
    "    return output"
   ]
  },
  {
   "cell_type": "code",
   "execution_count": 11,
   "metadata": {},
   "outputs": [],
   "source": [
    "gradient_x = convolution(gray, width, height, filter_x, filterx_size)\n",
    "gradient_y = convolution(gray, width, height, filter_y, filtery_size)"
   ]
  },
  {
   "cell_type": "code",
   "execution_count": 12,
   "metadata": {},
   "outputs": [],
   "source": [
    "gradient_x = np.array(gradient_x)\n",
    "gradient_y = np.array(gradient_y)"
   ]
  },
  {
   "cell_type": "code",
   "execution_count": 13,
   "metadata": {},
   "outputs": [],
   "source": [
    "gradient_x = gradient_x.astype('float32')\n",
    "gradient_y = gradient_y.astype('float32')"
   ]
  },
  {
   "cell_type": "code",
   "execution_count": 14,
   "metadata": {},
   "outputs": [],
   "source": [
    "my_magnitude = np.sqrt(np.square(gradient_x) + np.square(gradient_y))"
   ]
  },
  {
   "cell_type": "code",
   "execution_count": 15,
   "metadata": {},
   "outputs": [
    {
     "data": {
      "text/plain": [
       "array([[ 1.       ,  1.       ,  1.       , ...,  2.236068 ,  4.1231055,\n",
       "         3.       ],\n",
       "       [ 1.       ,  1.       ,  1.       , ...,  3.1622777,  3.1622777,\n",
       "         2.       ],\n",
       "       [ 0.       ,  0.       ,  0.       , ...,  2.       ,  3.       ,\n",
       "         2.       ],\n",
       "       ...,\n",
       "       [ 6.0827627, 12.206555 , 10.770329 , ...,  2.       ,  5.0990195,\n",
       "         4.1231055],\n",
       "       [ 9.433981 , 15.652476 ,  9.486833 , ...,  2.       ,  5.       ,\n",
       "         4.       ],\n",
       "       [ 8.5440035, 14.3178215,  5.       , ...,  2.       ,  5.       ,\n",
       "         4.       ]], dtype=float32)"
      ]
     },
     "execution_count": 15,
     "metadata": {},
     "output_type": "execute_result"
    }
   ],
   "source": [
    "my_magnitude"
   ]
  },
  {
   "cell_type": "code",
   "execution_count": 16,
   "metadata": {},
   "outputs": [
    {
     "ename": "NameError",
     "evalue": "name 'magnitude' is not defined",
     "output_type": "error",
     "traceback": [
      "\u001b[1;31m---------------------------------------------------------------------------\u001b[0m",
      "\u001b[1;31mNameError\u001b[0m                                 Traceback (most recent call last)",
      "Cell \u001b[1;32mIn[16], line 1\u001b[0m\n\u001b[1;32m----> 1\u001b[0m magnitude\n",
      "\u001b[1;31mNameError\u001b[0m: name 'magnitude' is not defined"
     ]
    }
   ],
   "source": [
    "magnitude"
   ]
  },
  {
   "cell_type": "code",
   "execution_count": 17,
   "metadata": {},
   "outputs": [],
   "source": [
    "my_direction = np.rad2deg(np.arctan(np.array(gradient_y), np.array(gradient_x))) % 180"
   ]
  },
  {
   "cell_type": "code",
   "execution_count": 18,
   "metadata": {},
   "outputs": [],
   "source": [
    "t2 = np.rad2deg(np.arctan2(gradient_y,gradient_x)) % 180"
   ]
  },
  {
   "cell_type": "code",
   "execution_count": 19,
   "metadata": {},
   "outputs": [
    {
     "data": {
      "text/plain": [
       "array([[ 90.      ,  90.      ,  90.      , ...,  26.565048,  14.036255,\n",
       "          0.      ],\n",
       "       [ 90.      ,  90.      ,  90.      , ...,  18.434952,  18.434952,\n",
       "          0.      ],\n",
       "       [  0.      ,   0.      ,   0.      , ...,   0.      ,   0.      ,\n",
       "          0.      ],\n",
       "       ...,\n",
       "       [  9.462326,  34.992035,  68.1986  , ...,   0.      , 168.69006 ,\n",
       "         14.036255],\n",
       "       [ 32.0054  ,  26.565048,  71.565056, ...,   0.      ,   0.      ,\n",
       "          0.      ],\n",
       "       [ 20.55606 ,  12.094772,  36.869904, ...,   0.      ,   0.      ,\n",
       "          0.      ]], dtype=float32)"
      ]
     },
     "execution_count": 19,
     "metadata": {},
     "output_type": "execute_result"
    }
   ],
   "source": [
    "t2"
   ]
  },
  {
   "cell_type": "code",
   "execution_count": 70,
   "metadata": {},
   "outputs": [
    {
     "data": {
      "text/plain": [
       "89.99994752544828"
      ]
     },
     "execution_count": 70,
     "metadata": {},
     "output_type": "execute_result"
    }
   ],
   "source": [
    "check_avg(t2, t)"
   ]
  },
  {
   "cell_type": "code",
   "execution_count": 41,
   "metadata": {},
   "outputs": [
    {
     "data": {
      "text/plain": [
       "array([[5.79833984e-04, 5.79833984e-04, 5.79833984e-04, ...,\n",
       "        1.16565163e+02, 1.04036278e+02, 9.00000000e+01],\n",
       "       [5.79833984e-04, 5.79833984e-04, 5.79833984e-04, ...,\n",
       "        1.08435005e+02, 1.08435005e+02, 9.00000000e+01],\n",
       "       [9.00000000e+01, 9.00000000e+01, 9.00000000e+01, ...,\n",
       "        9.00000000e+01, 9.00000000e+01, 9.00000000e+01],\n",
       "       ...,\n",
       "       [9.94623337e+01, 1.24992043e+02, 1.58198639e+02, ...,\n",
       "        9.00000000e+01, 7.86900482e+01, 1.04036278e+02],\n",
       "       [1.22005417e+02, 1.16565063e+02, 1.61565109e+02, ...,\n",
       "        9.00000000e+01, 9.00000000e+01, 9.00000000e+01],\n",
       "       [1.10556068e+02, 1.02094765e+02, 1.26869965e+02, ...,\n",
       "        9.00000000e+01, 9.00000000e+01, 9.00000000e+01]], dtype=float32)"
      ]
     },
     "execution_count": 41,
     "metadata": {},
     "output_type": "execute_result"
    }
   ],
   "source": [
    "orientation"
   ]
  },
  {
   "cell_type": "code",
   "execution_count": 69,
   "metadata": {},
   "outputs": [
    {
     "data": {
      "text/plain": [
       "array([[5.79833984e-04, 5.79833984e-04, 5.79833984e-04, ...,\n",
       "        1.16565163e+02, 1.04036278e+02, 9.00000000e+01],\n",
       "       [5.79833984e-04, 5.79833984e-04, 5.79833984e-04, ...,\n",
       "        1.08435005e+02, 1.08435005e+02, 9.00000000e+01],\n",
       "       [9.00000000e+01, 9.00000000e+01, 9.00000000e+01, ...,\n",
       "        9.00000000e+01, 9.00000000e+01, 9.00000000e+01],\n",
       "       ...,\n",
       "       [9.94623337e+01, 1.24992043e+02, 1.58198639e+02, ...,\n",
       "        9.00000000e+01, 7.86900482e+01, 1.04036278e+02],\n",
       "       [1.22005417e+02, 1.16565063e+02, 1.61565109e+02, ...,\n",
       "        9.00000000e+01, 9.00000000e+01, 9.00000000e+01],\n",
       "       [1.10556068e+02, 1.02094765e+02, 1.26869965e+02, ...,\n",
       "        9.00000000e+01, 9.00000000e+01, 9.00000000e+01]], dtype=float32)"
      ]
     },
     "execution_count": 69,
     "metadata": {},
     "output_type": "execute_result"
    }
   ],
   "source": [
    "t = np.arctan(np.divide(dy, dx+0.00001)) # radian\n",
    "t = np.degrees(t) # -90 -> 90\n",
    "t += 90 # 0 -> 180\n",
    "t"
   ]
  },
  {
   "cell_type": "code",
   "execution_count": 20,
   "metadata": {},
   "outputs": [
    {
     "name": "stdout",
     "output_type": "stream",
     "text": [
      "0.0\n",
      "0.0\n",
      "0.0\n",
      "267346259.72069168\n"
     ]
    },
    {
     "name": "stderr",
     "output_type": "stream",
     "text": [
      "C:\\Users\\lminh\\AppData\\Local\\Temp\\ipykernel_14876\\1287362113.py:44: RuntimeWarning: invalid value encountered in divide\n",
      "  feature_tensor[by, bx, :] = v / LA.norm(v, 2)\n"
     ]
    },
    {
     "name": "stdout",
     "output_type": "stream",
     "text": [
      "Feature size: (2038176,)\n",
      "Features (HOG): [0.36273813 0.         0.         ... 0.         0.         0.        ]\n"
     ]
    }
   ],
   "source": [
    "cell_size = 8\n",
    "block_size = 2\n",
    "bins = 9\n",
    "gray = np.array(gray)\n",
    "img = gray.astype(np.uint8)\n",
    "h, w = gray.shape\n",
    "xkernel = np.array([[-1, 0, 1]])\n",
    "ykernel = np.array([[-1], [0], [1]])\n",
    "dx = cv2.filter2D(img, cv2.CV_32F, xkernel, borderType = cv2.BORDER_REPLICATE)\n",
    "print(check(dx, gradient_x))\n",
    "dy = cv2.filter2D(img, cv2.CV_32F, ykernel, borderType = cv2.BORDER_REPLICATE)\n",
    "print(check(dy, gradient_y))\n",
    "magnitude = np.sqrt(np.square(dx) + np.square(dy))\n",
    "print(check(magnitude, my_magnitude))\n",
    "orientation = np.arctan(np.divide(dy, dx+0.00001)) # radian\n",
    "orientation = np.degrees(orientation) # -90 -> 90\n",
    "orientation += 90 # 0 -> 180\n",
    "print(check(orientation, my_direction))\n",
    "\n",
    "num_cell_x = w // cell_size # 8\n",
    "num_cell_y = h // cell_size # 16\n",
    "hist_tensor = np.zeros([num_cell_y, num_cell_x, bins]) # 16 x 8 x 9\n",
    "for cx in range(num_cell_x):\n",
    "    for cy in range(num_cell_y):\n",
    "        ori = orientation[cy*cell_size:cy*cell_size+cell_size, cx*cell_size:cx*cell_size+cell_size]\n",
    "        mag = magnitude[cy*cell_size:cy*cell_size+cell_size, cx*cell_size:cx*cell_size+cell_size]\n",
    "        hist, _ = np.histogram(ori, bins=bins, range=(0, 180), weights=mag) # 1-D vector, 9 elements\n",
    "        hist_tensor[cy, cx, :] = hist\n",
    "    pass\n",
    "pass\n",
    "    # normalization\n",
    "redundant_cell = block_size-1\n",
    "feature_tensor = np.zeros([num_cell_y-redundant_cell, num_cell_x-redundant_cell, block_size*block_size*bins])\n",
    "for bx in range(num_cell_x-redundant_cell): # 7\n",
    "    for by in range(num_cell_y-redundant_cell): # 15\n",
    "        by_from = by\n",
    "        by_to = by+block_size\n",
    "        bx_from = bx\n",
    "        bx_to = bx+block_size\n",
    "        v = hist_tensor[by_from:by_to, bx_from:bx_to, :].flatten() # to 1-D array (vector)\n",
    "        feature_tensor[by, bx, :] = v / LA.norm(v, 2)\n",
    "        # avoid NaN:\n",
    "        if np.isnan(feature_tensor[by, bx, :]).any(): # avoid NaN (zero division)\n",
    "            feature_tensor[by, bx, :] = v\n",
    "    \n",
    "f = feature_tensor.flatten() # 3780 features\n",
    "print('Feature size:', f.shape)\n",
    "print('Features (HOG):', f)"
   ]
  },
  {
   "cell_type": "code",
   "execution_count": 22,
   "metadata": {},
   "outputs": [
    {
     "data": {
      "text/plain": [
       "list"
      ]
     },
     "execution_count": 22,
     "metadata": {},
     "output_type": "execute_result"
    }
   ],
   "source": [
    "type(gradient_x)"
   ]
  }
 ],
 "metadata": {
  "kernelspec": {
   "display_name": "cuda",
   "language": "python",
   "name": "python3"
  },
  "language_info": {
   "codemirror_mode": {
    "name": "ipython",
    "version": 3
   },
   "file_extension": ".py",
   "mimetype": "text/x-python",
   "name": "python",
   "nbconvert_exporter": "python",
   "pygments_lexer": "ipython3",
   "version": "3.11.0"
  },
  "orig_nbformat": 4
 },
 "nbformat": 4,
 "nbformat_minor": 2
}

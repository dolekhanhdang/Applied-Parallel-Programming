{
  "nbformat": 4,
  "nbformat_minor": 0,
  "metadata": {
    "colab": {
      "provenance": [],
      "history_visible": true
    },
    "kernelspec": {
      "name": "python3",
      "display_name": "Python 3"
    },
    "language_info": {
      "name": "python"
    },
    "gpuClass": "standard",
    "accelerator": "GPU"
  },
  "cells": [
    {
      "cell_type": "markdown",
      "source": [
        "## Thư viện"
      ],
      "metadata": {
        "id": "OjmjUW4dOWr2"
      }
    },
    {
      "cell_type": "code",
      "execution_count": 1,
      "metadata": {
        "id": "40ygIDXEhjav"
      },
      "outputs": [],
      "source": [
        "import pandas as pd\n",
        "import numpy as np\n",
        "import matplotlib.pyplot as plt\n",
        "import math\n",
        "from numba import cuda"
      ]
    },
    {
      "cell_type": "markdown",
      "source": [
        "## SVM phiên bản tuần tự"
      ],
      "metadata": {
        "id": "wyowt5-EObac"
      }
    },
    {
      "cell_type": "code",
      "source": [
        "# %%writefile SVM.py\n",
        "import numpy as np\n",
        "\n",
        "class SVM():\n",
        "  def __init__(self,C=1.0):\n",
        "    # C error terms\n",
        "    self.C = C\n",
        "    self.w = 0\n",
        "    self.b = 0\n",
        "\n",
        "  # Hinge Loss Function / Calculation\n",
        "  def hingeloss(self, w, b, x, y):\n",
        "    # Regularizer term\n",
        "    reg = 0.5 * (w * w)\n",
        "\n",
        "    for i in range(x.shape[0]):\n",
        "      # Optimization term \n",
        "      opt_term = y[i] * ((np.dot(w, x[i])) + b)\n",
        "\n",
        "      # calculating loss\n",
        "      loss = reg + self.C * max(0, 1-opt_term)\n",
        "    return loss[0][0]\n",
        "\n",
        "  def fit(self, X, Y, batch_size=100, learning_rate=0.001, epochs=1000):\n",
        "    # The number of features in X\n",
        "    number_of_features = X.shape[1]\n",
        "\n",
        "    # The number of Samples in X\n",
        "    number_of_samples = X.shape[0]\n",
        "\n",
        "    c = self.C\n",
        "\n",
        "    # Creating ids from 0 to number_of_samples - 1\n",
        "    ids = np.arange(number_of_samples)\n",
        "\n",
        "    # Shuffling the samples randomly\n",
        "    np.random.shuffle(ids)\n",
        "\n",
        "    # creating an array of zeros\n",
        "    w = np.zeros((1, number_of_features))\n",
        "    b = 0\n",
        "    losses = []\n",
        "\n",
        "    # Gradient Descent logic\n",
        "    for i in range(epochs):\n",
        "      # Calculating the Hinge Loss\n",
        "      l = self.hingeloss(w, b, X, Y)\n",
        "\n",
        "      # Appending all losses \n",
        "      losses.append(l)\n",
        "      \n",
        "      # Starting from 0 to the number of samples with batch_size as interval\n",
        "      # loop in each batch\n",
        "      for batch_initial in range(0, number_of_samples, batch_size):\n",
        "        gradw = 0\n",
        "        gradb = 0\n",
        "\n",
        "        # for every element in the batch\n",
        "        for j in range(batch_initial, batch_initial + batch_size):\n",
        "          if j < number_of_samples:\n",
        "            x = ids[j]\n",
        "            ti = Y[x] * (np.dot(w, X[x].T) + b)\n",
        "\n",
        "            if ti > 1:\n",
        "              gradw += 0\n",
        "              gradb += 0\n",
        "            else:\n",
        "              # Calculating the gradients\n",
        "              #w.r.t w \n",
        "              gradw += c * Y[x] * X[x]\n",
        "              # w.r.t b\n",
        "              gradb += c * Y[x]\n",
        "\n",
        "        # Updating weights and bias\n",
        "        w = w - learning_rate * w + learning_rate * gradw\n",
        "        b = b + learning_rate * gradb\n",
        "\n",
        "    self.w = w\n",
        "    self.b = b\n",
        "\n",
        "    return self.w, self.b, losses\n",
        "        \n",
        "  def predict(self, X):\n",
        "    prediction = np.dot(X, self.w[0]) + self.b # w.x + b\n",
        "    return np.sign(prediction)"
      ],
      "metadata": {
        "id": "JaLbkQ21hpPY"
      },
      "execution_count": 2,
      "outputs": []
    },
    {
      "cell_type": "markdown",
      "source": [
        "## SVM phiên bản song song"
      ],
      "metadata": {
        "id": "1ng70wvvOhh-"
      }
    },
    {
      "cell_type": "markdown",
      "source": [
        "## Hàm hỗ trợ"
      ],
      "metadata": {
        "id": "VVsn6H-QqMoo"
      }
    },
    {
      "cell_type": "code",
      "source": [
        "from numba import cuda\n",
        "import math\n",
        "import numpy as np\n",
        "\n",
        "# add number to every element in vector\n",
        "@cuda.jit\n",
        "def add_num_vec_kernel(num,vec,out):\n",
        "    ids = cuda.grid(1)\n",
        "\n",
        "    if ids < vec.shape[0]:\n",
        "        out[ids] = vec[ids] + num\n",
        "\n",
        "# multiply a number with a vector\n",
        "@cuda.jit\n",
        "def mul_num_vec_kernel(num,vec,out):\n",
        "    ids = cuda.grid(1)\n",
        "    if ids < vec.shape[0]:\n",
        "        out[ids] = vec[ids] * num\n",
        "\n",
        "# add two vectors\n",
        "@cuda.jit\n",
        "def add_vec_vec_kernel(vec1,vec2,out):\n",
        "    ids = cuda.grid(1)\n",
        "    if ids < vec1.shape[0]:\n",
        "        out[ids] = vec1[ids] + vec2[ids]\n",
        "\n",
        "@cuda.jit\n",
        "def mul_num_row_mat_kernel(num,mat,out,row):\n",
        "    ids = cuda.grid(1)\n",
        "    if ids < out.shape[0]:\n",
        "        out[ids] = mat[row][ids] * num\n",
        "\n",
        "@cuda.jit\n",
        "def mul_num_col_mat_kernel(num,mat,out,col):\n",
        "    ids = cuda.grid(1)\n",
        "    if ids < out.shape[0]:\n",
        "        out[ids] = mat[ids][col] * num\n",
        "\n",
        "# add vector to matrix element-wise in every row\n",
        "@cuda.jit\n",
        "def add_vec_mat_kernel(vec,mat,out):\n",
        "    row, col = cuda.grid(2)\n",
        "    if row < mat.shape[0] and col < mat.shape[1]:\n",
        "        out[row][col] = vec[col] - mat[row][col]\n",
        "\n",
        "# add number to every element in matrix\n",
        "@cuda.jit\n",
        "def add_num_mat_kernel(num,arr,out):\n",
        "    row,col = cuda.grid(2)\n",
        "    if (row < arr.shape[0]) and (col < arr.shape[1]):\n",
        "        out[row][col] = arr[row][col] + num\n",
        "\n",
        "# multiply a number with a matrix element-wise\n",
        "@cuda.jit\n",
        "def mul_num_mat_kernel(num,arr,out):\n",
        "    row,col = cuda.grid(2)\n",
        "    if (row < arr.shape[0]) and (col < arr.shape[1]):\n",
        "        out[row][col] = arr[row][col] * num\n",
        "\n",
        "\n",
        "# function to multiply 2 matrix element wise\n",
        "@cuda.jit\n",
        "def mul_mat_mat_kernel(arr1,arr2,out):\n",
        "    row,col = cuda.grid(2)\n",
        "\n",
        "    if (row < arr1.shape[0]) and (col < arr1.shape[1]):\n",
        "        out[row][col] = arr1[row][col] * arr2[row][col]\n",
        "\n",
        "\n",
        "# function to add matrix element wise\n",
        "@cuda.jit\n",
        "def add_mat_mat_kernel(arr1,arr2,out):\n",
        "    row,col = cuda.grid(2)\n",
        "\n",
        "    if (row < arr1.shape[0]) and (col < arr1.shape[1]):\n",
        "        out[row][col] = arr1[row][col] + arr2[row][col]\n",
        "\n",
        "\n",
        "@cuda.jit\n",
        "def dot_product_kernel(arr1,arr2,out):\n",
        "    row,col = cuda.grid(2)\n",
        "    if row < out.shape[0] and col < out.shape[1]:\n",
        "        sum = 0\n",
        "        for i in range(arr1.shape[1]):\n",
        "            sum += arr1[row,i] * arr2[i,col]\n",
        "\n",
        "    out[row,col] = sum\n",
        "\n",
        "@cuda.jit\n",
        "def dot_product_vec_row_mat_kernel(vec,mat,row, out):\n",
        "    ids = cuda.grid(1)\n",
        "    if ids < vec.shape[0]:\n",
        "        out += vec[ids] * mat[row][ids]\n",
        "\n",
        "\n",
        "# @cuda.jit\n",
        "# def dot_product_mat_mat_row_kernel(mat1,mat2,out)\n",
        "\n",
        "# cuda.jit\n",
        "# def one_dot_product_kernel(arr1,arr2,out):\n",
        "#    ids = cuda.grid(1)\n",
        "#    if ids < arr2.shape[0]:\n",
        "#        sum = 0\n",
        "\n",
        "\n",
        "## Call kernel\n",
        "# add a number to vector element-wise\n",
        "def add_num_vec_device(num,d_arr, d_out, block_size = 32):\n",
        "    grid_size = math.ceil(d_arr.shape[0] / block_size)\n",
        "    add_num_vec_kernel[grid_size,block_size](num,d_arr,d_out)\n",
        "\n",
        "# multiply a number with a vector\n",
        "def mul_num_vec_device(num,d_arr, d_out, block_size = 32):\n",
        "    grid_size = math.ceil(d_arr.shape[0] / block_size)\n",
        "    mul_num_vec_kernel[grid_size,block_size](num,d_arr,d_out)\n",
        "\n",
        "# add two vectors\n",
        "def add_vec_vec_device(d_vec1,d_vec2,d_out,block_size = 32):\n",
        "    grid_size = math.ceil(d_vec1.shape[0] / block_size)\n",
        "    add_vec_vec_kernel[grid_size,block_size](d_vec1,d_vec2,d_out)\n",
        "\n",
        "# add a number to matrix element-wise\n",
        "def add_num_mat_device(num,d_arr, d_out, block_size = (32,32)):\n",
        "    grid_size = (math.ceil(d_arr.shape[0] / block_size[0]),\n",
        "             math.ceil(d_arr.shape[1] / block_size[1]))\n",
        "    add_num_mat_kernel[grid_size,block_size](num,d_arr,d_out)\n",
        "\n",
        "# multiply a number to matrix element-wise\n",
        "def mul_num_mat_device(num,d_arr, d_out, block_size = (32,32)):\n",
        "    grid_size = (math.ceil(d_arr.shape[0] / block_size[0]),\n",
        "             math.ceil(d_arr.shape[1] / block_size[1]))\n",
        "    mul_num_mat_kernel[grid_size,block_size](num,d_arr,d_out)\n",
        "\n",
        "# multiply a row or column in a matrix with a number\n",
        "def mul_num_one_rc_mat_device(num,d_arr,d_out,row=None,col=None,block_size=32):\n",
        "    grid_size = math.ceil(d_arr.shape[0] / block_size)\n",
        "    if row is not None:\n",
        "        mul_num_row_mat_kernel[grid_size,block_size](num,d_arr,d_out,row)\n",
        "\n",
        "    if col is not None:\n",
        "        mul_num_col_mat_kernel[grid_size,block_size](num,d_arr,d_out,col)\n",
        "\n",
        "# add two matrices\n",
        "def add_mat_mat_device(d_arr1,d_arr2,d_out,block_size=(32,32)):\n",
        "    grid_size = (math.ceil(d_arr1.shape[0] / block_size[0]),\n",
        "             math.ceil(d_arr1.shape[1] / block_size[1]))\n",
        "    add_mat_mat_kernel[grid_size,block_size](d_arr1,d_arr2,d_out)\n",
        "\n",
        "# multiply two matrices element-wise\n",
        "def mul_mat_mat_device(d_arr1,d_arr2,d_out,block_size=(32,32)):\n",
        "    grid_size = ( math.ceil( d_arr1.shape[0] / block_size[0] ),\n",
        "             math.ceil( d_arr1.shape[1] / block_size[1]) )\n",
        "\n",
        "    mul_mat_mat_kernel[grid_size,block_size](d_arr1,d_arr2,d_out)\n",
        "\n",
        "# dot product of two matrices\n",
        "def dot_product_device(d_arr1,d_arr2,d_out,block_size=(32,32)):\n",
        "    grid_size = (math.ceil(d_arr1.shape[0] / block_size[0]),\n",
        "             math.ceil(d_arr2.shape[1] / block_size[1]))\n",
        "    dot_product_kernel[grid_size,block_size](d_arr1,d_arr2,d_out)\n",
        "\n",
        "def dot_product_vec_row_mat_device(d_vec,d_mat,row,out,block_size=32):\n",
        "    grid_size = math.ceil(d_vec.shape[0] / block_size)\n",
        "    dot_product_vec_row_mat_kernel[grid_size,block_size](d_vec,d_mat,row,out)\n",
        "    \n",
        "def add_vec_mat_device(d_vec,d_mat,d_out,block_size=(32,32)):\n",
        "    grid_size = (math.ceil(d_mat.shape[0] / block_size[0]),\n",
        "             math.ceil(d_mat.shape[1] / block_size[1]))\n",
        "    add_vec_mat_kernel[grid_size,block_size](d_vec,d_mat,d_out)"
      ],
      "metadata": {
        "id": "uD_3jqacqPV6"
      },
      "execution_count": 3,
      "outputs": []
    },
    {
      "cell_type": "code",
      "source": [
        "@cuda.jit\n",
        "def mul_vec_vec_kernel(vec1,vec2,out):\n",
        "  ids = cuda.grid(1)\n",
        "  if ids < vec1.shape[0]:\n",
        "    out[ids] = vec1[ids] * vec2[ids]\n",
        "\n",
        "def mul_vec_vec_device(d_vec1,d_vec2, d_out,block_size=32):\n",
        "  grid_size = math.ceil(d_vec1.shape[0] / block_size)\n",
        "  mul_vec_vec_kernel[grid_size,block_size](d_vec1,d_vec2,d_out)"
      ],
      "metadata": {
        "id": "qluxQcoMHvz3"
      },
      "execution_count": 4,
      "outputs": []
    },
    {
      "cell_type": "markdown",
      "source": [
        "### Hàm Hinge Loss"
      ],
      "metadata": {
        "id": "Uo-8dv0UO43p"
      }
    },
    {
      "cell_type": "code",
      "source": [
        "def hingeloss(w, b, x, y):\n",
        "    # Regularizer term\n",
        "    reg = 0.5 * (w * w)\n",
        "\n",
        "    for i in range(x.shape[0]):\n",
        "      # Optimization term\n",
        "      opt_term = y[i] * ((np.dot(w, x[i])) + b)\n",
        "\n",
        "      # calculating loss\n",
        "      loss = reg + C * max(0, 1-opt_term)\n",
        "    return loss[0][0]"
      ],
      "metadata": {
        "id": "OOCfwolgIOAa"
      },
      "execution_count": 19,
      "outputs": []
    },
    {
      "cell_type": "code",
      "source": [
        "def hingeloss_device(d_w, b, d_x, y,d_reg,d_loss):\n",
        "  # Regularizer term\n",
        "  # reg = 0.5 * w * w\n",
        "  mul_vec_vec_device(d_w,d_w,d_reg)\n",
        "  mul_num_vec_device(0.5, d_reg,d_reg)\n",
        "\n",
        "  for i in range(d_x.shape[0]):\n",
        "    # Optimization term\n",
        "    # opt_term = y[i] * ((np.dot(w, x[i])) + b)\n",
        "    # dot_pro = np.dot(w,x[i]) + b\n",
        "    dot_pro = 0\n",
        "    dot_product_vec_row_mat_device(d_w,d_x,i,dot_pro)\n",
        "\n",
        "    opt_term = y[i] * (dot_pro + b)\n",
        "    error_term = C * max(0, 1 - opt_term)\n",
        "\n",
        "    # calculating loss\n",
        "    # loss = reg + C * max(0, 1-opt_term)\n",
        "    add_num_vec_device(error_term,d_reg,d_loss)\n",
        "    \n",
        "    return d_loss.copy_to_host()[0]"
      ],
      "metadata": {
        "id": "btE1NVttPDMn"
      },
      "execution_count": 14,
      "outputs": []
    },
    {
      "cell_type": "markdown",
      "source": [
        "### Hàm train model"
      ],
      "metadata": {
        "id": "PmCKF3q8PYYl"
      }
    },
    {
      "cell_type": "code",
      "source": [
        "C = 1.0\n",
        "def fit_device(X, Y, batch_size=100, learning_rate=0.001, epochs=1000):\n",
        "    # The number of features in X\n",
        "    number_of_features = X.shape[1]\n",
        "\n",
        "    # The number of Samples in X\n",
        "    number_of_samples = X.shape[0]\n",
        "\n",
        "    c = C\n",
        "\n",
        "    # Creating ids from 0 to number_of_samples - 1\n",
        "    ids = np.arange(number_of_samples)\n",
        "\n",
        "    # Shuffling the samples randomly\n",
        "    np.random.shuffle(ids)\n",
        "\n",
        "    # creating an array of zeros\n",
        "    w = np.zeros(number_of_features)\n",
        "    b = 0\n",
        "    losses = []\n",
        "\n",
        "    # device memory \n",
        "    d_temp = cuda.device_array(number_of_features)\n",
        "    \n",
        "    d_w = cuda.to_device(w)\n",
        "\n",
        "    d_x = cuda.to_device(X)\n",
        "    \n",
        "    d_reg = cuda.device_array(w.shape)\n",
        "    d_loss = cuda.device_array(w.shape)\n",
        "\n",
        "    # Gradient Descent logic\n",
        "    # epochs\n",
        "    for i in range(epochs):\n",
        "      # Calculating the Hinge Loss\n",
        "      l = hingeloss_device(d_w,b, d_x, Y,d_reg,d_loss)\n",
        "\n",
        "      # Appending all losses \n",
        "      losses.append(l)\n",
        "      \n",
        "      # mini - batch\n",
        "      # Starting from 0 to the number of samples with batch_size as interval\n",
        "      # gradient in each batch -> use this gradient to update w, b\n",
        "      for batch_initial in range(0, number_of_samples, batch_size):\n",
        "        # gradw = 0\n",
        "        gradb = 0\n",
        "        d_gradw = cuda.to_device(np.zeros(number_of_features))\n",
        "\n",
        "        for j in range(batch_initial, batch_initial + batch_size):\n",
        "          if j < number_of_samples:\n",
        "            x = ids[j]\n",
        "            # dot_product = cuda.device_array(np.zeros(1))\n",
        "            dot_product = 0.0\n",
        "            # ti = Y[x] * (np.dot(w, X[x].T) + b)\n",
        "            dot_product_vec_row_mat_device(d_w,d_x,x,dot_product)\n",
        "            ti = Y[x] * (dot_product + b)\n",
        "\n",
        "            if ti < 1:\n",
        "              # Calculating the gradients\n",
        "              #w.r.t w \n",
        "              # gradw += c * Y[x] * X[x]\n",
        "              num_val = c * Y[x]\n",
        "              mul_num_one_rc_mat_device(num_val,d_x,d_temp,row=x)\n",
        "              add_vec_vec_device(d_temp,d_gradw,d_gradw)\n",
        "\n",
        "              # w.r.t b\n",
        "              gradb += c * Y[x]\n",
        "\n",
        "        # Updating weights and bias\n",
        "        # w = w - learning_rate * w + learning_rate * gradw\n",
        "\n",
        "        # w = w * (1 - learning_rate) + learning_rate * gradw\n",
        "\n",
        "        mul_num_vec_device(1 - learning_rate,d_w,d_temp)\n",
        "        mul_num_vec_device(learning_rate,d_gradw,d_gradw)\n",
        "        add_vec_vec_device(d_w,d_gradw,d_w)\n",
        "        \n",
        "       \n",
        "\n",
        "        b = b + learning_rate * gradb\n",
        "\n",
        "    w = d_w.copy_to_host()\n",
        "    return w, b, losses"
      ],
      "metadata": {
        "id": "V9Ihd966Par0"
      },
      "execution_count": 15,
      "outputs": []
    },
    {
      "cell_type": "code",
      "source": [
        "# import numpy as np\n",
        "# w = np.array([[1,2,3,4,5]])\n",
        "# C = 1.0\n",
        "# gradw = C * -1 * np.array([4,5,6,7,8])\n",
        "# alpha = 0.5\n",
        "\n",
        "# w - alpha * w + alpha * gradw\n"
      ],
      "metadata": {
        "id": "2bjVXnuVGix9"
      },
      "execution_count": null,
      "outputs": []
    },
    {
      "cell_type": "markdown",
      "source": [
        "### Hàm predict"
      ],
      "metadata": {
        "id": "hVT8THFoE2CS"
      }
    },
    {
      "cell_type": "code",
      "source": [
        "def predict(w,b,X):\n",
        "\n",
        "    prediction = np.dot(X, w) + b # w.x + b\n",
        "    return np.sign(prediction)"
      ],
      "metadata": {
        "id": "MT-FmIP5E4E7"
      },
      "execution_count": 6,
      "outputs": []
    },
    {
      "cell_type": "code",
      "source": [
        "from sklearn import datasets\n",
        "import matplotlib.pyplot as plt\n",
        "import numpy as np\n",
        "from sklearn.metrics import accuracy_score\n",
        "from sklearn.model_selection import train_test_split\n",
        "# from SVM import SVM\n",
        "# from parallel_SVM import parallel_SVM\n",
        "\n",
        "# Creating dataset\n",
        "X, y = datasets.make_blobs(\n",
        "\n",
        "        n_samples = 100, # Number of samples\n",
        "        n_features = 2, # Features\n",
        "        centers = 2,\n",
        "        cluster_std = 1,\n",
        "        random_state=40\n",
        "    )\n",
        "\n",
        "# Classes 1 and -1\n",
        "y = np.where(y == 0, -1, 1)"
      ],
      "metadata": {
        "id": "rnTzMWcBYWE1"
      },
      "execution_count": 7,
      "outputs": []
    },
    {
      "cell_type": "code",
      "source": [
        "X_train, X_test, y_train, y_test = train_test_split(X, y, test_size=0.5, random_state=42)"
      ],
      "metadata": {
        "id": "h3v4BizoYWlo"
      },
      "execution_count": 8,
      "outputs": []
    },
    {
      "cell_type": "code",
      "source": [
        "w, b, losses = fit_device(X_train,y_train)"
      ],
      "metadata": {
        "id": "Gb4UXd6AtuQX"
      },
      "execution_count": 16,
      "outputs": []
    },
    {
      "cell_type": "code",
      "source": [
        "prediction = predict(w,b,X_test)\n",
        "\n",
        "# Loss value\n",
        "lss = losses.pop()\n",
        "\n",
        "print(\"Loss:\", lss)\n",
        "print(\"Prediction:\", prediction[:10])\n",
        "print(\"Accuracy:\", accuracy_score(prediction, y_test))\n",
        "print(\"w, b:\", [w, b])"
      ],
      "metadata": {
        "id": "qiT2Z6ujbl0b",
        "colab": {
          "base_uri": "https://localhost:8080/"
        },
        "outputId": "6044e13f-d54e-4245-d4ec-f21207b404ab"
      },
      "execution_count": 17,
      "outputs": [
        {
          "output_type": "stream",
          "name": "stdout",
          "text": [
            "Loss: 13158.940152533234\n",
            "Prediction: [-1.  1. -1. -1.  1.  1.  1.  1. -1.  1.]\n",
            "Accuracy: 1.0\n",
            "w, b: [array([162.34617608, 109.42748303]), -0.9819999999999739]\n"
          ]
        }
      ]
    },
    {
      "cell_type": "code",
      "source": [
        "# Visualizing the scatter plot of the dataset\n",
        "def visualize_dataset():\n",
        "    plt.scatter(X[:, 0], X[:, 1], c=y)\n",
        "\n",
        "\n",
        "# Visualizing SVM\n",
        "def visualize_svm():\n",
        "  def get_hyperplane_value(x, w, b, offset):\n",
        "    return (-w[0] * x + b + offset) / w[1]\n",
        "\n",
        "  fig = plt.figure()\n",
        "  ax = fig.add_subplot(1,1,1)\n",
        "  plt.scatter(X_test[:, 0], X_test[:, 1], marker=\"o\", c=y_test)\n",
        "\n",
        "  x0_1 = np.amin(X_test[:, 0])\n",
        "  x0_2 = np.amax(X_test[:, 0])\n",
        "\n",
        "  x1_1 = get_hyperplane_value(x0_1, w, b, 0)\n",
        "  x1_2 = get_hyperplane_value(x0_2, w, b, 0)\n",
        "\n",
        "  x1_1_m = get_hyperplane_value(x0_1, w, b, -1)\n",
        "  x1_2_m = get_hyperplane_value(x0_2, w, b, -1)\n",
        "\n",
        "  x1_1_p = get_hyperplane_value(x0_1, w, b, 1)\n",
        "  x1_2_p = get_hyperplane_value(x0_2, w, b, 1)\n",
        "\n",
        "  ax.plot([x0_1, x0_2], [x1_1, x1_2], \"y--\")\n",
        "  ax.plot([x0_1, x0_2], [x1_1_m, x1_2_m], \"k\")\n",
        "  ax.plot([x0_1, x0_2], [x1_1_p, x1_2_p], \"k\")\n",
        "\n",
        "  x1_min = np.amin(X[:, 1])\n",
        "  x1_max = np.amax(X[:, 1])\n",
        "  ax.set_ylim([x1_min - 3, x1_max + 3])\n",
        "\n",
        "  plt.show()\n",
        "\n",
        "\n",
        "visualize_dataset()\n",
        "visualize_svm()"
      ],
      "metadata": {
        "id": "rAWHJbFJhiVf",
        "colab": {
          "base_uri": "https://localhost:8080/",
          "height": 845
        },
        "outputId": "dad67d1b-55ad-4c10-9e7e-afbaad60f63c"
      },
      "execution_count": 18,
      "outputs": [
        {
          "output_type": "display_data",
          "data": {
            "text/plain": [
              "<Figure size 640x480 with 1 Axes>"
            ],
            "image/png": "[encoded data removed]"
          },
          "metadata": {}
        },
        {
          "output_type": "display_data",
          "data": {
            "text/plain": [
              "<Figure size 640x480 with 1 Axes>"
            ],
            "image/png": "[encoded data removed]"
          },
          "metadata": {}
        }
      ]
    }
  ]
}

{
  "nbformat": 4,
  "nbformat_minor": 0,
  "metadata": {
    "colab": {
      "provenance": [],
      "gpuType": "T4"
    },
    "kernelspec": {
      "name": "python3",
      "display_name": "Python 3"
    },
    "language_info": {
      "name": "python"
    },
    "accelerator": "GPU",
    "gpuClass": "standard"
  },
  "cells": [
    {
      "cell_type": "markdown",
      "source": [
        "## Thư viện"
      ],
      "metadata": {
        "id": "UmpVbced5oHg"
      }
    },
    {
      "cell_type": "code",
      "execution_count": 1,
      "metadata": {
        "id": "Hd259hefo_ss"
      },
      "outputs": [],
      "source": [
        "import numpy as np\n",
        "from numba import cuda\n",
        "import math\n",
        "import time"
      ]
    },
    {
      "cell_type": "markdown",
      "source": [
        "## Scan - sum"
      ],
      "metadata": {
        "id": "PZrYV2jK5qeZ"
      }
    },
    {
      "cell_type": "code",
      "source": [
        "@cuda.jit\n",
        "def scanBlkKernel(in_arr, n, out_arr, blkSums):\n",
        "  # transfer data from GMEM to SMEM\n",
        "  s_data = cuda.shared.array(0,dtype=np.float32)\n",
        "  i1 = cuda.blockIdx.x * 2 * cuda.blockDim.x + cuda.threadIdx.x\n",
        "  i2 = i1 + cuda.blockDim.x\n",
        "\n",
        "  if(i1 < n):\n",
        "    s_data[cuda.threadIdx.x] = in_arr[i1]\n",
        "  if i2 < n:\n",
        "    s_data[cuda.threadIdx.x + cuda.blockDim.x] = in_arr[i2]\n",
        "  cuda.syncthreads()\n",
        "\n",
        "  # scan on smem\n",
        "  # reduction phase\n",
        "  stride = 1\n",
        "  while stride < 2 * cuda.blockDim.x:\n",
        "    s_dataIdx = (cuda.threadIdx.x + 1) * 2 * stride - 1\n",
        "    if s_dataIdx < 2 * cuda.blockDim.x:\n",
        "      s_data[s_dataIdx] = s_data[s_dataIdx] + s_data[s_dataIdx - stride]\n",
        "    stride *= 2\n",
        "    cuda.syncthreads()\n",
        "\n",
        "  # post reduction phase\n",
        "  stride = cuda.blockDim.x // 2\n",
        "  while stride > 0:\n",
        "    s_dataIdx = (cuda.threadIdx.x + 1) * 2 * stride - 1 + stride\n",
        "    if s_dataIdx < 2 * cuda.blockDim.x:\n",
        "      s_data[s_dataIdx] = s_data[s_dataIdx] + s_data[s_dataIdx - stride]\n",
        "    stride = stride // 2\n",
        "    cuda.syncthreads()\n",
        "    \n",
        "\n",
        "  # write results from smem to gmem\n",
        "  if i1 < n:\n",
        "    out_arr[i1] = s_data[cuda.threadIdx.x]\n",
        "  if i2 < n:\n",
        "    out_arr[i2] = s_data[cuda.threadIdx.x + cuda.blockDim.x]\n",
        "\n",
        "  if (blkSums is not None) and (cuda.threadIdx.x == 0):\n",
        "    blkSums[cuda.blockIdx.x] = s_data[2 * cuda.blockDim.x - 1]\n",
        "    "
      ],
      "metadata": {
        "id": "oglCFMSspKpD"
      },
      "execution_count": 2,
      "outputs": []
    },
    {
      "cell_type": "code",
      "source": [
        "@cuda.jit\n",
        "def addPrevBlk(blkSumsScan, blkScans, n):\n",
        "  i = cuda.blockIdx.x * cuda.blockDim.x + cuda.threadIdx.x + cuda.blockDim.x\n",
        "  if i < n:\n",
        "    blkScans[i] = blkScans[i] + blkSumsScan[cuda.blockIdx.x];"
      ],
      "metadata": {
        "id": "YGhYWI4-1Tli"
      },
      "execution_count": 3,
      "outputs": []
    },
    {
      "cell_type": "code",
      "source": [
        "def scan(in_arr, n , out_arr, use_device=0,blkSize=1):\n",
        "  if use_device == 0:\n",
        "    print(\"Scan by host\")\n",
        "    out_arr[0] = in_arr[0]\n",
        "    for i in range(1,n):\n",
        "      out_arr[i] = out_arr[i - 1] + in_arr[i]  \n",
        "  else:\n",
        "    blkDataSize = 2 * blkSize\n",
        "    d_in_arr = cuda.to_device(in_arr)\n",
        "    d_out_arr = cuda.device_array(n)\n",
        "\n",
        "    gridSize = math.ceil(n / blkDataSize)\n",
        "    if gridSize > 1:\n",
        "      d_blkSums = cuda.device_array(gridSize)\n",
        "    else:\n",
        "      d_blkSums = None\n",
        "    \n",
        "    smem = blkDataSize * 4\n",
        "    scanBlkKernel[gridSize,blkSize,0,smem](d_in_arr,n,d_out_arr,d_blkSums)\n",
        "    cuda.synchronize()\n",
        "\n",
        "    if gridSize > 1:\n",
        "      temp = gridSize\n",
        "      blkSums = d_blkSums.copy_to_host()\n",
        "      for i in range(1,gridSize):\n",
        "        blkSums[i] += blkSums[i-1]\n",
        "      d_blkSums = cuda.to_device(blkSums)\n",
        "      addPrevBlk[gridSize - 1, blkDataSize](d_blkSums,d_out_arr,n)\n",
        "      cuda.synchronize()\n",
        "      return d_out_arr.copy_to_host()\n",
        "\n"
      ],
      "metadata": {
        "id": "cm9tQoDz1V-E"
      },
      "execution_count": 4,
      "outputs": []
    },
    {
      "cell_type": "code",
      "source": [
        "n = 480000\n",
        "in_arr = np.random.rand(n)\n",
        "\n",
        "blockSize = 256\n",
        "correctOut = np.zeros(n)\n",
        "start = time.time()\n",
        "scan(in_arr,n,correctOut,0)\n",
        "end = time.time()\n",
        "print(f\"Processing time: {end - start} s\")"
      ],
      "metadata": {
        "colab": {
          "base_uri": "https://localhost:8080/"
        },
        "id": "LrJ31QigKnwz",
        "outputId": "dbc09e0a-49ff-4c8c-e144-840f82055755"
      },
      "execution_count": 5,
      "outputs": [
        {
          "output_type": "stream",
          "name": "stdout",
          "text": [
            "Scan by host\n",
            "Processing time: 0.13895606994628906 s\n"
          ]
        }
      ]
    },
    {
      "cell_type": "code",
      "source": [
        "out = np.zeros(n)\n",
        "\n",
        "start = time.time()\n",
        "out = scan(in_arr,n,out,1,256)\n",
        "end = time.time()\n",
        "print(f\"Processing time: {end - start} s\")"
      ],
      "metadata": {
        "colab": {
          "base_uri": "https://localhost:8080/"
        },
        "id": "ilfiDd2PM6rZ",
        "outputId": "6a5c0a2a-3581-445c-9829-5e906ec1bd22"
      },
      "execution_count": 18,
      "outputs": [
        {
          "output_type": "stream",
          "name": "stdout",
          "text": [
            "Processing time: 0.005572319030761719 s\n"
          ]
        }
      ]
    },
    {
      "cell_type": "code",
      "source": [
        "np.abs(np.mean(out - correctOut))"
      ],
      "metadata": {
        "id": "YiEZ5HhhN6Jh",
        "colab": {
          "base_uri": "https://localhost:8080/"
        },
        "outputId": "09846895-b21b-44f9-dc44-3c735c444b73"
      },
      "execution_count": 7,
      "outputs": [
        {
          "output_type": "execute_result",
          "data": {
            "text/plain": [
              "0.0003072959762989259"
            ]
          },
          "metadata": {},
          "execution_count": 7
        }
      ]
    },
    {
      "cell_type": "markdown",
      "source": [
        "## Scan - max"
      ],
      "metadata": {
        "id": "QutoQuIS5umr"
      }
    },
    {
      "cell_type": "code",
      "source": [
        "@cuda.jit\n",
        "def scan_maxBlkKernel(in_arr, n, out_arr, blkSums):\n",
        "  # transfer data from GMEM to SMEM\n",
        "  s_data = cuda.shared.array(0,dtype=np.float32)\n",
        "  i1 = cuda.blockIdx.x * 2 * cuda.blockDim.x + cuda.threadIdx.x\n",
        "  i2 = i1 + cuda.blockDim.x\n",
        "\n",
        "  if(i1 < n):\n",
        "    s_data[cuda.threadIdx.x] = in_arr[i1]\n",
        "  if i2 < n:\n",
        "    s_data[cuda.threadIdx.x + cuda.blockDim.x] = in_arr[i2]\n",
        "  cuda.syncthreads()\n",
        "\n",
        "  # scan on smem\n",
        "  # reduction phase\n",
        "  stride = 1\n",
        "  while stride < 2 * cuda.blockDim.x:\n",
        "    s_dataIdx = (cuda.threadIdx.x + 1) * 2 * stride - 1\n",
        "    if s_dataIdx < 2 * cuda.blockDim.x:\n",
        "      s_data[s_dataIdx] = max(s_data[s_dataIdx],s_data[s_dataIdx - stride])\n",
        "    stride *= 2\n",
        "    cuda.syncthreads()\n",
        "\n",
        "  # post reduction phase\n",
        "  stride = cuda.blockDim.x // 2\n",
        "  while stride > 0:\n",
        "    s_dataIdx = (cuda.threadIdx.x + 1) * 2 * stride - 1 + stride\n",
        "    if s_dataIdx < 2 * cuda.blockDim.x:\n",
        "      s_data[s_dataIdx] = max(s_data[s_dataIdx], s_data[s_dataIdx - stride])\n",
        "    stride = stride // 2\n",
        "    cuda.syncthreads()\n",
        "    \n",
        "\n",
        "  # write results from smem to gmem\n",
        "  if i1 < n:\n",
        "    out_arr[i1] = s_data[cuda.threadIdx.x]\n",
        "  if i2 < n:\n",
        "    out_arr[i2] = s_data[cuda.threadIdx.x + cuda.blockDim.x]\n",
        "\n",
        "  if (blkSums is not None) and (cuda.threadIdx.x == 0):\n",
        "    blkSums[cuda.blockIdx.x] = s_data[2 * cuda.blockDim.x - 1]\n",
        "    "
      ],
      "metadata": {
        "id": "x7a9ibvjONVy"
      },
      "execution_count": 8,
      "outputs": []
    },
    {
      "cell_type": "code",
      "source": [
        "@cuda.jit\n",
        "def maxPrevBlk(blkSumsScan, blkScans, n):\n",
        "  i = cuda.blockIdx.x * cuda.blockDim.x + cuda.threadIdx.x + cuda.blockDim.x\n",
        "  if i < n:\n",
        "    blkScans[i] = max(blkScans[i],blkSumsScan[cuda.blockIdx.x])"
      ],
      "metadata": {
        "id": "uqhtUabKt82N"
      },
      "execution_count": 9,
      "outputs": []
    },
    {
      "cell_type": "code",
      "source": [
        "def scan_max(in_arr, n , out_arr, use_device=0,blkSize=1):\n",
        "  if use_device == 0:\n",
        "    print(\"Scan max by host\")\n",
        "    out_arr[0] = in_arr[0]\n",
        "    for i in range(1,n):\n",
        "      out_arr[i] = max(out_arr[i - 1],in_arr[i])\n",
        "  else:\n",
        "    blkDataSize = 2 * blkSize\n",
        "    d_in_arr = cuda.to_device(in_arr)\n",
        "    d_out_arr = cuda.device_array(n)\n",
        "\n",
        "    gridSize = math.ceil(n / blkDataSize)\n",
        "    if gridSize > 1:\n",
        "      d_blkSums = cuda.device_array(gridSize)\n",
        "    else:\n",
        "      d_blkSums = None\n",
        "    \n",
        "    smem = blkDataSize * 4\n",
        "    scan_maxBlkKernel[gridSize,blkSize,0,smem](d_in_arr,n,d_out_arr,d_blkSums)\n",
        "    cuda.synchronize()\n",
        "\n",
        "    if gridSize > 1:\n",
        "      temp = gridSize\n",
        "      blkSums = d_blkSums.copy_to_host()\n",
        "      for i in range(1,gridSize):\n",
        "        blkSums[i] = max(blkSums[i-1], blkSums[i])\n",
        "      d_blkSums = cuda.to_device(blkSums)\n",
        "      maxPrevBlk[gridSize - 1, blkDataSize](d_blkSums,d_out_arr,n)\n",
        "      cuda.synchronize()\n",
        "      return d_out_arr.copy_to_host()"
      ],
      "metadata": {
        "id": "mqKgqqAguNiL"
      },
      "execution_count": 10,
      "outputs": []
    },
    {
      "cell_type": "code",
      "source": [
        "n = 480000\n",
        "in_arr = np.random.rand(n)\n",
        "\n",
        "blockSize = 256\n",
        "correctOut = np.zeros(n)\n",
        "start = time.time()\n",
        "scan_max(in_arr,n,correctOut,0)\n",
        "end = time.time()\n",
        "print(f\"Processing time: {end - start} s\")"
      ],
      "metadata": {
        "colab": {
          "base_uri": "https://localhost:8080/"
        },
        "id": "9ZhiCVo3uhAB",
        "outputId": "87138fb3-c3c1-4ee8-e60d-82e57269f465"
      },
      "execution_count": 11,
      "outputs": [
        {
          "output_type": "stream",
          "name": "stdout",
          "text": [
            "Scan max by host\n",
            "Processing time: 0.18138837814331055 s\n"
          ]
        }
      ]
    },
    {
      "cell_type": "code",
      "source": [
        "out = np.zeros(n)\n",
        "\n",
        "start = time.time()\n",
        "out = scan_max(in_arr,n,out,1,256)\n",
        "end = time.time()\n",
        "print(\"Scan max by device\")\n",
        "print(f\"Processing time: {end - start} s\")"
      ],
      "metadata": {
        "colab": {
          "base_uri": "https://localhost:8080/"
        },
        "id": "nSocX1VXujOh",
        "outputId": "811bd54d-dab7-42c4-8373-bf280a020380"
      },
      "execution_count": 19,
      "outputs": [
        {
          "output_type": "stream",
          "name": "stdout",
          "text": [
            "Scan max by device\n",
            "Processing time: 0.006231069564819336 s\n"
          ]
        }
      ]
    },
    {
      "cell_type": "code",
      "source": [
        "np.abs(np.mean(out - correctOut))"
      ],
      "metadata": {
        "colab": {
          "base_uri": "https://localhost:8080/"
        },
        "id": "78ZkayfruoWH",
        "outputId": "0567ed82-d780-47b2-c778-bcae4404f5fd"
      },
      "execution_count": 13,
      "outputs": [
        {
          "output_type": "execute_result",
          "data": {
            "text/plain": [
              "1.0004327345773899e-08"
            ]
          },
          "metadata": {},
          "execution_count": 13
        }
      ]
    },
    {
      "cell_type": "markdown",
      "source": [
        "## Hàm trừ hai mảng"
      ],
      "metadata": {
        "id": "iONJjzFt5zW5"
      }
    },
    {
      "cell_type": "code",
      "source": [
        "n = 480000\n",
        "in_arr1 = np.random.rand(n)\n",
        "in_arr2 = np.random.rand(n)\n",
        "\n",
        "start = time.time()\n",
        "correctOut = in_arr1 - in_arr2\n",
        "end = time.time()\n",
        "print(f\"Processing time: {end - start}\")"
      ],
      "metadata": {
        "id": "ScWv7FyKzLhu",
        "colab": {
          "base_uri": "https://localhost:8080/"
        },
        "outputId": "0f7f7121-3e17-4234-daf6-87db98dd034a"
      },
      "execution_count": 14,
      "outputs": [
        {
          "output_type": "stream",
          "name": "stdout",
          "text": [
            "Processing time: 0.0022614002227783203\n"
          ]
        }
      ]
    },
    {
      "cell_type": "code",
      "source": [
        "@cuda.jit\n",
        "def subtract_two_arrays_kernel(in1,in2,out,n):\n",
        "  ids = cuda.grid(1)\n",
        "  if ids < n:\n",
        "    out[ids] = in1[ids] - in2[ids]\n",
        "\n",
        "def subtract_two_arrays_device(in1,in2,n,blockSize=32):\n",
        "  d_in1 = cuda.to_device(in1)\n",
        "  d_in2 = cuda.to_device(in2)\n",
        "  d_out = cuda.device_array(n)\n",
        "\n",
        "  gridSize = math.ceil(n / blockSize)\n",
        "  subtract_two_arrays_kernel[gridSize,blockSize](d_in1,d_in2,d_out,n)\n",
        "\n",
        "  return d_out.copy_to_host()"
      ],
      "metadata": {
        "id": "R-V7ZkP36KKq"
      },
      "execution_count": 15,
      "outputs": []
    },
    {
      "cell_type": "code",
      "source": [
        "start = time.time()\n",
        "out = subtract_two_arrays_device(in_arr1,in_arr2,n)\n",
        "end = time.time()\n",
        "print(f\"Processing time: {end - start}\")"
      ],
      "metadata": {
        "colab": {
          "base_uri": "https://localhost:8080/"
        },
        "id": "OugC8YGK7D2d",
        "outputId": "899908c5-42f7-492b-8650-576adc93d5ea"
      },
      "execution_count": 20,
      "outputs": [
        {
          "output_type": "stream",
          "name": "stdout",
          "text": [
            "Processing time: 0.010683774948120117\n"
          ]
        }
      ]
    },
    {
      "cell_type": "code",
      "source": [
        "np.abs(np.mean(out - correctOut))"
      ],
      "metadata": {
        "colab": {
          "base_uri": "https://localhost:8080/"
        },
        "id": "Pu77WGo57YEx",
        "outputId": "9a26388e-2b54-4d54-f563-741310f2e08e"
      },
      "execution_count": 17,
      "outputs": [
        {
          "output_type": "execute_result",
          "data": {
            "text/plain": [
              "0.0"
            ]
          },
          "metadata": {},
          "execution_count": 17
        }
      ]
    },
    {
      "cell_type": "code",
      "source": [],
      "metadata": {
        "id": "NsiOfg967dCx"
      },
      "execution_count": 17,
      "outputs": []
    }
  ]
}
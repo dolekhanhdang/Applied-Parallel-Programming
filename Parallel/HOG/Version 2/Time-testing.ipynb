{
 "cells": [
  {
   "cell_type": "markdown",
   "id": "d4ec4b93",
   "metadata": {},
   "source": [
    "### 1. Import libraries"
   ]
  },
  {
   "cell_type": "code",
   "execution_count": 1,
   "id": "ec1bcb1d",
   "metadata": {},
   "outputs": [
    {
     "name": "stdout",
     "output_type": "stream",
     "text": [
      "<Managed Device 0>\n"
     ]
    }
   ],
   "source": [
    "from numba import cuda\n",
    "\n",
    "import numpy as np\n",
    "\n",
    "import matplotlib.image as mpimg\n",
    "import matplotlib.pyplot as plt\n",
    "\n",
    "from PIL import Image\n",
    "import cv2\n",
    "import math\n",
    "import operator\n",
    "\n",
    "import glob2\n",
    "\n",
    "import timeit\n",
    "\n",
    "print(cuda.gpus)"
   ]
  },
  {
   "cell_type": "code",
   "execution_count": 2,
   "id": "9a861d7a",
   "metadata": {},
   "outputs": [],
   "source": [
    "from HOG_CUDA_2 import HOG"
   ]
  },
  {
   "cell_type": "code",
   "execution_count": 3,
   "id": "0757081d",
   "metadata": {},
   "outputs": [],
   "source": [
    "from HOG_CPU  import HOG_CPU"
   ]
  },
  {
   "cell_type": "code",
   "execution_count": 4,
   "id": "7ec5336f",
   "metadata": {},
   "outputs": [],
   "source": [
    "from skimage import feature"
   ]
  },
  {
   "cell_type": "markdown",
   "id": "1471ceb7",
   "metadata": {},
   "source": [
    "### 2. Configure settings"
   ]
  },
  {
   "cell_type": "code",
   "execution_count": 5,
   "id": "7f1be9f6",
   "metadata": {},
   "outputs": [],
   "source": [
    "cell_size = (8, 8)\n",
    "block_size = (2, 2)\n",
    "nbins = 9\n",
    "sbins = 40\n",
    "threadsperblock = (32,32)"
   ]
  },
  {
   "cell_type": "markdown",
   "id": "5bbdc5b4",
   "metadata": {},
   "source": [
    "### 3. Read images"
   ]
  },
  {
   "cell_type": "markdown",
   "id": "10091149",
   "metadata": {},
   "source": [
    "##### Nếu dùng google colab"
   ]
  },
  {
   "cell_type": "code",
   "execution_count": 6,
   "id": "461c4054",
   "metadata": {},
   "outputs": [],
   "source": [
    "# from google.colab import drive\n",
    "# drive.mount('/content/drive')\n",
    "# link_cat = 'drive/MyDrive/ltssud/data/Cat/**'\n",
    "# link_dog = 'drive/MyDrive/ltssud/data/Dog/**'"
   ]
  },
  {
   "cell_type": "markdown",
   "id": "f14f43d1",
   "metadata": {},
   "source": [
    "##### Nếu dùng local drive"
   ]
  },
  {
   "cell_type": "code",
   "execution_count": 7,
   "id": "49543e4b",
   "metadata": {},
   "outputs": [],
   "source": [
    "link_cat = r'C:\\Users\\dolek\\Documents\\GitHub\\Applied-Parallel-Programming\\Main\\Data\\Cat\\**'\n",
    "link_dog = r'C:\\Users\\dolek\\Documents\\GitHub\\Applied-Parallel-Programming\\Main\\Data\\Dog\\**'"
   ]
  },
  {
   "cell_type": "code",
   "execution_count": 8,
   "id": "04b88203",
   "metadata": {},
   "outputs": [],
   "source": [
    "def get_image(link_cat, link_dog,number):\n",
    "    images  = []\n",
    "    labels = []\n",
    "    list_cat = glob2.glob(link_cat)\n",
    "    list_dog = glob2.glob(link_dog)\n",
    "    print('Cat images size : ',len(list_cat))\n",
    "    for i in range(number):\n",
    "        if('jpg' in list_cat[i]):\n",
    "            img = Image.open(list_cat[i]).convert('RGB')\n",
    "            img = img.resize((400,400), Image.LANCZOS)\n",
    "            temp_img = np.asarray(img)\n",
    "            if len(temp_img.shape)  == 3:\n",
    "                images.append(temp_img)\n",
    "                labels.append(1)\n",
    "    print(\"Cat done!\")\n",
    "    print('Dog images size : ',len(list_dog))\n",
    "    for i in range(number):\n",
    "        if('jpg' in list_dog[i]):\n",
    "            img = Image.open(list_dog[i]).convert('RGB')\n",
    "            img = img.resize((400,400), Image.LANCZOS)\n",
    "            temp_img = np.asarray(img)\n",
    "            if len(temp_img.shape)  == 3:\n",
    "                images.append(temp_img)\n",
    "                labels.append(-1)\n",
    "    print(\"Dog done!\")\n",
    "    return images,labels"
   ]
  },
  {
   "cell_type": "markdown",
   "id": "4c771ed2",
   "metadata": {},
   "source": [
    "### 4. Time testing"
   ]
  },
  {
   "cell_type": "code",
   "execution_count": 9,
   "id": "89e8163c",
   "metadata": {},
   "outputs": [],
   "source": [
    "def time_library(images, block_size, cell_size, nbins):\n",
    "    result = []\n",
    "    for image in images:\n",
    "        H = feature.hog(image, orientations=nbins, pixels_per_cell=block_size, \\\n",
    "                cells_per_block=cell_size, transform_sqrt=True, block_norm=\"L2\",channel_axis=-1)\n",
    "        result.append(H)\n",
    "    return result"
   ]
  },
  {
   "cell_type": "code",
   "execution_count": 10,
   "id": "22b3d06b",
   "metadata": {},
   "outputs": [],
   "source": [
    "def time_HOG_CPU(images, block_size, cell_size, nbins, sbins):\n",
    "    #result = []\n",
    "    kernel = HOG_CPU(block_size, cell_size, nbins, sbins)\n",
    "    for image in images:\n",
    "        kernel.compute_HOG(image)\n",
    "    #return result"
   ]
  },
  {
   "cell_type": "code",
   "execution_count": 11,
   "id": "1317fb56",
   "metadata": {},
   "outputs": [],
   "source": [
    "def time_HOG_CUDA(images, block_size, cell_size, nbins, sbins,threadsperblock):\n",
    "    result = []\n",
    "    kernel = HOG(block_size, cell_size, nbins, sbins, threadsperblock)\n",
    "    for image in images:\n",
    "        a = kernel.compute_HOG(image)\n",
    "        result.append(a)\n",
    "    return result"
   ]
  },
  {
   "cell_type": "code",
   "execution_count": 12,
   "id": "d28ca0e2",
   "metadata": {},
   "outputs": [],
   "source": [
    "def time_testing(images, block_size, cell_size, nbins, sbins, threadsperblock):\n",
    "#     print(len(images))\n",
    "    print(\"Library\")\n",
    "    #%timeit -r 1 time_library(images, block_size, cell_size, nbins)\n",
    "    library = time_library(images, block_size, cell_size, nbins)\n",
    "    print(library[0])\n",
    "#     print(\"CPU :\")\n",
    "#     %timeit -r 1 time_HOG_CPU(images, block_size, cell_size, nbins, sbins)\n",
    "    print(\"GPU :\")\n",
    "    #%timeit -r 1 time_HOG_CUDA(images, block_size, cell_size, nbins, sbins, threadsperblock)\n",
    "    GPU = time_HOG_CUDA(images, block_size, cell_size, nbins, sbins, threadsperblock)\n",
    "    print(GPU[0])\n",
    "    print(np.sum(abs(library[0]-GPU[0])))"
   ]
  },
  {
   "cell_type": "code",
   "execution_count": 13,
   "id": "917e871e",
   "metadata": {
    "scrolled": true
   },
   "outputs": [
    {
     "name": "stdout",
     "output_type": "stream",
     "text": [
      "Cat images size :  12499\n",
      "Cat done!\n",
      "Dog images size :  12499\n",
      "Dog done!\n"
     ]
    }
   ],
   "source": [
    "image,label =  get_image(link_cat, link_dog, 100)"
   ]
  },
  {
   "cell_type": "code",
   "execution_count": 16,
   "id": "3ab6bd3e",
   "metadata": {},
   "outputs": [
    {
     "data": {
      "text/plain": [
       "(86436,)"
      ]
     },
     "execution_count": 16,
     "metadata": {},
     "output_type": "execute_result"
    }
   ],
   "source": [
    "cell_size = (8, 8)\n",
    "block_size = (2, 2)\n",
    "nbins = 9\n",
    "threadsperblock = (32,32)\n",
    "a = HOG(block_size, cell_size, nbins, 40,threadsperblock )\n",
    "a.compute_HOG(image[0]).shape"
   ]
  },
  {
   "cell_type": "code",
   "execution_count": null,
   "id": "613d043f",
   "metadata": {
    "scrolled": true
   },
   "outputs": [],
   "source": [
    "time_testing(image[0:1], block_size, cell_size, nbins, sbins, threadsperblock)"
   ]
  },
  {
   "cell_type": "code",
   "execution_count": null,
   "id": "5f3f2427",
   "metadata": {
    "scrolled": true
   },
   "outputs": [],
   "source": [
    "time_testing(image[0:100], block_size, cell_size, nbins, sbins, threadsperblock)"
   ]
  },
  {
   "cell_type": "code",
   "execution_count": null,
   "id": "ad9f3c1b",
   "metadata": {
    "scrolled": true
   },
   "outputs": [],
   "source": [
    "time_testing(image[0:200], block_size, cell_size, nbins, sbins, threadsperblock)"
   ]
  },
  {
   "cell_type": "code",
   "execution_count": null,
   "id": "18e3f803",
   "metadata": {
    "scrolled": true
   },
   "outputs": [],
   "source": [
    "time_testing(image[0:500], block_size, cell_size, nbins, sbins, threadsperblock)"
   ]
  },
  {
   "cell_type": "code",
   "execution_count": null,
   "id": "b0058703",
   "metadata": {},
   "outputs": [],
   "source": [
    "time_testing(image[0:1000], block_size, cell_size, nbins, sbins, threadsperblock)"
   ]
  },
  {
   "cell_type": "code",
   "execution_count": null,
   "id": "95e65a53",
   "metadata": {},
   "outputs": [],
   "source": [
    "time_testing(image[0:2000], block_size, cell_size, nbins, sbins, threadsperblock)"
   ]
  },
  {
   "cell_type": "code",
   "execution_count": null,
   "id": "b3d8e1c9",
   "metadata": {},
   "outputs": [],
   "source": [
    "time_testing(image[0:5000], block_size, cell_size, nbins, sbins, threadsperblock)"
   ]
  }
 ],
 "metadata": {
  "kernelspec": {
   "display_name": "Python 3 (ipykernel)",
   "language": "python",
   "name": "python3"
  },
  "language_info": {
   "codemirror_mode": {
    "name": "ipython",
    "version": 3
   },
   "file_extension": ".py",
   "mimetype": "text/x-python",
   "name": "python",
   "nbconvert_exporter": "python",
   "pygments_lexer": "ipython3",
   "version": "3.9.16"
  }
 },
 "nbformat": 4,
 "nbformat_minor": 5
}

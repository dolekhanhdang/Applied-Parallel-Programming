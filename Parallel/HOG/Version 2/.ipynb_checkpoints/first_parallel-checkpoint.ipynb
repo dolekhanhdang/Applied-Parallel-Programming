{
 "cells": [
  {
   "cell_type": "code",
   "execution_count": 1,
   "id": "d688abea",
   "metadata": {
    "colab": {
     "background_save": true
    },
    "id": "d688abea",
    "outputId": "0e7c6f3c-3a33-49db-9a95-f5cc14235bfb"
   },
   "outputs": [
    {
     "name": "stdout",
     "output_type": "stream",
     "text": [
      "<Managed Device 0>\n"
     ]
    }
   ],
   "source": [
    "from numba import cuda\n",
    "\n",
    "import numpy as np\n",
    "\n",
    "import matplotlib.image as mpimg\n",
    "import matplotlib.pyplot as plt\n",
    "\n",
    "from PIL import Image\n",
    "import cv2\n",
    "import math\n",
    "import operator\n",
    "print(cuda.gpus)"
   ]
  },
  {
   "cell_type": "code",
   "execution_count": null,
   "id": "ee680d1d",
   "metadata": {},
   "outputs": [],
   "source": [
    "cell_size = (8, 8)\n",
    "img = Image.open('./Picture/cat-1.jpg')\n",
    "width = img.size[0] // cell_size[0] * cell_size[0]\n",
    "height  =  img.size[1] // cell_size[1] * cell_size[1]\n",
    "\n",
    "img = img.resize((width, height), Image.LANCZOS)\n",
    "pixel = np.array(img)\n",
    "plt.imshow(pixel)\n",
    "plt.show()"
   ]
  },
  {
   "cell_type": "code",
   "execution_count": null,
   "id": "e4350884",
   "metadata": {},
   "outputs": [],
   "source": [
    "# [0] là theo trục y, [1] là theo trục x\n",
    "\n",
    "block_hog_size = (2, 2)\n",
    "hist_size = 9\n",
    "\n",
    "n_cell = (height//cell_size[0], width//cell_size[1])\n",
    "n_block = (n_cell[0] - block_hog_size[0] + 1, n_cell[1] - block_hog_size[1] + 1)\n",
    "sbin = 40\n",
    "\n",
    "block_size = (32, 32)\n",
    "grid_size = (math.ceil(height/block_hog_size[0]), math.ceil(width/block_hog_size[1]))"
   ]
  },
  {
   "cell_type": "code",
   "execution_count": null,
   "id": "8d0030e8",
   "metadata": {
    "colab": {
     "base_uri": "https://localhost:8080/"
    },
    "id": "8d0030e8",
    "outputId": "dcd644f5-d933-483d-aca5-3ab71b42c6b1"
   },
   "outputs": [],
   "source": [
    "height, width, channel = pixel.shape\n",
    "print(\"Height: {0}\\nWidth: {1}\\nChannel: {2}\".format(height,width,channel))"
   ]
  },
  {
   "cell_type": "markdown",
   "id": "bc4bd912",
   "metadata": {},
   "source": [
    "# Gray scale"
   ]
  },
  {
   "cell_type": "code",
   "execution_count": null,
   "id": "B9KesEBKXC-r",
   "metadata": {
    "id": "B9KesEBKXC-r"
   },
   "outputs": [],
   "source": [
    "def gray_host(input, channel):\n",
    "    if channel==1:\n",
    "        return\n",
    "    return 0.299*input[:,:,0]+0.587*input[:,:,1]+0.114*input[:,:,2]"
   ]
  },
  {
   "cell_type": "code",
   "execution_count": null,
   "id": "fcc7b0a0",
   "metadata": {},
   "outputs": [],
   "source": [
    "@cuda.jit\n",
    "def gray_kernel(input, width, height, channel, gray):\n",
    "    row, col = cuda.grid(2)\n",
    "    if row >= height or col >= width or channel != 3:\n",
    "        return\n",
    "    rgb = input[row][col]\n",
    "    gray[row][col] = 0.299*rgb[0] + 0.587*rgb[1] + 0.114*rgb[2]"
   ]
  },
  {
   "cell_type": "code",
   "execution_count": null,
   "id": "25479079",
   "metadata": {
    "id": "25479079"
   },
   "outputs": [],
   "source": [
    "# Memory Allocation\n",
    "gray_dev   = np.empty([height, width],dtype = float)\n",
    "input_dev   = cuda.to_device(pixel)\n",
    "gray_device = cuda.device_array_like(gray_dev)"
   ]
  },
  {
   "cell_type": "code",
   "execution_count": null,
   "id": "be86375b",
   "metadata": {
    "id": "be86375b",
    "scrolled": true
   },
   "outputs": [],
   "source": [
    "new_grid = (math.ceil(height/block_size[0]), math.ceil(width/block_size[1]))\n",
    "%timeit gray_kernel[new_grid, block_size](input_dev, width, height, channel, gray_device)\n",
    "gray_dev = gray_device.copy_to_host()"
   ]
  },
  {
   "cell_type": "markdown",
   "id": "b630e1a4",
   "metadata": {},
   "source": [
    "Kiểm tra kết quả:"
   ]
  },
  {
   "cell_type": "code",
   "execution_count": null,
   "id": "cxxQmlkPXj-z",
   "metadata": {
    "colab": {
     "base_uri": "https://localhost:8080/"
    },
    "id": "cxxQmlkPXj-z",
    "outputId": "7acc3c68-9b25-4d56-a8b0-66df57a9bffe"
   },
   "outputs": [],
   "source": [
    "%timeit gray = gray_host(pixel, channel)\n",
    "gray = gray_host(pixel, channel)\n",
    "np.sum(np.abs(gray - gray_dev))"
   ]
  },
  {
   "cell_type": "markdown",
   "id": "dd6251fb",
   "metadata": {},
   "source": [
    "# Convolution"
   ]
  },
  {
   "cell_type": "code",
   "execution_count": null,
   "id": "4433b872",
   "metadata": {
    "colab": {
     "base_uri": "https://localhost:8080/"
    },
    "id": "4433b872",
    "outputId": "6139bd3b-2860-427c-86a9-216a6b2d772d"
   },
   "outputs": [],
   "source": [
    "sobel_x = np.array([-1,0,1])\n",
    "sobel_y = np.array([[-1],\n",
    "                    [0],\n",
    "                    [1]])"
   ]
  },
  {
   "cell_type": "code",
   "execution_count": null,
   "id": "c48744f2",
   "metadata": {
    "id": "c48744f2"
   },
   "outputs": [],
   "source": [
    "def calc_gradient(input, width, height):\n",
    "  output_x = np.zeros((height,width))\n",
    "  output_y = np.zeros((height,width))\n",
    "\n",
    "  for r in range(height):\n",
    "    for c in range(width):\n",
    "      for i in range(-1,2):\n",
    "        pixel_r = r + i\n",
    "        pixel_r = min(max(0, pixel_r), height - 1)\n",
    "        output_y[r,c] += input[pixel_r,c] * i\n",
    "\n",
    "        pixel_c = c + i\n",
    "        pixel_c = min(max(0, pixel_c), width - 1)\n",
    "        output_x[r,c] += input[r,pixel_c] * i\n",
    "\n",
    "  return output_x, output_y"
   ]
  },
  {
   "cell_type": "code",
   "execution_count": null,
   "id": "e16c7823",
   "metadata": {},
   "outputs": [],
   "source": [
    "@cuda.jit\n",
    "def calc_gradient_kernel(input, width, height, output_x, output_y):\n",
    "  row, col = cuda.grid(2)\n",
    "  if (row>=height) or (col>=width):\n",
    "    return\n",
    "  for i in range(-1,2):\n",
    "    pixel_r = row + i\n",
    "    pixel_r = min(max(0, pixel_r), height - 1)\n",
    "    output_y[row, col] += input[pixel_r,col] * i\n",
    "\n",
    "    pixel_c = col + i\n",
    "    pixel_c = min(max(0, pixel_c), width - 1)\n",
    "    output_x[row,col] += input[row,pixel_c] * i"
   ]
  },
  {
   "cell_type": "code",
   "execution_count": null,
   "id": "037d4b88",
   "metadata": {},
   "outputs": [],
   "source": [
    "gradient_x_dev = np.zeros((height, width))\n",
    "gradient_y_dev = np.zeros((height, width))\n",
    "\n",
    "gradient_x_device = cuda.to_device(gradient_x_dev)\n",
    "gradient_y_device = cuda.to_device(gradient_y_dev)"
   ]
  },
  {
   "cell_type": "code",
   "execution_count": null,
   "id": "b0b42a55",
   "metadata": {},
   "outputs": [],
   "source": [
    "calc_gradient_kernel[grid_size, block_size]\\\n",
    "(gray_device, width, height, gradient_x_device, gradient_y_device)\n",
    "\n",
    "gradient_x_dev = gradient_x_device.copy_to_host()\n",
    "gradient_y_dev = gradient_y_device.copy_to_host()"
   ]
  },
  {
   "cell_type": "markdown",
   "id": "851e159b",
   "metadata": {},
   "source": [
    "Kiểm tra kết quả"
   ]
  },
  {
   "cell_type": "code",
   "execution_count": null,
   "id": "619009e0",
   "metadata": {
    "id": "619009e0"
   },
   "outputs": [],
   "source": [
    "%timeit gradient_x, gradient_y = calc_gradient(gray_dev, width, height)\n",
    "gradient_x, gradient_y = calc_gradient(gray_dev, width, height)\n",
    "np.sum(np.abs(gradient_x - gradient_x_dev))\n",
    "np.sum(np.abs(gradient_y - gradient_y_dev))"
   ]
  },
  {
   "cell_type": "markdown",
   "id": "bdb062c6",
   "metadata": {},
   "source": [
    "# Tìm magnitude và direction"
   ]
  },
  {
   "cell_type": "code",
   "execution_count": null,
   "id": "yz1Fj2nAZT-b",
   "metadata": {
    "id": "yz1Fj2nAZT-b"
   },
   "outputs": [],
   "source": [
    "magnitude = np.sqrt(np.square(gradient_x_dev)+np.square(gradient_y_dev))"
   ]
  },
  {
   "cell_type": "code",
   "execution_count": null,
   "id": "18a20a6c",
   "metadata": {
    "id": "18a20a6c"
   },
   "outputs": [],
   "source": [
    "direction = np.mod(np.add(360, np.rad2deg(np.arctan2(np.array(gradient_y_dev), np.array(gradient_x_dev)))), 360)"
   ]
  },
  {
   "cell_type": "code",
   "execution_count": null,
   "id": "041445a0",
   "metadata": {
    "colab": {
     "base_uri": "https://localhost:8080/",
     "height": 432
    },
    "id": "041445a0",
    "outputId": "7ccb8626-5b70-43a9-869f-4733a07b9a86"
   },
   "outputs": [],
   "source": [
    "plt.figure(figsize=(20, 10))\n",
    "plt.subplot(1, 4, 1)\n",
    "plt.title('gradient of x')\n",
    "plt.imshow(gradient_x)\n",
    "\n",
    "plt.subplot(1, 4, 2)\n",
    "plt.title('gradient of y')\n",
    "plt.imshow(gradient_y)\n",
    "\n",
    "plt.subplot(1, 4, 3)\n",
    "plt.title('Magnitute of gradient')\n",
    "plt.imshow(magnitude)\n",
    "\n",
    "plt.subplot(1, 4, 4)\n",
    "plt.title('Direction of gradient')\n",
    "plt.imshow(direction)"
   ]
  },
  {
   "cell_type": "markdown",
   "id": "10e70a50",
   "metadata": {},
   "source": [
    "# Tính histogram"
   ]
  },
  {
   "cell_type": "code",
   "execution_count": null,
   "id": "1368e79e",
   "metadata": {
    "id": "1368e79e"
   },
   "outputs": [],
   "source": [
    "def cell_hist(direction, magnitude, idx, idy, width, height, cell_size, sbin):\n",
    "    output = np.zeros(9) # output = [0,0,0,0,0,0,0,0,0]\n",
    "    \n",
    "    # duyệt qua kích thước cell theo chiều cao\n",
    "    for r in range(cell_size[0]):\n",
    "      # duyệt qua kích thước cell theo chiều rộng\n",
    "        for c in range(cell_size[1]):\n",
    "          # cột và dòng hiện tại trong ảnh\n",
    "            cur_r = idy*cell_size[0] + r\n",
    "            cur_c = idx*cell_size[1] + c\n",
    "            # kiểm tra\n",
    "            if cur_r>=height or cur_c >= width:\n",
    "                break\n",
    "\n",
    "            # chia lấy phần nguyên và phần dư\n",
    "            quotient = int(direction[cur_r][cur_c]//sbin)\n",
    "            remainder = direction[cur_r][cur_c] % sbin\n",
    "\n",
    "            if remainder==0:\n",
    "                output[quotient] += magnitude[cur_r][cur_c]\n",
    "            else:\n",
    "                first_bin = quotient\n",
    "\n",
    "                second_bin = first_bin+1\n",
    "\n",
    "                output[first_bin] += magnitude[cur_r][cur_c]*\\\n",
    "                    ((second_bin*sbin - direction[cur_r][cur_c])/(second_bin*sbin - first_bin*sbin))\n",
    "                    \n",
    "                second_bin_idx = second_bin\n",
    "                if second_bin > 8:\n",
    "                    second_bin_idx = 0\n",
    "                output[second_bin_idx] += magnitude[cur_r][cur_c]*\\\n",
    "                    ((direction[cur_r][cur_c] - first_bin*sbin)/(second_bin*sbin - first_bin*sbin))\n",
    "    return output"
   ]
  },
  {
   "cell_type": "code",
   "execution_count": null,
   "id": "302fa877",
   "metadata": {
    "colab": {
     "base_uri": "https://localhost:8080/"
    },
    "id": "302fa877",
    "outputId": "c7a47427-ecda-4848-d96b-d32836c117d7",
    "scrolled": true
   },
   "outputs": [],
   "source": [
    "def hist_host(direction, magnitude, width, height, cell_size, sbin):\n",
    "    hist = []\n",
    "    for y in range(0,n_cell[0]):\n",
    "        row = []\n",
    "        for x in range(0,n_cell[1]):\n",
    "            output = cell_hist(direction,magnitude,x,y,width,height,cell_size,sbin)\n",
    "            row.append(output)\n",
    "        hist.append(row)\n",
    "    return np.array(hist)"
   ]
  },
  {
   "cell_type": "code",
   "execution_count": null,
   "id": "247938aa",
   "metadata": {
    "id": "247938aa"
   },
   "outputs": [],
   "source": [
    "@cuda.jit\n",
    "def hist_kernel(direction, magnitude, width, height, sbin, cell_size, result_out):    \n",
    "    cur_r, cur_c  = cuda.grid(2)\n",
    "    \n",
    "    idy   = int(cur_r//cell_size[0])\n",
    "    idx   = int(cur_c//cell_size[1])\n",
    "    # kiểm tra\n",
    "    if cur_r>=height or cur_c>= width:\n",
    "        return \n",
    "    thread_direction = direction[cur_r][cur_c]\n",
    "    thread_mag       = magnitude[cur_r][cur_c]\n",
    "    # chia lấy phần nguyên và phần dư\n",
    "    quotient  = int(thread_direction//sbin)\n",
    "    remainder =     thread_direction % sbin\n",
    "\n",
    "    if remainder==0:\n",
    "        cuda.atomic.add(result_out, (idy, idx, quotient), thread_mag)\n",
    "    else:\n",
    "        first_bin = quotient\n",
    "\n",
    "        second_bin   = first_bin+1\n",
    "        need_to_add    = thread_mag*((second_bin*sbin - thread_direction)/(second_bin*sbin - first_bin*sbin))\n",
    "        cuda.atomic.add(result_out, (idy, idx, first_bin), need_to_add)\n",
    "        \n",
    "        second_bin_idx = second_bin\n",
    "        if second_bin > 8:\n",
    "            second_bin_idx = 0\n",
    "        need_to_add_2  = thread_mag*((thread_direction - first_bin*sbin)/(second_bin*sbin - first_bin*sbin))   \n",
    "        cuda.atomic.add(result_out, (idy, idx, second_bin_idx), need_to_add_2)"
   ]
  },
  {
   "cell_type": "code",
   "execution_count": null,
   "id": "bc153165",
   "metadata": {
    "id": "bc153165"
   },
   "outputs": [],
   "source": [
    "# Memory Allocation\n",
    "hist_dev    = np.empty([n_cell[0], n_cell[1], 9],dtype = np.float64)\n",
    "d_direction = cuda.to_device(direction)\n",
    "d_magnitude = cuda.to_device(magnitude)\n",
    "d_cell_size = cuda.to_device(cell_size)\n",
    "hist_device = cuda.device_array_like(hist_dev)"
   ]
  },
  {
   "cell_type": "code",
   "execution_count": null,
   "id": "687456a7",
   "metadata": {
    "id": "687456a7",
    "scrolled": true
   },
   "outputs": [],
   "source": [
    "%timeit hist_kernel[grid_size, block_size]\\\n",
    "    (d_direction, d_magnitude, width, height, sbin, d_cell_size, hist_device)"
   ]
  },
  {
   "cell_type": "code",
   "execution_count": null,
   "id": "f584fc86",
   "metadata": {
    "id": "f584fc86",
    "scrolled": true
   },
   "outputs": [],
   "source": [
    "hist_dev = hist_device.copy_to_host()"
   ]
  },
  {
   "cell_type": "markdown",
   "id": "039085e0",
   "metadata": {},
   "source": [
    "Kiểm tra kết quả"
   ]
  },
  {
   "cell_type": "code",
   "execution_count": null,
   "id": "70c72c7f",
   "metadata": {
    "id": "70c72c7f"
   },
   "outputs": [],
   "source": [
    "%timeit hist = hist_host(direction, magnitude, width, height, cell_size, sbin)\n",
    "hist = hist_host(direction, magnitude, width, height, cell_size, sbin)\n",
    "np.sum(np.abs(hist-hist_dev))"
   ]
  },
  {
   "cell_type": "markdown",
   "id": "d9de4375",
   "metadata": {},
   "source": [
    "# Chuẩn hóa"
   ]
  },
  {
   "cell_type": "code",
   "execution_count": null,
   "id": "_AhMR--nsjlq",
   "metadata": {
    "id": "_AhMR--nsjlq"
   },
   "outputs": [],
   "source": [
    "final_size = n_block[0] * n_block[1] * block_hog_size[0] * block_hog_size[1] * hist_size"
   ]
  },
  {
   "cell_type": "markdown",
   "id": "b920e586",
   "metadata": {},
   "source": [
    "#### 1. Tính chuẩn L2 của mỗi block"
   ]
  },
  {
   "cell_type": "code",
   "execution_count": null,
   "id": "25c1a651",
   "metadata": {},
   "outputs": [],
   "source": [
    "l2 = np.empty(n_block)\n",
    "for i in range(n_block[0]):\n",
    "  for j in range(n_block[1]):\n",
    "    l2[i][j] = math.sqrt(np.sum(np.square(hist[i:i+2, j:j+2])))"
   ]
  },
  {
   "cell_type": "markdown",
   "id": "88332414",
   "metadata": {},
   "source": [
    "#### Chuẩn hóa"
   ]
  },
  {
   "cell_type": "code",
   "execution_count": null,
   "id": "S3hOsfVBpGRn",
   "metadata": {
    "id": "S3hOsfVBpGRn"
   },
   "outputs": [],
   "source": [
    "@cuda.jit()\n",
    "def normalize_kernel(hist, n_block, block_size, l2, normed):\n",
    "  row, col  = cuda.grid(2)\n",
    "  if row >= n_block[0] or col >= n_block[1]:\n",
    "    return\n",
    "  for y in range(block_size[0]):\n",
    "    for x in range(block_size[1]):\n",
    "      for i in range(9):\n",
    "        normed[row][col][y][x][i] = hist[row + y][col + x][i]/(l2[row][col]+1)"
   ]
  },
  {
   "cell_type": "code",
   "execution_count": null,
   "id": "BM8LidKjhxfK",
   "metadata": {
    "id": "BM8LidKjhxfK"
   },
   "outputs": [],
   "source": [
    "normed_dev = np.empty((n_block[0], n_block[1], block_hog_size[0], block_hog_size[1], hist_size))\n",
    "\n",
    "normed_device = cuda.to_device(normed_dev)\n",
    "l2_dev = cuda.to_device(l2)"
   ]
  },
  {
   "cell_type": "code",
   "execution_count": null,
   "id": "yrsrKEqWjHMI",
   "metadata": {
    "id": "yrsrKEqWjHMI"
   },
   "outputs": [],
   "source": [
    "%timeit normalize_kernel[grid_size, block_size](hist_device, n_block, block_hog_size, l2_dev, normed_device)\n",
    "normalize_kernel[grid_size, block_size](hist_device, n_block, block_hog_size, l2_dev, normed_device)\n",
    "normed_dev = normed_device.copy_to_host()"
   ]
  },
  {
   "cell_type": "code",
   "execution_count": null,
   "id": "rnZLuO3ZnJ-9",
   "metadata": {
    "id": "rnZLuO3ZnJ-9"
   },
   "outputs": [],
   "source": [
    "normed_dev = normed_dev.reshape(final_size)"
   ]
  },
  {
   "cell_type": "markdown",
   "id": "935c1714",
   "metadata": {},
   "source": [
    "Kiểm tra kết quả"
   ]
  },
  {
   "cell_type": "code",
   "execution_count": null,
   "id": "c05be166",
   "metadata": {},
   "outputs": [],
   "source": [
    "normed_host = np.zeros((n_block[0], n_block[1], block_hog_size[0], block_hog_size[1], hist_size))\n",
    "for y in range(n_block[0]):\n",
    "    for x in range(n_block[1]):\n",
    "        out = hist_dev[y: y + block_hog_size[0], x: x + block_hog_size[1]] / (l2[y][x] + 1)\n",
    "        normed_host[y][x] = out"
   ]
  },
  {
   "cell_type": "code",
   "execution_count": null,
   "id": "0ac089e0",
   "metadata": {},
   "outputs": [],
   "source": [
    "np.sum(np.abs(normed_dev - normed_host.reshape(final_size)))"
   ]
  },
  {
   "cell_type": "markdown",
   "id": "273b42af",
   "metadata": {},
   "source": [
    "# So sánh với thư viện"
   ]
  },
  {
   "cell_type": "code",
   "execution_count": null,
   "id": "VHZSIQfSeUtL",
   "metadata": {
    "colab": {
     "base_uri": "https://localhost:8080/"
    },
    "id": "VHZSIQfSeUtL",
    "outputId": "fdf376d9-da03-4252-f09d-4e8dc5ca72ba"
   },
   "outputs": [],
   "source": [
    "from skimage import feature\n",
    "%timeit H = feature.hog(pixel, orientations=9, pixels_per_cell=(8, 8), \\\n",
    "                cells_per_block=(2, 2), transform_sqrt=True, block_norm=\"L2\",channel_axis=-1)\n",
    "H = feature.hog(pixel, orientations=9, pixels_per_cell=(8, 8), \\\n",
    "                cells_per_block=(2, 2), transform_sqrt=True, block_norm=\"L2\",channel_axis=-1)\n",
    "print('Kích thước hog features: ', H.shape)"
   ]
  },
  {
   "cell_type": "code",
   "execution_count": null,
   "id": "ls9AwKL4eeso",
   "metadata": {
    "colab": {
     "base_uri": "https://localhost:8080/"
    },
    "id": "ls9AwKL4eeso",
    "outputId": "8f3619ca-5f0e-4dea-afc4-e93aaf05e87f"
   },
   "outputs": [],
   "source": [
    "np.sum(np.abs(normed_dev - H))"
   ]
  },
  {
   "cell_type": "markdown",
   "id": "275d76a8",
   "metadata": {},
   "source": [
    "# Combine all function"
   ]
  },
  {
   "cell_type": "code",
   "execution_count": 21,
   "id": "b0aff08c",
   "metadata": {},
   "outputs": [],
   "source": [
    "class HOG:\n",
    "    def __init__(self, blockSize, cellSize, nbins, sbins, threadsperblock):\n",
    "        self.blockSize       = blockSize\n",
    "        self.cellSize        = cellSize\n",
    "        self.nbins           = nbins\n",
    "        self.sbins           = sbins\n",
    "        self.threadsperblock = threadsperblock\n",
    "    \n",
    "    @staticmethod\n",
    "    @cuda.jit\n",
    "    def __gray_kernel(input, width, height, channel, gray):\n",
    "        row, col = cuda.grid(2)\n",
    "        if row >= height or col >= width or channel != 3:\n",
    "            return\n",
    "        rgb = input[row][col]\n",
    "        gray[row][col] = 0.299*rgb[0] + 0.587*rgb[1] + 0.114*rgb[2]\n",
    "    \n",
    "    def __gray(self):\n",
    "        picture = self.picture_array\n",
    "        # Memory Allocation\n",
    "        blockspergrid_x = math.ceil(self.picture_array.shape[0] / self.threadsperblock[0])\n",
    "        blockspergrid_y = math.ceil(self.picture_array.shape[1] / self.threadsperblock[1])\n",
    "        blockspergrid = (blockspergrid_x, blockspergrid_y)\n",
    "        gray_dev   = np.empty([self.height, self.width],dtype = float)\n",
    "        input_dev   = cuda.to_device(self.picture_array)\n",
    "        gray_device = cuda.device_array_like(gray_dev)\n",
    "        kernel = self.__gray_kernel\n",
    "        kernel[blockspergrid, self.threadsperblock](input_dev, self.width, self.height, self.channel, gray_device)\n",
    "        gray_dev = gray_device.copy_to_host()\n",
    "        self.gray = gray_dev\n",
    "    \n",
    "    @staticmethod\n",
    "    @cuda.jit\n",
    "    def __calc_gradient_kernel(input, width, height, output_x, output_y):\n",
    "        row, col = cuda.grid(2)\n",
    "        if (row>=height) or (col>=width):\n",
    "            return\n",
    "        for i in range(-1,2):\n",
    "            pixel_r = row + i\n",
    "            pixel_r = min(max(0, pixel_r), height - 1)\n",
    "            output_y[row, col] += input[pixel_r,col] * i\n",
    "\n",
    "            pixel_c = col + i\n",
    "            pixel_c = min(max(0, pixel_c), width - 1)\n",
    "            output_x[row,col] += input[row,pixel_c] * i\n",
    "        \n",
    "    def __calc_gradient(self):\n",
    "        blockspergrid_x = math.ceil(self.picture_array.shape[0] / self.threadsperblock[0])\n",
    "        blockspergrid_y = math.ceil(self.picture_array.shape[1] / self.threadsperblock[1])\n",
    "        blockspergrid = (blockspergrid_x, blockspergrid_y)\n",
    "        gradient_x_dev = np.zeros((self.height, self.width))\n",
    "        gradient_y_dev = np.zeros((self.height, self.width))\n",
    "\n",
    "        gradient_x_device = cuda.to_device(gradient_x_dev)\n",
    "        gradient_y_device = cuda.to_device(gradient_y_dev)\n",
    "        gray_device       = cuda.to_device(self.gray)\n",
    "        self.__calc_gradient_kernel[blockspergrid, self.threadsperblock]\\\n",
    "                (gray_device, self.width, self.height, gradient_x_device, gradient_y_device)\n",
    "\n",
    "        gradient_x_dev = gradient_x_device.copy_to_host()\n",
    "        gradient_y_dev = gradient_y_device.copy_to_host()\n",
    "        return gradient_x_dev, gradient_y_dev\n",
    "    \n",
    "    def __calc_direc_mag(self):\n",
    "        self.__gray()\n",
    "        gradient_x, gradient_y = self.__calc_gradient()\n",
    "        self.magnitude = np.sqrt(np.square(gradient_x)+np.square(gradient_y))\n",
    "        self.direction = np.mod(np.add(360, np.rad2deg(np.arctan2(np.array(gradient_y), np.array(gradient_x)))), 360)\n",
    "    \n",
    "    @staticmethod\n",
    "    @cuda.jit\n",
    "    def __hist_kernel(direction, magnitude, width, height, sbin, cell_size, result_out):    \n",
    "        cur_r, cur_c  = cuda.grid(2)\n",
    "\n",
    "        idy   = int(cur_r//cell_size[0])\n",
    "        idx   = int(cur_c//cell_size[1])\n",
    "        # kiểm tra\n",
    "        if cur_r>=height or cur_c>= width:\n",
    "            return \n",
    "        thread_direction = direction[cur_r][cur_c]\n",
    "        thread_mag       = magnitude[cur_r][cur_c]\n",
    "        # chia lấy phần nguyên và phần dư\n",
    "        quotient  = int(thread_direction//sbin)\n",
    "        remainder =     thread_direction % sbin\n",
    "\n",
    "        if remainder==0:\n",
    "            cuda.atomic.add(result_out, (idy, idx, quotient), thread_mag)\n",
    "        else:\n",
    "            first_bin = quotient\n",
    "\n",
    "            second_bin   = first_bin+1\n",
    "            need_to_add    = thread_mag*((second_bin*sbin - thread_direction)/(second_bin*sbin - first_bin*sbin))\n",
    "            cuda.atomic.add(result_out, (idy, idx, first_bin), need_to_add)\n",
    "\n",
    "            second_bin_idx = second_bin\n",
    "            if second_bin > 8:\n",
    "                second_bin_idx = 0\n",
    "            need_to_add_2  = thread_mag*((thread_direction - first_bin*sbin)/(second_bin*sbin - first_bin*sbin))   \n",
    "            cuda.atomic.add(result_out, (idy, idx, second_bin_idx), need_to_add_2)\n",
    "    \n",
    "    def __all_hist(self):\n",
    "        blockspergrid_x = math.ceil(self.picture_array.shape[0] / self.threadsperblock[0])\n",
    "        blockspergrid_y = math.ceil(self.picture_array.shape[1] / self.threadsperblock[1])\n",
    "        blockspergrid = (blockspergrid_x, blockspergrid_y)\n",
    "        hist_dev    = np.empty([self.n_cell[0], self.n_cell[1], self.nbins],dtype = np.float64)\n",
    "        d_direction = cuda.to_device(self.direction)\n",
    "        d_magnitude = cuda.to_device(self.magnitude)\n",
    "        d_cell_size = cuda.to_device(self.cellSize)\n",
    "        hist_device = cuda.device_array_like(hist_dev)\n",
    "        kernel = self.__hist_kernel\n",
    "        kernel[blockspergrid, self.threadsperblock]\\\n",
    "                            (d_direction, d_magnitude, self.width, self.height, self.sbins, d_cell_size, hist_device)\n",
    "        self.hist = hist_device.copy_to_host()\n",
    "    \n",
    "    @staticmethod\n",
    "    @cuda.jit()\n",
    "    def __normalize_kernel(hist, n_block, block_size, l2, normed):\n",
    "        row, col  = cuda.grid(2)\n",
    "        if row >= n_block[0] or col >= n_block[1]:\n",
    "            return\n",
    "        for y in range(block_size[0]):\n",
    "            for x in range(block_size[1]):\n",
    "                for i in range(9):\n",
    "                    normed[row][col][y][x][i] = hist[row + y][col + x][i]/(l2[row][col]+1)\n",
    "        \n",
    "    def compute_HOG(self, picture):\n",
    "        \n",
    "        self.picture_array = picture\n",
    "        self.height, self.width, self.channel = self.picture_array.shape\n",
    "        self.n_cell  = (self.height//self.cellSize[0], self.width//self.cellSize[1])\n",
    "        self.n_block = (self.n_cell[0] - self.blockSize[0] + 1, self.n_cell[1] - self.blockSize[1] + 1)\n",
    "        \n",
    "        self.__calc_direc_mag()\n",
    "        self.__all_hist()\n",
    "        \n",
    "        norm_array_size = self.n_block[0] * self.n_block[1] * self.blockSize[0] * self.blockSize[1] * self.nbins\n",
    "        l2 = np.empty(self.n_block)\n",
    "        \n",
    "        for i in range(self.n_block[0]):\n",
    "            for j in range(self.n_block[1]):\n",
    "                l2[i][j] = math.sqrt(np.sum(np.square(self.hist[i:i+2, j:j+2])))\n",
    "                \n",
    "        norm_block    = np.zeros((self.n_block[0], self.n_block[1], self.blockSize[0], self.blockSize[1], self.nbins))\n",
    "        normed_device = cuda.to_device(norm_block)\n",
    "        l2_dev        = cuda.to_device(l2)\n",
    "        hist_device   = cuda.to_device(self.hist)\n",
    "        n_block_device       = cuda.to_device(self.n_block)\n",
    "        \n",
    "        blockspergrid_x = math.ceil(self.picture_array.shape[0] / self.blockSize[0])\n",
    "        blockspergrid_y = math.ceil(self.picture_array.shape[1] / self.blockSize[1])\n",
    "        blockspergrid = (blockspergrid_x, blockspergrid_y)\n",
    "        \n",
    "        self.__normalize_kernel[blockspergrid, self.threadsperblock] \\\n",
    "                                    (hist_device, n_block_device, self.blockSize, l2_dev, normed_device)\n",
    "        norm_block = normed_device.copy_to_host()\n",
    "        \n",
    "        self.HOG        = norm_block.flatten()\n",
    "        self.norm_block = norm_block\n",
    "        return self.HOG"
   ]
  },
  {
   "cell_type": "code",
   "execution_count": 22,
   "id": "2adb39e5",
   "metadata": {},
   "outputs": [
    {
     "name": "stdout",
     "output_type": "stream",
     "text": [
      "298 ns ± 2.06 ns per loop (mean ± std. dev. of 7 runs, 1,000,000 loops each)\n"
     ]
    }
   ],
   "source": [
    "cell_size = (8, 8)\n",
    "block_size = (2, 2)\n",
    "nbins = 9\n",
    "threadsperblock = (32,32)\n",
    "%timeit a = HOG(block_size, cell_size, nbins, 40,threadsperblock )\n",
    "a = HOG(block_size, cell_size, nbins, 40,threadsperblock )"
   ]
  },
  {
   "cell_type": "code",
   "execution_count": 41,
   "id": "821722d9",
   "metadata": {},
   "outputs": [
    {
     "name": "stdout",
     "output_type": "stream",
     "text": [
      "432 ms ± 26.4 ms per loop (mean ± std. dev. of 7 runs, 1 loop each)\n"
     ]
    }
   ],
   "source": [
    "%timeit test = a.compute_HOG(pixel)"
   ]
  },
  {
   "cell_type": "code",
   "execution_count": 24,
   "id": "8d072b68",
   "metadata": {},
   "outputs": [
    {
     "data": {
      "text/plain": [
       "(1560384,)"
      ]
     },
     "execution_count": 24,
     "metadata": {},
     "output_type": "execute_result"
    }
   ],
   "source": [
    "test.shape"
   ]
  },
  {
   "cell_type": "code",
   "execution_count": 46,
   "id": "c98d7960",
   "metadata": {},
   "outputs": [
    {
     "data": {
      "text/plain": [
       "0.11245323387544309"
      ]
     },
     "execution_count": 46,
     "metadata": {},
     "output_type": "execute_result"
    }
   ],
   "source": [
    "np.mean(np.abs(test - H))"
   ]
  }
 ],
 "metadata": {
  "accelerator": "GPU",
  "colab": {
   "provenance": []
  },
  "gpuClass": "standard",
  "kernelspec": {
   "display_name": "Python 3 (ipykernel)",
   "language": "python",
   "name": "python3"
  },
  "language_info": {
   "codemirror_mode": {
    "name": "ipython",
    "version": 3
   },
   "file_extension": ".py",
   "mimetype": "text/x-python",
   "name": "python",
   "nbconvert_exporter": "python",
   "pygments_lexer": "ipython3",
   "version": "3.9.16"
  }
 },
 "nbformat": 4,
 "nbformat_minor": 5
}

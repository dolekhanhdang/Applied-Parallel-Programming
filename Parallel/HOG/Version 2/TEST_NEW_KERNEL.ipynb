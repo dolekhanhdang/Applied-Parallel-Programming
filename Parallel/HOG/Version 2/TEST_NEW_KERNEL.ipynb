{
 "cells": [
  {
   "cell_type": "code",
   "execution_count": 1,
   "id": "d6a0243c",
   "metadata": {},
   "outputs": [
    {
     "name": "stdout",
     "output_type": "stream",
     "text": [
      "<Managed Device 0>\n"
     ]
    }
   ],
   "source": [
    "from numba import cuda,float64\n",
    "\n",
    "import numpy as np\n",
    "\n",
    "import matplotlib.image as mpimg\n",
    "import matplotlib.pyplot as plt\n",
    "\n",
    "from PIL import Image\n",
    "import cv2\n",
    "import math\n",
    "import operator\n",
    "print(cuda.gpus)"
   ]
  },
  {
   "cell_type": "code",
   "execution_count": null,
   "id": "bdd6296a",
   "metadata": {},
   "outputs": [],
   "source": [
    "cell_size = (8, 8)\n",
    "block_size = (2, 2)\n",
    "img = Image.open('./Picture/cat-1.jpg')\n",
    "new_width  =  img.size[0] // cell_size[0] * cell_size[0]\n",
    "new_height =  img.size[1] // cell_size[1] * cell_size[1]\n",
    "img = img.resize((new_width,new_height), Image.LANCZOS)\n",
    "# img = img.resize((64,128), Image.LANCZOS)\n",
    "img_pixel = np.array(img)\n",
    "plt.imshow(img_pixel)"
   ]
  },
  {
   "cell_type": "code",
   "execution_count": null,
   "id": "c6aee8f8",
   "metadata": {},
   "outputs": [],
   "source": [
    "@cuda.jit\n",
    "def gray_kernel(picture_in, gray_out):    \n",
    "    row, col = cuda.grid(2)\n",
    "    image_rows, image_cols,channel = picture_in.shape\n",
    "    if (row >= image_rows) or (col >= image_cols): \n",
    "        return\n",
    "    rgb                = picture_in[row][col]\n",
    "    gray_out[row][col] = 0.299*rgb[0] + 0.587*rgb[1] + 0.114*rgb[2]\n",
    "    # assuming x and y inputs are same length"
   ]
  },
  {
   "cell_type": "code",
   "execution_count": null,
   "id": "b49df5a4",
   "metadata": {},
   "outputs": [],
   "source": [
    "# Memory Allocation\n",
    "out_host   = np.empty([pixel.shape[0], pixel.shape[1]],dtype = pixel.dtype)\n",
    "x_device   = cuda.to_device(pixel)\n",
    "height     = cuda.to_device(pixel.shape[0])\n",
    "width      = cuda.to_device(pixel.shape[1])\n",
    "out_device = cuda.device_array_like(out_host)"
   ]
  },
  {
   "cell_type": "code",
   "execution_count": null,
   "id": "e8a8ef35",
   "metadata": {},
   "outputs": [],
   "source": [
    "threadsperblock = (32, 32)\n",
    "blockspergrid_x = math.ceil(pixel.shape[0] / threadsperblock[0])\n",
    "blockspergrid_y = math.ceil(pixel.shape[1] / threadsperblock[1])\n",
    "blockspergrid = (blockspergrid_x, blockspergrid_y)\n",
    "gray_kernel[blockspergrid, threadsperblock](x_device, out_device)"
   ]
  },
  {
   "cell_type": "code",
   "execution_count": null,
   "id": "8183aa71",
   "metadata": {},
   "outputs": [],
   "source": [
    "out_host = out_device.copy_to_host()"
   ]
  },
  {
   "cell_type": "code",
   "execution_count": null,
   "id": "adb5ec23",
   "metadata": {},
   "outputs": [],
   "source": [
    "out_host"
   ]
  },
  {
   "cell_type": "code",
   "execution_count": null,
   "id": "619dbb2a",
   "metadata": {},
   "outputs": [],
   "source": [
    "plt.imshow(out_host,cmap='gray')"
   ]
  },
  {
   "cell_type": "code",
   "execution_count": null,
   "id": "105d987e",
   "metadata": {},
   "outputs": [],
   "source": []
  },
  {
   "cell_type": "code",
   "execution_count": null,
   "id": "934d9259",
   "metadata": {},
   "outputs": [],
   "source": [
    "x_Dim = threadsperblock[0]//cell_size[0]\n",
    "y_Dim = threadsperblock[1]//cell_size[1]\n",
    "print(x_Dim, y_Dim)\n",
    "sbin_1 = 9\n",
    "@cuda.jit\n",
    "def hist_kernel(direction, magnitude, cell_size, d_sbin, result_out):    \n",
    "    cur_r, cur_c  = cuda.grid(2)\n",
    "    height, width = direction.shape\n",
    "\n",
    "    idy   = int(cur_r//cell_size[0])\n",
    "    idx   = int(cur_c//cell_size[1])\n",
    "    sbin  = d_sbin\n",
    "    \n",
    "    # Creat 3D shared array\n",
    "    shared     = cuda.shared.array(shape=(x_Dim, y_Dim, sbin_1), dtype=float64)\n",
    "    idy_shared = idy%x_Dim\n",
    "    idx_shared = idx%y_Dim\n",
    "    if cur_r%cell_size[0] == 0 and cur_c%cell_size[1]==0:\n",
    "        for index in range(sbin_1):\n",
    "            shared[idy_shared][idx_shared][index] = 0.0\n",
    "\n",
    "    cuda.syncthreads()\n",
    "    # kiểm tra\n",
    "    if cur_r>=height or cur_c>= width:\n",
    "        return \n",
    "    thread_direction = direction[cur_r][cur_c]\n",
    "    thread_mag       = magnitude[cur_r][cur_c]\n",
    "    # chia lấy phần nguyên và phần dư\n",
    "    quotient  = int(thread_direction//sbin)\n",
    "    remainder =     thread_direction % sbin\n",
    "\n",
    "    if remainder==0:\n",
    "        cuda.atomic.add(shared, (idy_shared, idx_shared, quotient), thread_mag)\n",
    "    else:\n",
    "        first_bin = quotient\n",
    "\n",
    "        second_bin     = first_bin+1\n",
    "        need_to_add    = thread_mag*((second_bin*sbin - thread_direction)/(second_bin*sbin - first_bin*sbin))\n",
    "        cuda.atomic.add(shared, (idy_shared, idx_shared, first_bin), need_to_add)\n",
    "\n",
    "            \n",
    "        second_bin_idx = second_bin\n",
    "        if second_bin > 8:\n",
    "            second_bin_idx = 0\n",
    "        need_to_add_2  = thread_mag*((thread_direction - first_bin*sbin)/(second_bin*sbin - first_bin*sbin))   \n",
    "        cuda.atomic.add(shared, (idy_shared, idx_shared, second_bin_idx), need_to_add_2)\n",
    "\n",
    "    \n",
    "    cuda.syncthreads()\n",
    "\n",
    "    if cur_r%cell_size[0] == 0 and cur_c%cell_size[1]==0:\n",
    "        for index in range(sbin_1):\n",
    "            result_out[idy][idx][index] = shared[idy_shared][idx_shared][index]   \n"
   ]
  }
 ],
 "metadata": {
  "kernelspec": {
   "display_name": "Python 3 (ipykernel)",
   "language": "python",
   "name": "python3"
  },
  "language_info": {
   "codemirror_mode": {
    "name": "ipython",
    "version": 3
   },
   "file_extension": ".py",
   "mimetype": "text/x-python",
   "name": "python",
   "nbconvert_exporter": "python",
   "pygments_lexer": "ipython3",
   "version": "3.9.16"
  }
 },
 "nbformat": 4,
 "nbformat_minor": 5
}

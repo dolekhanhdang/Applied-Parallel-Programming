{
 "cells": [
  {
   "attachments": {},
   "cell_type": "markdown",
   "metadata": {},
   "source": [
    "# Import thư viện"
   ]
  },
  {
   "cell_type": "code",
   "execution_count": null,
   "metadata": {},
   "outputs": [],
   "source": [
    "from sklearn.metrics import accuracy_score\n",
    "from sklearn.svm import SVC\n",
    "\n",
    "import matplotlib.pyplot as plt\n",
    "\n",
    "import time\n",
    "import pandas as pd"
   ]
  },
  {
   "attachments": {},
   "cell_type": "markdown",
   "metadata": {},
   "source": [
    "## Import class SVM"
   ]
  },
  {
   "cell_type": "code",
   "execution_count": null,
   "metadata": {},
   "outputs": [],
   "source": [
    "from svm import *\n",
    "from hog_class import *\n",
    "from functions import *"
   ]
  },
  {
   "cell_type": "code",
   "execution_count": 11,
   "metadata": {},
   "outputs": [],
   "source": [
    "n_test = [100, 200, 300, 400, 500]\n",
    "link_cat = './PetImages/Cat/**'\n",
    "link_dog = './PetImages/Dog/**'"
   ]
  },
  {
   "attachments": {},
   "cell_type": "markdown",
   "metadata": {},
   "source": [
    "# So sánh khi không có HOG"
   ]
  },
  {
   "cell_type": "code",
   "execution_count": null,
   "metadata": {},
   "outputs": [],
   "source": [
    "acc1_no_hog = []\n",
    "acc2_no_hog = []\n",
    "acc3_no_hog = []\n",
    "acc4_no_hog = []\n",
    "acc5_no_hog = []\n",
    "time1_no_hog = []\n",
    "time2_no_hog = []\n",
    "time3_no_hog = []\n",
    "time4_no_hog = []\n",
    "time5_no_hog = []"
   ]
  },
  {
   "cell_type": "code",
   "execution_count": null,
   "metadata": {},
   "outputs": [],
   "source": [
    "for n in n_test:\n",
    "    X_train, y_train, X_test, y_test = read_data(link_cat, link_dog, n)\n",
    "    \n",
    "    x_train = np.array([x.flatten() for x in X_train])\n",
    "    x_test = np.array([x.flatten() for x in X_test])\n",
    "    \n",
    "    y_train_sklearn = np.array([str(y) for y in y_train])\n",
    "    y_test_sklearn = np.array([str(y) for y in y_test])\n",
    "    \n",
    "    start = time.time()\n",
    "    svm = SVM_Old()\n",
    "    svm.fit(x_train, y_train)\n",
    "    pred = svm.predict(x_test)\n",
    "    end = time.time()\n",
    "    time1_no_hog.append(end-start)\n",
    "    acc1_no_hog.append(accuracy_score(pred, y_test))\n",
    "    \n",
    "    start = time.time()\n",
    "    svm = SVM_New(kernel = 'linear')\n",
    "    svm.fit(x_train, y_train)\n",
    "    pred = svm.predict(x_test)\n",
    "    end = time.time()\n",
    "    time2_no_hog.append(end-start)\n",
    "    acc2_no_hog.append(accuracy_score(pred, y_test))\n",
    "        \n",
    "    start = time.time()\n",
    "    svm = SVM_New(kernel = 'rbf')\n",
    "    svm.fit(x_train, y_train)\n",
    "    pred = svm.predict(x_test)\n",
    "    end = time.time()\n",
    "    time3_no_hog.append(end-start)\n",
    "    acc3_no_hog.append(accuracy_score(pred, y_test))\n",
    "    \n",
    "    start = time.time()\n",
    "    svm = SVC(kernel = 'linear', shrinking = False)\n",
    "    svm.fit(x_train, y_train_sklearn)\n",
    "    pred = svm.predict(x_test)\n",
    "    end = time.time()\n",
    "    time4_no_hog.append(end-start)\n",
    "    acc4_no_hog.append(accuracy_score(pred, y_test_sklearn))\n",
    "    \n",
    "    start = time.time()\n",
    "    svm = SVC(kernel = 'rbf', shrinking = False)\n",
    "    svm.fit(x_train, y_train_sklearn)\n",
    "    pred = svm.predict(x_test)\n",
    "    end = time.time()\n",
    "    time5_no_hog.append(end-start)\n",
    "    acc5_no_hog.append(accuracy_score(pred, y_test_sklearn))"
   ]
  },
  {
   "attachments": {},
   "cell_type": "markdown",
   "metadata": {},
   "source": [
    "## Plot kết quả"
   ]
  },
  {
   "cell_type": "code",
   "execution_count": null,
   "metadata": {},
   "outputs": [],
   "source": [
    "plt.plot(n_test, acc1_no_hog, label = 'Old SVM')\n",
    "plt.plot(n_test, acc2_no_hog, label = 'New SVM - Linear Kernel')\n",
    "plt.plot(n_test, acc3_no_hog, label = 'New SVM - RBF Kernel')\n",
    "plt.plot(n_test, acc4_no_hog, label = 'Sklearn - Linear Kernel')\n",
    "plt.plot(n_test, acc5_no_hog, label = 'Sklearn - RBF Kernel')\n",
    "\n",
    "plt.ylabel(\"Số lượng mẫu\")\n",
    "plt.xlabel(\"Accuracy\")\n",
    "plt.title(\"So sánh độ chính xác các model (không HOG)\")\n",
    "plt.legend()\n",
    "plt.show()"
   ]
  },
  {
   "cell_type": "code",
   "execution_count": null,
   "metadata": {},
   "outputs": [],
   "source": [
    "plt.plot(n_test, time1_no_hog, label = 'Old SVM')\n",
    "plt.plot(n_test, time2_no_hog, label = 'New SVM - Linear Kernel')\n",
    "plt.plot(n_test, time3_no_hog, label = 'New SVM - RBF Kernel')\n",
    "plt.plot(n_test, time4_no_hog, label = 'Sklearn - Linear Kernel')\n",
    "plt.plot(n_test, time5_no_hog, label = 'Sklearn - RBF Kernel')\n",
    "\n",
    "plt.ylabel(\"Số lượng mẫu\")\n",
    "plt.xlabel(\"Thời gian (s)\")\n",
    "plt.title(\"So sánh thời gian chạy các model (không HOG)\")\n",
    "plt.legend()\n",
    "plt.show()"
   ]
  },
  {
   "attachments": {},
   "cell_type": "markdown",
   "metadata": {},
   "source": [
    "# So sánh khi có HOG"
   ]
  },
  {
   "cell_type": "code",
   "execution_count": null,
   "metadata": {},
   "outputs": [],
   "source": [
    "blocksize = (2, 2)\n",
    "cellsize = (8, 8)\n",
    "nbin = 9\n",
    "sbin = 40\n",
    "threadperblock = (32, 32)\n",
    "hog = HOG_CUDA_2(blocksize, cellsize, nbin, sbin, threadperblock)\n",
    "\n",
    "\n",
    "acc1_hog = []\n",
    "acc2_hog = []\n",
    "acc3_hog = []\n",
    "acc4_hog = []\n",
    "acc5_hog = []\n",
    "time1_hog = []\n",
    "time2_hog = []\n",
    "time3_hog = []\n",
    "time4_hog = []\n",
    "time5_hog = []"
   ]
  },
  {
   "cell_type": "code",
   "execution_count": null,
   "metadata": {},
   "outputs": [],
   "source": [
    "for n in n_test:\n",
    "    X_train, y_train, X_test, y_test = read_data(link_cat, link_dog, n)\n",
    "    \n",
    "    x_train = np.array([x.flatten() for x in X_train])\n",
    "    x_test = np.array([x.flatten() for x in X_test])\n",
    "    \n",
    "    y_train_sklearn = np.array([str(y) for y in y_train])\n",
    "    y_test_sklearn = np.array([str(y) for y in y_test])\n",
    "    \n",
    "    start = time.time()\n",
    "    svm = SVM_Old()\n",
    "    big_fit(X_train, y_train, hog, svm)\n",
    "    pred = big_predict(X_test, hog, svm)\n",
    "    end = time.time()\n",
    "    time1_hog.append(end-start)\n",
    "    acc1_hog.append(accuracy_score(pred, y_test))\n",
    "    \n",
    "    start = time.time()\n",
    "    svm = SVM_New(kernel = 'linear')\n",
    "    big_fit(X_train, y_train, hog, svm)\n",
    "    pred = big_predict(X_test, hog, svm)\n",
    "    end = time.time()\n",
    "    time2_hog.append(end-start)\n",
    "    acc2_hog.append(accuracy_score(pred, y_test))\n",
    "        \n",
    "    start = time.time()\n",
    "    svm = SVM_New(kernel = 'rbf')\n",
    "    big_fit(X_train, y_train, hog, svm)\n",
    "    pred = big_predict(X_test, hog, svm)\n",
    "    end = time.time()\n",
    "    time3_hog.append(end-start)\n",
    "    acc3_hog.append(accuracy_score(pred, y_test))\n",
    "    \n",
    "    start = time.time()\n",
    "    svm = SVC(kernel = 'linear', shrinking = False)\n",
    "    big_fit(X_train, y_train_sklearn, hog, svm)\n",
    "    pred = big_predict(X_test, hog, svm)\n",
    "    end = time.time()\n",
    "    time4_hog.append(end-start)\n",
    "    acc4_hog.append(accuracy_score(pred, y_test_sklearn))\n",
    "    \n",
    "    start = time.time()\n",
    "    svm = SVC(kernel = 'rbf', shrinking = False)\n",
    "    big_fit(X_train, y_train_sklearn, hog, svm)\n",
    "    pred = big_predict(X_test, hog, svm)\n",
    "    end = time.time()\n",
    "    time5_hog.append(end-start)\n",
    "    acc5_hog.append(accuracy_score(pred, y_test_sklearn))"
   ]
  },
  {
   "attachments": {},
   "cell_type": "markdown",
   "metadata": {},
   "source": [
    "## Plot kết quả"
   ]
  },
  {
   "cell_type": "code",
   "execution_count": null,
   "metadata": {},
   "outputs": [],
   "source": [
    "plt.plot(n_test, acc1_hog, label = 'Old SVM')\n",
    "plt.plot(n_test, acc2_hog, label = 'New SVM - Linear Kernel')\n",
    "plt.plot(n_test, acc3_hog, label = 'New SVM - RBF Kernel')\n",
    "plt.plot(n_test, acc4_hog, label = 'Sklearn - Linear Kernel')\n",
    "plt.plot(n_test, acc5_hog, label = 'Sklearn - RBF Kernel')\n",
    "\n",
    "plt.ylabel(\"Số lượng mẫu\")\n",
    "plt.xlabel(\"Accuracy\")\n",
    "plt.title(\"So sánh độ chính xác các model (với HOG)\")\n",
    "plt.legend()\n",
    "plt.show()"
   ]
  },
  {
   "cell_type": "code",
   "execution_count": null,
   "metadata": {},
   "outputs": [],
   "source": [
    "plt.plot(n_test, time1_hog, label = 'Old SVM')\n",
    "plt.plot(n_test, time2_hog, label = 'New SVM - Linear Kernel')\n",
    "plt.plot(n_test, time3_hog, label = 'New SVM - RBF Kernel')\n",
    "plt.plot(n_test, time4_hog, label = 'Sklearn - Linear Kernel')\n",
    "plt.plot(n_test, time5_hog, label = 'Sklearn - RBF Kernel')\n",
    "\n",
    "plt.ylabel(\"Số lượng mẫu\")\n",
    "plt.xlabel(\"Thời gian (s)\")\n",
    "plt.title(\"So sánh thời gian chạy các model (có HOG)\")\n",
    "plt.legend()\n",
    "plt.show()"
   ]
  },
  {
   "attachments": {},
   "cell_type": "markdown",
   "metadata": {},
   "source": [
    "# Thông số chi tiết kết quả"
   ]
  },
  {
   "cell_type": "code",
   "execution_count": 12,
   "metadata": {},
   "outputs": [
    {
     "ename": "NameError",
     "evalue": "name 'acc1_no_hog' is not defined",
     "output_type": "error",
     "traceback": [
      "\u001b[0;31m---------------------------------------------------------------------------\u001b[0m",
      "\u001b[0;31mNameError\u001b[0m                                 Traceback (most recent call last)",
      "Cell \u001b[0;32mIn[12], line 1\u001b[0m\n\u001b[0;32m----> 1\u001b[0m df \u001b[39m=\u001b[39m pd\u001b[39m.\u001b[39mDataFrame(data \u001b[39m=\u001b[39m {\u001b[39m\"\u001b[39m\u001b[39mSố lượng mẫu\u001b[39m\u001b[39m\"\u001b[39m: n_test, \u001b[39m\"\u001b[39m\u001b[39mOld SVM Acc\u001b[39m\u001b[39m\"\u001b[39m: acc1_no_hog, \\\n\u001b[1;32m      2\u001b[0m     \u001b[39m\"\u001b[39m\u001b[39mNew SVM Linear Acc\u001b[39m\u001b[39m\"\u001b[39m: acc2_no_hog, \u001b[39m\"\u001b[39m\u001b[39mNew SVM RBF Acc\u001b[39m\u001b[39m\"\u001b[39m: acc3_no_hog, \\\n\u001b[1;32m      3\u001b[0m         \u001b[39m\"\u001b[39m\u001b[39mSklearn Linear Acc\u001b[39m\u001b[39m\"\u001b[39m: acc4_no_hog, \u001b[39m\"\u001b[39m\u001b[39mSklearn RBF Acc\u001b[39m\u001b[39m\"\u001b[39m: acc5_no_hog})\n\u001b[1;32m      4\u001b[0m df\n",
      "\u001b[0;31mNameError\u001b[0m: name 'acc1_no_hog' is not defined"
     ]
    }
   ],
   "source": [
    "df = pd.DataFrame(data = {\"Số lượng mẫu\": n_test, \"Old SVM Acc\": acc1_no_hog, \\\n",
    "    \"New SVM Linear Acc\": acc2_no_hog, \"New SVM RBF Acc\": acc3_no_hog, \\\n",
    "        \"Sklearn Linear Acc\": acc4_no_hog, \"Sklearn RBF Acc\": acc5_no_hog})\n",
    "df"
   ]
  },
  {
   "cell_type": "code",
   "execution_count": null,
   "metadata": {},
   "outputs": [],
   "source": [
    "df = pd.DataFrame(data = {\"Số lượng mẫu\": n_test, \"Old SVM time(s)\": time1_no_hog, \\\n",
    "    \"New SVM Linear time(s)\": time2_no_hog, \"New SVM RBF time(s)\": time3_no_hog, \\\n",
    "        \"Sklearn Linear time(s)\": time4_no_hog, \"Sklearn RBF time(s)\": time5_no_hog})\n",
    "df"
   ]
  },
  {
   "cell_type": "code",
   "execution_count": null,
   "metadata": {},
   "outputs": [],
   "source": [
    "df = pd.DataFrame(data = {\"Số lượng mẫu\": n_test, \"Old SVM + hog Acc\": acc1_hog, \\\n",
    "    \"New SVM Linear + hog Acc\": acc2_hog, \"New SVM RBF + hog Acc\": acc3_hog, \\\n",
    "        \"Sklearn Linear + hog Acc\": acc4_hog, \"Sklearn RBF + hog Acc\": acc5_hog})\n",
    "df"
   ]
  },
  {
   "cell_type": "code",
   "execution_count": null,
   "metadata": {},
   "outputs": [],
   "source": [
    "df = pd.DataFrame(data = {\"Số lượng mẫu\": n_test, \"Old SVM + hog time(s)\": time1_hog, \\\n",
    "    \"New SVM Linear + hog time(s)\": time2_hog, \"New SVM RBF + hog time(s)\": time3_hog, \\\n",
    "        \"Sklearn Linear + hog time(s)\": time4_hog, \"Sklearn RBF + hog time(s)\": time5_hog})\n",
    "df"
   ]
  }
 ],
 "metadata": {
  "kernelspec": {
   "display_name": "cuda",
   "language": "python",
   "name": "python3"
  },
  "language_info": {
   "codemirror_mode": {
    "name": "ipython",
    "version": 3
   },
   "file_extension": ".py",
   "mimetype": "text/x-python",
   "name": "python",
   "nbconvert_exporter": "python",
   "pygments_lexer": "ipython3",
   "version": "3.10.11"
  },
  "orig_nbformat": 4
 },
 "nbformat": 4,
 "nbformat_minor": 2
}

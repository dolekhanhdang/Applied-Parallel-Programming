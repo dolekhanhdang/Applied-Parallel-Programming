{
 "cells": [
  {
   "attachments": {},
   "cell_type": "markdown",
   "metadata": {},
   "source": [
    "# Import thư viện"
   ]
  },
  {
   "cell_type": "code",
   "execution_count": null,
   "metadata": {},
   "outputs": [],
   "source": [
    "import numpy as np\n",
    "from PIL import Image\n",
    "import glob2\n",
    "import random\n",
    "\n",
    "from sklearn.model_selection import train_test_split\n",
    "from sklearn.metrics import accuracy_score\n",
    "from sklearn.svm import SVC\n",
    "\n",
    "import matplotlib.pyplot as plt\n",
    "import time"
   ]
  },
  {
   "attachments": {},
   "cell_type": "markdown",
   "metadata": {},
   "source": [
    "## Import class SVM"
   ]
  },
  {
   "cell_type": "code",
   "execution_count": null,
   "metadata": {},
   "outputs": [],
   "source": [
    "from svm import *"
   ]
  },
  {
   "attachments": {},
   "cell_type": "markdown",
   "metadata": {},
   "source": [
    "# Hàm đọc dữ liệu"
   ]
  },
  {
   "cell_type": "code",
   "execution_count": null,
   "metadata": {},
   "outputs": [],
   "source": [
    "def read_data(link_cat, link_dog, n_samples, image_size = (400, 400), random_state = 42):\n",
    "    list_cat = glob2.glob(link_cat)\n",
    "    list_dog = glob2.glob(link_dog)\n",
    "    cat_images = []\n",
    "    cat_labels = []\n",
    "    for i in range(int(n_samples/2)):\n",
    "        if 'jpg' in list_cat[i]:\n",
    "            img = Image.open(list_cat[i]).convert('RGB')\n",
    "            img = img.resize(image_size, Image.LANCZOS)\n",
    "            if len(np.array(img).shape) == 3:\n",
    "                cat_images.append(np.array(img))\n",
    "                cat_labels.append(1)\n",
    "    dog_images = []\n",
    "    dog_labels = []\n",
    "    for i in range(int(n_samples/2)):\n",
    "        if 'jpg' in list_dog[i]:\n",
    "            img = Image.open(list_dog[i]).convert('RGB')\n",
    "            img = img.resize(image_size, Image.LANCZOS)\n",
    "            if len(np.array(img).shape) == 3:\n",
    "                dog_images.append(np.array(img))\n",
    "                dog_labels.append(-1)\n",
    "    for index in range(len(cat_images)):\n",
    "        if cat_images[index].shape[2] != 3:\n",
    "            print(index, cat_images[index].shape[2])\n",
    "    for index in range(len(dog_images)):\n",
    "        if dog_images[index].shape[2] != 3:\n",
    "            print(index, dog_images[index].shape[2])  \n",
    "    cat_images = np.array(cat_images)\n",
    "    cat_labels = np.array(cat_labels)\n",
    "    dog_images = np.array(dog_images)\n",
    "    dog_labels = np.array(dog_labels)\n",
    "    \n",
    "    x_cat_train, x_cat_test, y_cat_train, y_cat_test = train_test_split(cat_images, cat_labels, test_size=0.3, random_state = random_state)\n",
    "    x_dog_train, x_dog_test, y_dog_train, y_dog_test = train_test_split(dog_images, dog_labels, test_size=0.3, random_state = random_state)\n",
    "    X_train = np.concatenate((x_cat_train, x_dog_train), axis = 0)\n",
    "    y_train = np.concatenate((y_cat_train, y_dog_train), axis = 0)\n",
    "    X_test = np.concatenate((x_cat_test, x_dog_test), axis = 0)\n",
    "    y_test = np.concatenate((y_cat_test, y_dog_test), axis = 0)\n",
    "\n",
    "    s1 = np.arange(X_train.shape[0])\n",
    "    random.Random(0).shuffle(s1)\n",
    "    X_train = X_train.take(s1, axis = 0)\n",
    "    y_train = y_train.take(s1, axis = 0)\n",
    "    s2  = np.arange(X_test.shape[0])\n",
    "    random.Random(5).shuffle(s2)\n",
    "    X_test = X_test.take(s2, axis = 0)\n",
    "    y_test = y_test.take(s2, axis = 0)\n",
    "    \n",
    "    return X_train, y_train, X_test, y_test"
   ]
  },
  {
   "attachments": {},
   "cell_type": "markdown",
   "metadata": {},
   "source": [
    "# So sánh"
   ]
  },
  {
   "cell_type": "code",
   "execution_count": null,
   "metadata": {},
   "outputs": [],
   "source": [
    "n_test = [100, 200, 300, 400, 500]\n",
    "link_cat = './PetImages/Cat/**'\n",
    "link_dog = './PetImages/Dog/**'\n",
    "X_train, y_train, X_test, y_test = read_data(link_cat, link_dog, 100)"
   ]
  },
  {
   "cell_type": "code",
   "execution_count": null,
   "metadata": {},
   "outputs": [],
   "source": [
    "acc1 = []\n",
    "acc2 = []\n",
    "acc3 = []\n",
    "acc4 = []\n",
    "acc5 = []\n",
    "time1 = []\n",
    "time2 = []\n",
    "time3 = []\n",
    "time4 = []\n",
    "time5 = []"
   ]
  },
  {
   "cell_type": "code",
   "execution_count": null,
   "metadata": {},
   "outputs": [],
   "source": [
    "for n in n_test:\n",
    "    X_train, y_train, X_test, y_test = read_data(link_cat, link_dog, n, random_state = 0)\n",
    "    \n",
    "    x_train = np.array([x.flatten() for x in X_train])\n",
    "    x_test = np.array([x.flatten() for x in X_test])\n",
    "    \n",
    "    y_train_sklearn = np.array([str(y) for y in y_train])\n",
    "    y_test_sklearn = np.array([str(y) for y in y_test])\n",
    "    \n",
    "    \n",
    "    start = time.time()\n",
    "    svm = SVM_Old()\n",
    "    svm.fit(x_train, y_train)\n",
    "    pred = svm.predict(x_test)\n",
    "    end = time.time()\n",
    "    time1.append(end-start)\n",
    "    acc1.append(accuracy_score(pred, y_test))\n",
    "    \n",
    "    start = time.time()\n",
    "    svm = SVM_New(kernel = 'linear')\n",
    "    svm.fit(x_train, y_train)\n",
    "    pred = svm.predict(x_test)\n",
    "    end = time.time()\n",
    "    time2.append(end-start)\n",
    "    acc2.append(accuracy_score(pred, y_test))\n",
    "        \n",
    "    start = time.time()\n",
    "    svm = SVM_New(kernel = 'rbf')\n",
    "    svm.fit(x_train, y_train)\n",
    "    pred = svm.predict(x_test)\n",
    "    end = time.time()\n",
    "    time3.append(end-start)\n",
    "    acc3.append(accuracy_score(pred, y_test))\n",
    "    \n",
    "    start = time.time()\n",
    "    svm = SVC(kernel = 'linear', shrinking = False)\n",
    "    svm.fit(x_train, y_train_sklearn)\n",
    "    pred = svm.predict(x_test)\n",
    "    end = time.time()\n",
    "    time4.append(end-start)\n",
    "    acc4.append(accuracy_score(pred, y_test_sklearn))\n",
    "    \n",
    "    start = time.time()\n",
    "    svm = SVC(kernel = 'rbf', shrinking = False)\n",
    "    svm.fit(x_train, y_train_sklearn)\n",
    "    pred = svm.predict(x_test)\n",
    "    end = time.time()\n",
    "    time5.append(end-start)\n",
    "    acc5.append(accuracy_score(pred, y_test_sklearn))"
   ]
  },
  {
   "attachments": {},
   "cell_type": "markdown",
   "metadata": {},
   "source": [
    "# Plot kết quả"
   ]
  },
  {
   "cell_type": "code",
   "execution_count": null,
   "metadata": {},
   "outputs": [],
   "source": [
    "plt.plot(n_test, acc1, label = 'Old SVM')\n",
    "plt.plot(n_test, acc2, label = 'New SVM - Linear Kernel')\n",
    "plt.plot(n_test, acc3, label = 'New SVM - RBF Kernel')\n",
    "plt.plot(n_test, acc4, label = 'Sklearn - Linear Kernel')\n",
    "plt.plot(n_test, acc5, label = 'Sklearn - RBF Kernel')\n",
    "\n",
    "plt.ylabel(\"Số lượng mẫu\")\n",
    "plt.xlabel(\"Accuracy\")\n",
    "plt.title(\"So sánh độ chính xác các model (không HOG)\")\n",
    "plt.legend()\n",
    "plt.show()"
   ]
  },
  {
   "cell_type": "code",
   "execution_count": null,
   "metadata": {},
   "outputs": [],
   "source": [
    "plt.plot(n_test, time1, label = 'Old SVM')\n",
    "plt.plot(n_test, time2, label = 'New SVM - Linear Kernel')\n",
    "plt.plot(n_test, time3, label = 'New SVM - RBF Kernel')\n",
    "plt.plot(n_test, time4, label = 'Sklearn - Linear Kernel')\n",
    "plt.plot(n_test, time5, label = 'Sklearn - RBF Kernel')\n",
    "\n",
    "plt.ylabel(\"Số lượng mẫu\")\n",
    "plt.xlabel(\"Thời gian\")\n",
    "plt.title(\"So sánh thời gian chạy các model (không HOG)\")\n",
    "plt.legend()\n",
    "plt.show()"
   ]
  },
  {
   "attachments": {},
   "cell_type": "markdown",
   "metadata": {},
   "source": [
    "## Kết quả của SVM mới"
   ]
  },
  {
   "cell_type": "code",
   "execution_count": null,
   "metadata": {},
   "outputs": [],
   "source": [
    "plt.plot(n_test, acc2, label = 'New SVM - Linear Kernel')\n",
    "plt.plot(n_test, acc3, label = 'New SVM - RBF Kernel')\n",
    "\n",
    "plt.ylabel(\"Số lượng mẫu\")\n",
    "plt.xlabel(\"Accuracy\")\n",
    "plt.title(\"So sánh độ chính xác SVM mới (không HOG)\")\n",
    "plt.legend()\n",
    "plt.show()"
   ]
  }
 ],
 "metadata": {
  "kernelspec": {
   "display_name": "cuda",
   "language": "python",
   "name": "python3"
  },
  "language_info": {
   "codemirror_mode": {
    "name": "ipython",
    "version": 3
   },
   "file_extension": ".py",
   "mimetype": "text/x-python",
   "name": "python",
   "nbconvert_exporter": "python",
   "pygments_lexer": "ipython3",
   "version": "3.10.11"
  },
  "orig_nbformat": 4
 },
 "nbformat": 4,
 "nbformat_minor": 2
}

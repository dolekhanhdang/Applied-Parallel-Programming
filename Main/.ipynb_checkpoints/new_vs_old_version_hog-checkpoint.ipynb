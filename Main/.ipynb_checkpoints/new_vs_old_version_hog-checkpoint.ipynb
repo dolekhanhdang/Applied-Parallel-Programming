{
 "cells": [
  {
   "cell_type": "markdown",
   "metadata": {
    "id": "wMLFy1zIAwGB"
   },
   "source": [
    "# Import thư viện"
   ]
  },
  {
   "cell_type": "code",
   "execution_count": 2,
   "metadata": {
    "id": "IbAu-zE7AwGE"
   },
   "outputs": [],
   "source": [
    "import numpy as np\n",
    "from PIL import Image\n",
    "import glob2\n",
    "import random\n",
    "\n",
    "from sklearn.model_selection import train_test_split\n",
    "from sklearn.metrics import accuracy_score\n",
    "from sklearn.svm import SVC\n",
    "\n",
    "import matplotlib.pyplot as plt\n",
    "import time\n",
    "\n",
    "import logging\n",
    "logging.getLogger(\"numba\")\n",
    "logging.disable(logging.WARNING)"
   ]
  },
  {
   "cell_type": "code",
   "execution_count": 3,
   "metadata": {
    "colab": {
     "base_uri": "https://localhost:8080/"
    },
    "id": "-pPZza2_BvkT",
    "outputId": "80dccf82-0d30-4086-9705-8c7194794767"
   },
   "outputs": [],
   "source": [
    "# from google.colab import drive\n",
    "# drive.mount('/content/drive')"
   ]
  },
  {
   "cell_type": "markdown",
   "metadata": {
    "id": "XT1pyREGAwGH"
   },
   "source": [
    "## Import class SVM"
   ]
  },
  {
   "cell_type": "code",
   "execution_count": 4,
   "metadata": {
    "id": "0gj-SMJbAwGI"
   },
   "outputs": [],
   "source": [
    "from svm import *\n",
    "from hog_class import *"
   ]
  },
  {
   "cell_type": "markdown",
   "metadata": {
    "id": "IqATJfR9AwGJ"
   },
   "source": [
    "# Hàm đọc dữ liệu"
   ]
  },
  {
   "cell_type": "code",
   "execution_count": 5,
   "metadata": {
    "id": "u6shAoFPAwGK"
   },
   "outputs": [],
   "source": [
    "def read_data(link_cat, link_dog, n_samples, image_size = (400, 400), random_state = 42):\n",
    "    list_cat = glob2.glob(link_cat)\n",
    "    list_dog = glob2.glob(link_dog)\n",
    "    cat_images = []\n",
    "    cat_labels = []\n",
    "    for i in range(int(n_samples/2)):\n",
    "        if 'jpg' in list_cat[i]:\n",
    "            img = Image.open(list_cat[i]).convert('RGB')\n",
    "            img = img.resize(image_size, Image.LANCZOS)\n",
    "            if len(np.array(img).shape) == 3:\n",
    "                cat_images.append(np.array(img))\n",
    "                cat_labels.append(1)\n",
    "    dog_images = []\n",
    "    dog_labels = []\n",
    "    for i in range(int(n_samples/2)):\n",
    "        if 'jpg' in list_dog[i]:\n",
    "            img = Image.open(list_dog[i]).convert('RGB')\n",
    "            img = img.resize(image_size, Image.LANCZOS)\n",
    "            if len(np.array(img).shape) == 3:\n",
    "                dog_images.append(np.array(img))\n",
    "                dog_labels.append(-1)\n",
    "    for index in range(len(cat_images)):\n",
    "        if cat_images[index].shape[2] != 3:\n",
    "            print(index, cat_images[index].shape[2])\n",
    "    for index in range(len(dog_images)):\n",
    "        if dog_images[index].shape[2] != 3:\n",
    "            print(index, dog_images[index].shape[2])  \n",
    "    cat_images = np.array(cat_images)\n",
    "    cat_labels = np.array(cat_labels)\n",
    "    dog_images = np.array(dog_images)\n",
    "    dog_labels = np.array(dog_labels)\n",
    "    \n",
    "    x_cat_train, x_cat_test, y_cat_train, y_cat_test = train_test_split(cat_images, cat_labels, test_size=0.3, random_state = random_state)\n",
    "    x_dog_train, x_dog_test, y_dog_train, y_dog_test = train_test_split(dog_images, dog_labels, test_size=0.3, random_state = random_state)\n",
    "    X_train = np.concatenate((x_cat_train, x_dog_train), axis = 0)\n",
    "    y_train = np.concatenate((y_cat_train, y_dog_train), axis = 0)\n",
    "    X_test = np.concatenate((x_cat_test, x_dog_test), axis = 0)\n",
    "    y_test = np.concatenate((y_cat_test, y_dog_test), axis = 0)\n",
    "\n",
    "    s1 = np.arange(X_train.shape[0])\n",
    "    random.Random(0).shuffle(s1)\n",
    "    X_train = X_train.take(s1, axis = 0)\n",
    "    y_train = y_train.take(s1, axis = 0)\n",
    "    s2  = np.arange(X_test.shape[0])\n",
    "    random.Random(5).shuffle(s2)\n",
    "    X_test = X_test.take(s2, axis = 0)\n",
    "    y_test = y_test.take(s2, axis = 0)\n",
    "    \n",
    "    return X_train, y_train, X_test, y_test"
   ]
  },
  {
   "cell_type": "code",
   "execution_count": null,
   "metadata": {},
   "outputs": [],
   "source": [
    "def big_fit(X_train, y_train, hog, svm):\n",
    "    x_train = []\n",
    "    t = 0\n",
    "    for x in X_train:\n",
    "        #print(t, end=\"  \")\n",
    "        x_train.append(hog.compute_HOG(x))\n",
    "        t+=1\n",
    "    x_train = np.array(x_train)\n",
    "    svm.fit(x_train, y_train)\n",
    "\n",
    "def big_predict(X_test, y_test, hog, svm):\n",
    "    x_test = []\n",
    "    t = 0\n",
    "    for x in X_test:\n",
    "        #print(t, end = \"  \")\n",
    "        x_test.append(hog.compute_HOG(x))\n",
    "        t+=1\n",
    "    x_test = np.array(x_test)\n",
    "    return svm.predict(x_test)"
   ]
  },
  {
   "cell_type": "markdown",
   "metadata": {
    "id": "AxnzQsyrAwGM"
   },
   "source": [
    "# So sánh"
   ]
  },
  {
   "cell_type": "code",
   "execution_count": 6,
   "metadata": {
    "id": "ULAUIt2_AwGN"
   },
   "outputs": [],
   "source": [
    "n_test = [100, 200, 300, 400, 500]\n",
    "link_cat = r'C:\\Users\\dolek\\Documents\\GitHub\\Applied-Parallel-Programming\\Main\\Data\\Cat\\**'\n",
    "link_dog = r'C:\\Users\\dolek\\Documents\\GitHub\\Applied-Parallel-Programming\\Main\\Data\\Dog\\**'"
   ]
  },
  {
   "cell_type": "code",
   "execution_count": 7,
   "metadata": {
    "id": "2LixxDIdAwGO"
   },
   "outputs": [],
   "source": [
    "acc1 = []\n",
    "acc2 = []\n",
    "acc3 = []\n",
    "acc4 = []\n",
    "acc5 = []\n",
    "time1 = []\n",
    "time2 = []\n",
    "time3 = []\n",
    "time4 = []\n",
    "time5 = []\n",
    "blocksize = (2, 2)\n",
    "cellsize = (8, 8)\n",
    "nbin = 9\n",
    "sbin = 40\n",
    "threadperblock = (32, 32)\n",
    "hog = HOG_CUDA_2(blocksize, cellsize, nbin, sbin, threadperblock)"
   ]
  },
  {
   "cell_type": "code",
   "execution_count": 8,
   "metadata": {
    "colab": {
     "base_uri": "https://localhost:8080/"
    },
    "id": "faetJb14AwGP",
    "outputId": "1e0fccc9-b9f3-498f-d148-2dd27b2451c0"
   },
   "outputs": [
    {
     "ename": "NameError",
     "evalue": "name 'big_fit' is not defined",
     "output_type": "error",
     "traceback": [
      "\u001b[1;31m---------------------------------------------------------------------------\u001b[0m",
      "\u001b[1;31mNameError\u001b[0m                                 Traceback (most recent call last)",
      "Cell \u001b[1;32mIn[8], line 13\u001b[0m\n\u001b[0;32m     11\u001b[0m start \u001b[38;5;241m=\u001b[39m time\u001b[38;5;241m.\u001b[39mtime()\n\u001b[0;32m     12\u001b[0m svm \u001b[38;5;241m=\u001b[39m SVM_Old()\n\u001b[1;32m---> 13\u001b[0m \u001b[43mbig_fit\u001b[49m(X_train, y_train, hog, svm)\n\u001b[0;32m     14\u001b[0m pred \u001b[38;5;241m=\u001b[39m big_predict(X_test, hog, svm)\n\u001b[0;32m     15\u001b[0m end \u001b[38;5;241m=\u001b[39m time\u001b[38;5;241m.\u001b[39mtime()\n",
      "\u001b[1;31mNameError\u001b[0m: name 'big_fit' is not defined"
     ]
    }
   ],
   "source": [
    "for n in n_test:\n",
    "    X_train, y_train, X_test, y_test = read_data(link_cat, link_dog, n, random_state = 0)\n",
    "    \n",
    "    x_train = np.array([x.flatten() for x in X_train])\n",
    "    x_test = np.array([x.flatten() for x in X_test])\n",
    "    \n",
    "    y_train_sklearn = np.array([str(y) for y in y_train])\n",
    "    y_test_sklearn = np.array([str(y) for y in y_test])\n",
    "    \n",
    "    \n",
    "    start = time.time()\n",
    "    svm = SVM_Old()\n",
    "    big_fit(X_train, y_train, hog, svm)\n",
    "    pred = big_predict(X_test, hog, svm)\n",
    "    end = time.time()\n",
    "    time1.append(end-start)\n",
    "    acc1.append(accuracy_score(pred, y_test))\n",
    "    \n",
    "    start = time.time()\n",
    "    svm = SVM_New(kernel = 'linear')\n",
    "    big_fit(X_train, y_train, hog, svm)\n",
    "    pred = big_predict(X_test, hog, svm)\n",
    "    end = time.time()\n",
    "    time2.append(end-start)\n",
    "    acc2.append(accuracy_score(pred, y_test))\n",
    "        \n",
    "    start = time.time()\n",
    "    svm = SVM_New(kernel = 'rbf')\n",
    "    big_fit(X_train, y_train, hog, svm)\n",
    "    pred = big_predict(X_test, hog, svm)\n",
    "    end = time.time()\n",
    "    time3.append(end-start)\n",
    "    acc3.append(accuracy_score(pred, y_test))\n",
    "    \n",
    "    start = time.time()\n",
    "    svm = SVC(kernel = 'linear', shrinking = False)\n",
    "    big_fit(X_train, y_train_sklearn, hog, svm)\n",
    "    pred = big_predict(X_test, hog, svm)\n",
    "    end = time.time()\n",
    "    time4.append(end-start)\n",
    "    acc4.append(accuracy_score(pred, y_test_sklearn))\n",
    "    \n",
    "    start = time.time()\n",
    "    svm = SVC(kernel = 'rbf', shrinking = False)\n",
    "    big_fit(X_train, y_train_sklearn, hog, svm)\n",
    "    pred = big_predict(X_test, hog, svm)\n",
    "    end = time.time()\n",
    "    time5.append(end-start)\n",
    "    acc5.append(accuracy_score(pred, y_test_sklearn))"
   ]
  },
  {
   "cell_type": "markdown",
   "metadata": {
    "id": "d0nP8_-IAwGQ"
   },
   "source": [
    "# Plot kết quả"
   ]
  },
  {
   "cell_type": "code",
   "execution_count": null,
   "metadata": {
    "colab": {
     "base_uri": "https://localhost:8080/",
     "height": 472
    },
    "id": "rqUJu2E6AwGR",
    "outputId": "638362c2-d526-4e8d-8413-c9dbe78493bb"
   },
   "outputs": [],
   "source": [
    "plt.plot(n_test, acc1, label = 'Old SVM')\n",
    "plt.plot(n_test, acc2, label = 'New SVM - Linear Kernel')\n",
    "plt.plot(n_test, acc3, label = 'New SVM - RBF Kernel')\n",
    "plt.plot(n_test, acc4, label = 'Sklearn - Linear Kernel')\n",
    "plt.plot(n_test, acc5, label = 'Sklearn - RBF Kernel')\n",
    "\n",
    "plt.ylabel(\"Số lượng mẫu\")\n",
    "plt.xlabel(\"Accuracy\")\n",
    "plt.title(\"So sánh độ chính xác các model (có HOG)\")\n",
    "plt.legend()\n",
    "plt.show()"
   ]
  },
  {
   "cell_type": "code",
   "execution_count": null,
   "metadata": {
    "colab": {
     "base_uri": "https://localhost:8080/",
     "height": 473
    },
    "id": "pE3NZhWIAwGR",
    "outputId": "06508a1a-7d72-42ec-f055-2b5ca0d7f86e"
   },
   "outputs": [],
   "source": [
    "plt.plot(n_test, time1, label = 'Old SVM')\n",
    "plt.plot(n_test, time2, label = 'New SVM - Linear Kernel')\n",
    "plt.plot(n_test, time3, label = 'New SVM - RBF Kernel')\n",
    "plt.plot(n_test, time4, label = 'Sklearn - Linear Kernel')\n",
    "plt.plot(n_test, time5, label = 'Sklearn - RBF Kernel')\n",
    "\n",
    "plt.ylabel(\"Số lượng mẫu\")\n",
    "plt.xlabel(\"Thời gian\")\n",
    "plt.title(\"So sánh thời gian chạy các model (có HOG)\")\n",
    "plt.legend()\n",
    "plt.show()"
   ]
  },
  {
   "cell_type": "markdown",
   "metadata": {
    "id": "vwB7NXiXAwGS"
   },
   "source": [
    "## Kết quả của SVM mới"
   ]
  },
  {
   "cell_type": "code",
   "execution_count": 19,
   "metadata": {
    "colab": {
     "base_uri": "https://localhost:8080/",
     "height": 472
    },
    "id": "5V92O8xiAwGS",
    "outputId": "0611bb68-b226-4525-89e8-1835248dcbc2"
   },
   "outputs": [
    {
     "data": {
      "image/png": "[encoded data removed]",
      "text/plain": [
       "<Figure size 640x480 with 1 Axes>"
      ]
     },
     "metadata": {},
     "output_type": "display_data"
    }
   ],
   "source": [
    "plt.plot(n_test, acc2, label = 'New SVM - Linear Kernel')\n",
    "plt.plot(n_test, acc3, label = 'New SVM - RBF Kernel')\n",
    "\n",
    "plt.ylabel(\"Số lượng mẫu\")\n",
    "plt.xlabel(\"Accuracy\")\n",
    "plt.title(\"So sánh độ chính xác SVM mới (có HOG)\")\n",
    "plt.legend()\n",
    "plt.show()"
   ]
  }
 ],
 "metadata": {
  "accelerator": "GPU",
  "colab": {
   "gpuType": "T4",
   "provenance": []
  },
  "kernelspec": {
   "display_name": "Python 3 (ipykernel)",
   "language": "python",
   "name": "python3"
  },
  "language_info": {
   "codemirror_mode": {
    "name": "ipython",
    "version": 3
   },
   "file_extension": ".py",
   "mimetype": "text/x-python",
   "name": "python",
   "nbconvert_exporter": "python",
   "pygments_lexer": "ipython3",
   "version": "3.9.16"
  }
 },
 "nbformat": 4,
 "nbformat_minor": 1
}

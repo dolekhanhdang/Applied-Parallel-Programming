{
 "cells": [
  {
   "cell_type": "code",
   "execution_count": 2,
   "metadata": {
    "id": "B6psXPYKhbUK"
   },
   "outputs": [],
   "source": [
    "import numpy as np\n",
    "import glob2\n",
    "from PIL import Image\n",
    "from sklearn.model_selection import train_test_split\n",
    "from sklearn.metrics import accuracy_score\n",
    "from sklearn.svm import SVC\n",
    "import logging\n",
    "import random\n",
    "from numba import cuda\n",
    "import time\n",
    "import matplotlib.pyplot as plt\n",
    "from numba import cuda\n",
    "import math\n"
   ]
  },
  {
   "cell_type": "markdown",
   "metadata": {
    "id": "4TOgy8SXhesc"
   },
   "source": [
    "# Read data"
   ]
  },
  {
   "cell_type": "code",
   "execution_count": 3,
   "metadata": {
    "id": "meW0PEKDhcM5"
   },
   "outputs": [],
   "source": [
    "def read_data(link_cat, link_dog, n_samples, image_size = (400, 400), random_state = 42):\n",
    "    list_cat = glob2.glob(link_cat)\n",
    "    list_dog = glob2.glob(link_dog)\n",
    "    cat_images = []\n",
    "    cat_labels = []\n",
    "    for i in range(n_samples):\n",
    "        if 'jpg' in list_cat[i]:\n",
    "            img = Image.open(list_cat[i]).convert('RGB')\n",
    "            img = img.resize(image_size, Image.LANCZOS)\n",
    "            if len(np.array(img).shape) == 3:\n",
    "                cat_images.append(np.array(img))\n",
    "                cat_labels.append(1)\n",
    "    dog_images = []\n",
    "    dog_labels = []\n",
    "    for i in range(n_samples):\n",
    "        if 'jpg' in list_dog[i]:\n",
    "            img = Image.open(list_dog[i]).convert('RGB')\n",
    "            img = img.resize(image_size, Image.LANCZOS)\n",
    "            if len(np.array(img).shape) == 3:\n",
    "                dog_images.append(np.array(img))\n",
    "                dog_labels.append(-1)\n",
    "    for index in range(len(cat_images)):\n",
    "        if cat_images[index].shape[2] != 3:\n",
    "            print(index, cat_images[index].shape[2])\n",
    "    for index in range(len(dog_images)):\n",
    "        if dog_images[index].shape[2] != 3:\n",
    "            print(index, dog_images[index].shape[2])  \n",
    "    cat_images = np.array(cat_images)\n",
    "    cat_labels = np.array(cat_labels)\n",
    "    dog_images = np.array(dog_images)\n",
    "    dog_labels = np.array(dog_labels)\n",
    "    \n",
    "    x_cat_train, x_cat_test, y_cat_train, y_cat_test = train_test_split(cat_images, cat_labels, test_size=0.3, random_state = random_state)\n",
    "    x_dog_train, x_dog_test, y_dog_train, y_dog_test = train_test_split(dog_images, dog_labels, test_size=0.3, random_state = random_state)\n",
    "    X_train = np.concatenate((x_cat_train, x_dog_train), axis = 0)\n",
    "    y_train = np.concatenate((y_cat_train, y_dog_train), axis = 0)\n",
    "    X_test = np.concatenate((x_cat_test, x_dog_test), axis = 0)\n",
    "    y_test = np.concatenate((y_cat_test, y_dog_test), axis = 0)\n",
    "\n",
    "    s1 = np.arange(X_train.shape[0])\n",
    "    random.Random(0).shuffle(s1)\n",
    "    X_train = X_train.take(s1, axis = 0)\n",
    "    y_train = y_train.take(s1, axis = 0)\n",
    "    s2  = np.arange(X_test.shape[0])\n",
    "    random.Random(5).shuffle(s2)\n",
    "    X_test = X_test.take(s2, axis = 0)\n",
    "    y_test = y_test.take(s2, axis = 0)\n",
    "    \n",
    "    return X_train, y_train, X_test, y_test"
   ]
  },
  {
   "cell_type": "markdown",
   "metadata": {
    "id": "iQc6TDokhhRI"
   },
   "source": [
    "# SVM Sequencial"
   ]
  },
  {
   "cell_type": "code",
   "execution_count": 4,
   "metadata": {
    "id": "pljfAg-mhjk7"
   },
   "outputs": [],
   "source": [
    "class SVM_Se:\n",
    "    def __init__(self, gamma = -1, kernel = 'rbf', C = 1.0, eps = 1e-3):\n",
    "        self.C = C\n",
    "        self.eps = eps\n",
    "        self.gamma = gamma\n",
    "        self.tau = 1e-12\n",
    "        self.kernel = kernel\n",
    "        self.gamma = gamma\n",
    "    \n",
    "    def Kernel(self, x1, x2):\n",
    "        if self.kernel == 'rbf':\n",
    "            return self.rbf(x1, x2)\n",
    "        if self.kernel == 'linear':\n",
    "            return self.linear(x1, x2)\n",
    "\n",
    "    def get_Q(self, X, i, j):\n",
    "        if self.Q[i, j] == None:\n",
    "            self.Q[i][j] = self.y[i] * self.y[j] * self.get_K(X, i, j)\n",
    "            self.Q[j][i] = self.Q[i][j]\n",
    "        return self.Q[i][j]\n",
    "    \n",
    "    def get_K(self, X, i, j):\n",
    "        if self.K[i, j] == None:\n",
    "            self.K[i][j] = self.Kernel(X[i], X[j])\n",
    "            self.K[j][i] = self.K[i][j]\n",
    "        return self.K[i][j]\n",
    "    \n",
    "    def linear(self, x1, x2):\n",
    "        x1_temp = x1.astype(np.float64)\n",
    "        x2_temp = x2.astype(np.float64)\n",
    "        return x1_temp.dot(x2_temp)\n",
    "    \n",
    "    def rbf(self, x1, x2):\n",
    "        x1_temp = x1.astype(np.float64)\n",
    "        x2_temp = x2.astype(np.float64)\n",
    "        return np.exp(-self.gamma * (x1_temp.dot(x1_temp) + x2_temp.dot(x2_temp) - 2.0 * x1_temp.dot(x2_temp)))\n",
    "        \n",
    "    def select_B(self, X):\n",
    "        i = -1\n",
    "        G_max = -np.inf\n",
    "        G_min = np.inf\n",
    "        for t in range(self.l):\n",
    "            if (self.y[t] == 1 and self.alphas[t] <self.C) or \\\n",
    "            (self.y[t] == -1 and self.alphas[t] > 0):\n",
    "                if -self.y[t] * self.G[t] >= G_max:\n",
    "                    i = t\n",
    "                    G_max = -self.y[t] * self.G[t]\n",
    "        j = -1\n",
    "        obj_min = np.inf\n",
    "        for t in range(self.l):\n",
    "            if (self.y[t]==1 and self.alphas[t]>0) or \\\n",
    "                (self.y[t] == -1 and self.alphas[t] < self.C):\n",
    "                    b = G_max + self.y[t] * self.G[t]\n",
    "                    if -self.y[t]*self.G[t] <= G_min:\n",
    "                        G_min = -self.y[t] * self.G[t]\n",
    "                    if b>0:\n",
    "                        a = self.get_Q(X, i, i) + self.get_Q(X, t, t) - 2.0*self.y[i]*self.y[t]*self.get_Q(X, i, t)\n",
    "                        if a<=0:\n",
    "                            a = self.tau\n",
    "                        if -(b*b)/a <= obj_min:\n",
    "                            j = t\n",
    "                            obj_min = -(b*b)/a\n",
    "        if G_max - G_min < self.eps:\n",
    "            return -1, -1\n",
    "        return i, j\n",
    "\n",
    "    def predict(self, X):\n",
    "        pred = []\n",
    "        for x in X:\n",
    "            sum = 0.0\n",
    "            for i in range(self.l):\n",
    "                sum += self.y[i] * self.alphas[i] * self.Kernel(self.X[i], x)\n",
    "            sum -= self.b\n",
    "            pred.append(np.sign(sum))\n",
    "        return pred\n",
    "\n",
    "    def get_b(self):\n",
    "        sum = 0.0\n",
    "        count = 0\n",
    "        for i in range(self.l):\n",
    "            if 0 < self.alphas[i] < self.C:\n",
    "                count += 1\n",
    "                sum += self.y[i] * self.G[i]\n",
    "        if count > 0:\n",
    "            self.b = sum/count\n",
    "            return\n",
    "        max = -np.inf\n",
    "        min = np.inf\n",
    "        for i in range(self.l):\n",
    "            if (self.alphas[i] == 0 and self.y[i] == -1) or \\\n",
    "                (self.alphas[i] == self.C and self.y[i] == 1):\n",
    "                    if max < self.y[i] * self.G[i]:\n",
    "                        max = self.y[i] * self.G[i]\n",
    "            if (self.alphas[i] == 0 and self.y[i] == 1) or \\\n",
    "                (self.alphas[i] == self.C and self.y[i] == -1):\n",
    "                    if min > self.y[i] *self.G[i]:\n",
    "                        min = self.y[i] * self.G[i]\n",
    "        self.b = (min+max) / 2\n",
    "\n",
    "    def fit(self, X, y):\n",
    "        global t1\n",
    "        global t2\n",
    "        global t3\n",
    "        self.y = y\n",
    "        self.X = X\n",
    "        self.l = len(y)\n",
    "        if self.gamma == -1:\n",
    "            self.gamma = 1/(X.shape[1]*X.var())\n",
    "        self.active_size= self.l\n",
    "        self.alphas = np.zeros(self.l)\n",
    "        self.n_iter = 0\n",
    "\n",
    "        self.K = np.array([[None for _ in range(self.l)] for _ in range(self.l)])\n",
    "        self.Q = np.array([[None for _ in range(self.l)] for _ in range(self.l)])\n",
    "        self.G = np.array([-1.0 for _ in range(self.l)])\n",
    "        while True:\n",
    "            i, j = self.select_B(X)\n",
    "            if j == -1:\n",
    "                break\n",
    "            self.n_iter += 1\n",
    "            alphai = self.alphas[i]\n",
    "            alphaj = self.alphas[j]\n",
    "            if y[i] != y[j]:\n",
    "                quad_coef = self.get_Q(X, i, i) + self.get_Q(X, j, j) + 2*self.get_Q(X, i, j)\n",
    "                if quad_coef <= 0:\n",
    "                    quad_coef = self.tau\n",
    "                delta = (-self.G[i] - self.G[j])/quad_coef\n",
    "                diff = alphai - alphaj\n",
    "                self.alphas[i] += delta\n",
    "                self.alphas[j] += delta\n",
    "                if diff > 0:\n",
    "                    if self.alphas[j]<0:\n",
    "                        self.alphas[j] = 0\n",
    "                        self.alphas[i] = diff\n",
    "                    if self.alphas[i]>self.C:\n",
    "                        self.alphas[i] = self.C\n",
    "                        self.alphas[j] = self.C - diff\n",
    "                else:\n",
    "                    if self.alphas[i]<0:\n",
    "                        self.alphas[i] = 0\n",
    "                        self.alphas[j] = -diff\n",
    "                    if self.alphas[j]>self.C:\n",
    "                        self.alphas[j] = self.C\n",
    "                        self.alphas[i] = self.C + diff\n",
    "            else:\n",
    "                quad_coef = self.get_Q(X, i, i) + self.get_Q(X,j,j) - 2*self.get_Q(X,i,j)\n",
    "                if quad_coef <=0:\n",
    "                    quad_coef = self.tau\n",
    "                delta = (self.G[i]-self.G[j])/quad_coef\n",
    "                sum = alphai + alphaj\n",
    "                self.alphas[i] -= delta\n",
    "                self.alphas[j] += delta\n",
    "                if sum>self.C:\n",
    "                    if self.alphas[i]>self.C:\n",
    "                        self.alphas[i] = self.C\n",
    "                        self.alphas[j] = sum-self.C\n",
    "                    if self.alphas[j]>self.C:\n",
    "                        self.alphas[j] = self.C\n",
    "                        self.alphas[i] = sum-self.C\n",
    "                else:\n",
    "                    if self.alphas[j]<0:\n",
    "                        self.alphas[j] = 0\n",
    "                        self.alphas[i] = sum\n",
    "                    if self.alphas[i]<0:\n",
    "                        self.alphas[i] = 0\n",
    "                        self.alphas[j] = sum\n",
    "            delta_ai = self.alphas[i] - alphai\n",
    "            delta_aj = self.alphas[j] - alphaj\n",
    "            for t in range(self.l):\n",
    "                self.G[t] += self.get_Q(X, i, t) * delta_ai + self.get_Q(X, j, t) *delta_aj\n",
    "        self.get_b()"
   ]
  },
  {
   "cell_type": "markdown",
   "metadata": {
    "id": "l_lawFKgjWrt"
   },
   "source": [
    "# SVM Parallel"
   ]
  },
  {
   "cell_type": "code",
   "execution_count": 8,
   "metadata": {
    "id": "DgTnreRZjYfG"
   },
   "outputs": [],
   "source": [
    "class SVM_Pa:\n",
    "    def __init__(self, gamma = -1, kernel = 'rbf', C = 1.0, eps = 1e-3):\n",
    "        self.C = C\n",
    "        self.eps = eps\n",
    "        self.gamma = gamma\n",
    "        self.tau = 1e-12\n",
    "        self.kernel = kernel\n",
    "        self.gamma = gamma\n",
    "    \n",
    "    def Kernel(self, x1, x2):\n",
    "        if self.kernel == 'rbf':\n",
    "            return self.rbf(x1, x2)\n",
    "        if self.kernel == 'linear':\n",
    "            return self.linear(x1, x2)\n",
    "   \n",
    "    def linear(self, x1, x2):\n",
    "        x1_temp = x1.astype(np.float64)\n",
    "        x2_temp = x2.astype(np.float64)\n",
    "        return x1_temp.dot(x2_temp)\n",
    "    \n",
    "    def rbf(self, x1, x2):\n",
    "        x1_temp = x1.astype(np.float64)\n",
    "        x2_temp = x2.astype(np.float64)\n",
    "        return np.exp(-self.gamma * (x1_temp.dot(x1_temp) + x2_temp.dot(x2_temp) - 2.0 * x1_temp.dot(x2_temp)))\n",
    "        \n",
    "    def select_B(self, X):\n",
    "        i = -1\n",
    "        G_max = -np.inf\n",
    "        G_min = np.inf\n",
    "        for t in range(self.l):\n",
    "            if (self.y[t] == 1 and self.alphas[t] <self.C) or \\\n",
    "            (self.y[t] == -1 and self.alphas[t] > 0):\n",
    "                if -self.y[t] * self.G[t] >= G_max:\n",
    "                    i = t\n",
    "                    G_max = -self.y[t] * self.G[t]\n",
    "        j = -1\n",
    "        obj_min = np.inf\n",
    "        for t in range(self.l):\n",
    "            if (self.y[t]==1 and self.alphas[t]>0) or \\\n",
    "                (self.y[t] == -1 and self.alphas[t] < self.C):\n",
    "                    b = G_max + self.y[t] * self.G[t]\n",
    "                    if -self.y[t]*self.G[t] <= G_min:\n",
    "                        G_min = -self.y[t] * self.G[t]\n",
    "                    if b>0:\n",
    "                        a = self.Q[i, i] + self.Q[t, t] - 2.0*self.y[i]*self.y[t]*self.Q[i, t]\n",
    "                        if a<=0:\n",
    "                            a = self.tau\n",
    "                        if -(b*b)/a <= obj_min:\n",
    "                            j = t\n",
    "                            obj_min = -(b*b)/a\n",
    "        if G_max - G_min < self.eps:\n",
    "            return -1, -1\n",
    "        return i, j\n",
    "\n",
    "    def predict(self, X):\n",
    "        return np.sign(self.dual_coef.dot(self.init_K(X)) - self.b)\n",
    "\n",
    "    @staticmethod\n",
    "    @cuda.jit \n",
    "    def init_K_kernel_rbf(X1, X2, K, n1, n2, m, gamma):\n",
    "        i, j = cuda.grid(2)\n",
    "        if i>= n1 or j >= n2:\n",
    "            return\n",
    "        sumii = np.float64(0)\n",
    "        sumij = np.float64(0)\n",
    "        sumjj = np.float64(0)\n",
    "        for k in range(m):\n",
    "            sumii += X1[i][k] * X1[i][k]\n",
    "            sumij += X1[i][k] * X2[j][k]\n",
    "            sumjj += X2[j][k] * X2[j][k]\n",
    "        K[i, j] = math.exp(-gamma * (sumii + sumjj - 2.0 * sumij))\n",
    "    \n",
    "    @staticmethod\n",
    "    @cuda.jit \n",
    "    def init_K_kernel_linear(X1, X2, K, n1, n2, m):\n",
    "        i, j = cuda.grid(2)\n",
    "        if i>= n1 or j >= n2:\n",
    "            return\n",
    "        sumij = np.float64(0)\n",
    "        for k in range(m):\n",
    "            sumij += X1[i][k] * X2[j][k]\n",
    "        K[i, j] = sumij\n",
    "        \n",
    "    def init_K(self, x):\n",
    "        d_x1 = self.X.astype(np.float64)\n",
    "        d_x2 = x.astype(np.float64)\n",
    "        d_K = cuda.device_array((self.l, x.shape[0]), np.float64)\n",
    "        blocksize = (32, 32)\n",
    "        gridsize = (math.ceil(self.l/blocksize[0]), math.ceil(x.shape[0]/blocksize[1]))\n",
    "        if self.kernel == 'rbf':\n",
    "            self.init_K_kernel_rbf[gridsize, blocksize](d_x1, d_x2, d_K, self.l, x.shape[0], self.n_features, self.gamma)\n",
    "        elif self.kernel == 'linear':\n",
    "            self.init_K_kernel_linear[gridsize, blocksize](d_x1, d_x2, d_K, self.l, x.shape[0], self.n_features)\n",
    "        return np.array(d_K.copy_to_host())\n",
    "\n",
    "    def get_b(self):\n",
    "        sum = 0.0\n",
    "        count = 0\n",
    "        for i in range(self.l):\n",
    "            if 0 < self.alphas[i] < self.C:\n",
    "                count += 1\n",
    "                sum += self.y[i] * self.G[i]\n",
    "        if count > 0:\n",
    "            self.b = sum/count\n",
    "            return\n",
    "        max = -np.inf\n",
    "        min = np.inf\n",
    "        for i in range(self.l):\n",
    "            if (self.alphas[i] == 0 and self.y[i] == -1) or \\\n",
    "                (self.alphas[i] == self.C and self.y[i] == 1):\n",
    "                    if max < self.y[i] * self.G[i]:\n",
    "                        max = self.y[i] * self.G[i]\n",
    "            if (self.alphas[i] == 0 and self.y[i] == 1) or \\\n",
    "                (self.alphas[i] == self.C and self.y[i] == -1):\n",
    "                    if min > self.y[i] *self.G[i]:\n",
    "                        min = self.y[i] * self.G[i]\n",
    "        self.b = (min+max) / 2\n",
    "    \n",
    "    @staticmethod\n",
    "    @cuda.jit \n",
    "    def init_Q_kernel_rbf(X, y, Q, n, m, gamma):\n",
    "        i, j = cuda.grid(2)\n",
    "        if i>= n or j >= n:\n",
    "            return\n",
    "        sumii = np.float64(0)\n",
    "        sumij = np.float64(0)\n",
    "        sumjj = np.float64(0)\n",
    "        for k in range(m):\n",
    "            sumii += X[i][k] * X[i][k]\n",
    "            sumij += X[i][k] * X[j][k]\n",
    "            sumjj += X[j][k] * X[j][k]\n",
    "        Q[i, j] = y[i]*y[j]*math.exp(-gamma * (sumii + sumjj - 2.0 * sumij))\n",
    "    \n",
    "    \n",
    "    @staticmethod\n",
    "    @cuda.jit \n",
    "    def init_Q_kernel_linear(X, y, Q, n, m):\n",
    "        i, j = cuda.grid(2)\n",
    "        if i>= n or j >= n:\n",
    "            return\n",
    "        sumij = np.float64(0)\n",
    "        for k in range(m):\n",
    "            sumij += X[i][k] * X[j][k]\n",
    "        Q[i, j] = y[i]*y[j]*sumij\n",
    "        \n",
    "    def init_Q(self):\n",
    "        d_x = self.X.astype(np.float64)\n",
    "        d_y = self.y.astype(np.float64)\n",
    "        d_Q = cuda.device_array((self.l, self.l), np.float64)\n",
    "        blocksize = (32, 32)\n",
    "        gridsize = (math.ceil(self.l/blocksize[0]), math.ceil(self.l/blocksize[1]))\n",
    "        if self.kernel == 'rbf':\n",
    "            self.init_Q_kernel_rbf[gridsize, blocksize](d_x, d_y, d_Q, self.l, self.n_features, self.gamma)\n",
    "        elif self.kernel == 'linear':\n",
    "            self.init_Q_kernel_linear[gridsize, blocksize](d_x, d_y, d_Q, self.l, self.n_features)\n",
    "        self.Q = np.array(d_Q.copy_to_host())\n",
    "    \n",
    "    @staticmethod\n",
    "    @cuda.jit\n",
    "    def compute_dual_coef_kernel(alpha, y, dual_coef, l):\n",
    "        i = cuda.grid(1)\n",
    "        if i > l:\n",
    "            return\n",
    "        dual_coef[i] = alpha[i] * y[i]\n",
    "\n",
    "    def compute_dual_coef(self):\n",
    "        blocksize = 32\n",
    "        gridsize = math.ceil(self.l/blocksize)\n",
    "        d_dualcoef = cuda.device_array(self.l, np.float64)\n",
    "        self.compute_dual_coef_kernel[gridsize, blocksize](self.alphas, self.y, d_dualcoef, self.l)\n",
    "        self.dual_coef = d_dualcoef.copy_to_host()\n",
    "        \n",
    "\n",
    "    def fit(self, X, y):\n",
    "        self.y = y\n",
    "        self.X = X\n",
    "        self.l, self.n_features = X.shape\n",
    "        if self.gamma == -1:\n",
    "            self.gamma = 1/(self.n_features*X.var())\n",
    "        self.alphas = np.zeros(self.l)\n",
    "        self.n_iter = 0\n",
    "        self.init_Q()\n",
    "        self.G = np.array([-1.0 for _ in range(self.l)])\n",
    "        while True:\n",
    "            i, j = self.select_B(X)\n",
    "            if j == -1:\n",
    "                break\n",
    "            self.n_iter += 1\n",
    "            alphai = self.alphas[i]\n",
    "            alphaj = self.alphas[j]\n",
    "            if y[i] != y[j]:\n",
    "                quad_coef = self.Q[i, i] + self.Q[j, j] + 2*self.Q[i, j]\n",
    "                if quad_coef <= 0:\n",
    "                    quad_coef = self.tau\n",
    "                delta = (-self.G[i] - self.G[j])/quad_coef\n",
    "                diff = alphai - alphaj\n",
    "                self.alphas[i] += delta\n",
    "                self.alphas[j] += delta\n",
    "                if diff > 0:\n",
    "                    if self.alphas[j]<0:\n",
    "                        self.alphas[j] = 0\n",
    "                        self.alphas[i] = diff\n",
    "                    if self.alphas[i]>self.C:\n",
    "                        self.alphas[i] = self.C\n",
    "                        self.alphas[j] = self.C - diff\n",
    "                else:\n",
    "                    if self.alphas[i]<0:\n",
    "                        self.alphas[i] = 0\n",
    "                        self.alphas[j] = -diff\n",
    "                    if self.alphas[j]>self.C:\n",
    "                        self.alphas[j] = self.C\n",
    "                        self.alphas[i] = self.C + diff\n",
    "            else:\n",
    "                quad_coef = self.Q[i, i] + self.Q[j,j] - 2*self.Q[i,j]\n",
    "                if quad_coef <=0:\n",
    "                    quad_coef = self.tau\n",
    "                delta = (self.G[i]-self.G[j])/quad_coef\n",
    "                sum = alphai + alphaj\n",
    "                self.alphas[i] -= delta\n",
    "                self.alphas[j] += delta\n",
    "                if sum>self.C:\n",
    "                    if self.alphas[i]>self.C:\n",
    "                        self.alphas[i] = self.C\n",
    "                        self.alphas[j] = sum-self.C\n",
    "                    if self.alphas[j]>self.C:\n",
    "                        self.alphas[j] = self.C\n",
    "                        self.alphas[i] = sum-self.C\n",
    "                else:\n",
    "                    if self.alphas[j]<0:\n",
    "                        self.alphas[j] = 0\n",
    "                        self.alphas[i] = sum\n",
    "                    if self.alphas[i]<0:\n",
    "                        self.alphas[i] = 0\n",
    "                        self.alphas[j] = sum\n",
    "            delta_ai = self.alphas[i] - alphai\n",
    "            delta_aj = self.alphas[j] - alphaj\n",
    "            self.G += self.Q[i, :] *delta_ai + self.Q[j, :]*delta_aj\n",
    "        self.compute_dual_coef()\n",
    "        self.get_b()"
   ]
  },
  {
   "cell_type": "code",
   "execution_count": 6,
   "metadata": {
    "colab": {
     "base_uri": "https://localhost:8080/"
    },
    "id": "8szoOVMulVwN",
    "outputId": "d6dd9017-050b-4a8c-e1eb-a981fe00dcc6"
   },
   "outputs": [
    {
     "name": "stdout",
     "output_type": "stream",
     "text": [
      "Drive already mounted at /content/drive; to attempt to forcibly remount, call drive.mount(\"/content/drive\", force_remount=True).\n"
     ]
    }
   ],
   "source": [
    "from google.colab import drive\n",
    "drive.mount('/content/drive')"
   ]
  },
  {
   "cell_type": "code",
   "execution_count": 9,
   "metadata": {
    "colab": {
     "base_uri": "https://localhost:8080/",
     "height": 1000
    },
    "id": "-v90Z6gxkyWv",
    "outputId": "d6296d71-22f9-45f2-e54f-1491d795b320"
   },
   "outputs": [
    {
     "name": "stdout",
     "output_type": "stream",
     "text": [
      "SVM Parallel\n"
     ]
    },
    {
     "name": "stderr",
     "output_type": "stream",
     "text": [
      "/usr/local/lib/python3.10/dist-packages/numba/cuda/dispatcher.py:488: NumbaPerformanceWarning: Grid size 25 will likely result in GPU under-utilization due to low occupancy.\n",
      "  warn(NumbaPerformanceWarning(msg))\n",
      "/usr/local/lib/python3.10/dist-packages/numba/cuda/cudadrv/devicearray.py:885: NumbaPerformanceWarning: Host array used in CUDA kernel will incur copy overhead to/from device.\n",
      "  warn(NumbaPerformanceWarning(msg))\n",
      "/usr/local/lib/python3.10/dist-packages/numba/cuda/dispatcher.py:488: NumbaPerformanceWarning: Grid size 5 will likely result in GPU under-utilization due to low occupancy.\n",
      "  warn(NumbaPerformanceWarning(msg))\n",
      "/usr/local/lib/python3.10/dist-packages/numba/cuda/cudadrv/devicearray.py:885: NumbaPerformanceWarning: Host array used in CUDA kernel will incur copy overhead to/from device.\n",
      "  warn(NumbaPerformanceWarning(msg))\n",
      "/usr/local/lib/python3.10/dist-packages/numba/cuda/dispatcher.py:488: NumbaPerformanceWarning: Grid size 10 will likely result in GPU under-utilization due to low occupancy.\n",
      "  warn(NumbaPerformanceWarning(msg))\n",
      "/usr/local/lib/python3.10/dist-packages/numba/cuda/cudadrv/devicearray.py:885: NumbaPerformanceWarning: Host array used in CUDA kernel will incur copy overhead to/from device.\n",
      "  warn(NumbaPerformanceWarning(msg))\n"
     ]
    },
    {
     "name": "stdout",
     "output_type": "stream",
     "text": [
      "Sklearn SVM no shrink\n",
      "Sklearn SVM shrink\n"
     ]
    },
    {
     "name": "stderr",
     "output_type": "stream",
     "text": [
      "/usr/local/lib/python3.10/dist-packages/PIL/TiffImagePlugin.py:819: UserWarning: Truncated File Read\n",
      "  warnings.warn(str(msg))\n"
     ]
    },
    {
     "name": "stdout",
     "output_type": "stream",
     "text": [
      "SVM Parallel\n"
     ]
    },
    {
     "name": "stderr",
     "output_type": "stream",
     "text": [
      "/usr/local/lib/python3.10/dist-packages/numba/cuda/dispatcher.py:488: NumbaPerformanceWarning: Grid size 49 will likely result in GPU under-utilization due to low occupancy.\n",
      "  warn(NumbaPerformanceWarning(msg))\n",
      "/usr/local/lib/python3.10/dist-packages/numba/cuda/cudadrv/devicearray.py:885: NumbaPerformanceWarning: Host array used in CUDA kernel will incur copy overhead to/from device.\n",
      "  warn(NumbaPerformanceWarning(msg))\n",
      "/usr/local/lib/python3.10/dist-packages/numba/cuda/dispatcher.py:488: NumbaPerformanceWarning: Grid size 7 will likely result in GPU under-utilization due to low occupancy.\n",
      "  warn(NumbaPerformanceWarning(msg))\n",
      "/usr/local/lib/python3.10/dist-packages/numba/cuda/dispatcher.py:488: NumbaPerformanceWarning: Grid size 21 will likely result in GPU under-utilization due to low occupancy.\n",
      "  warn(NumbaPerformanceWarning(msg))\n"
     ]
    },
    {
     "name": "stdout",
     "output_type": "stream",
     "text": [
      "Sklearn SVM no shrink\n",
      "Sklearn SVM shrink\n"
     ]
    },
    {
     "name": "stderr",
     "output_type": "stream",
     "text": [
      "/usr/local/lib/python3.10/dist-packages/PIL/TiffImagePlugin.py:819: UserWarning: Truncated File Read\n",
      "  warnings.warn(str(msg))\n"
     ]
    },
    {
     "name": "stdout",
     "output_type": "stream",
     "text": [
      "SVM Parallel\n"
     ]
    },
    {
     "name": "stderr",
     "output_type": "stream",
     "text": [
      "/usr/local/lib/python3.10/dist-packages/numba/cuda/dispatcher.py:488: NumbaPerformanceWarning: Grid size 81 will likely result in GPU under-utilization due to low occupancy.\n",
      "  warn(NumbaPerformanceWarning(msg))\n",
      "/usr/local/lib/python3.10/dist-packages/numba/cuda/cudadrv/devicearray.py:885: NumbaPerformanceWarning: Host array used in CUDA kernel will incur copy overhead to/from device.\n",
      "  warn(NumbaPerformanceWarning(msg))\n",
      "/usr/local/lib/python3.10/dist-packages/numba/cuda/dispatcher.py:488: NumbaPerformanceWarning: Grid size 9 will likely result in GPU under-utilization due to low occupancy.\n",
      "  warn(NumbaPerformanceWarning(msg))\n",
      "/usr/local/lib/python3.10/dist-packages/numba/cuda/dispatcher.py:488: NumbaPerformanceWarning: Grid size 36 will likely result in GPU under-utilization due to low occupancy.\n",
      "  warn(NumbaPerformanceWarning(msg))\n"
     ]
    },
    {
     "name": "stdout",
     "output_type": "stream",
     "text": [
      "Sklearn SVM no shrink\n",
      "Sklearn SVM shrink\n"
     ]
    },
    {
     "ename": "KeyboardInterrupt",
     "evalue": "ignored",
     "output_type": "error",
     "traceback": [
      "\u001b[0;31m---------------------------------------------------------------------------\u001b[0m",
      "\u001b[0;31mNotADirectoryError\u001b[0m                        Traceback (most recent call last)",
      "\u001b[0;32m/usr/local/lib/python3.10/dist-packages/glob2/impl.py\u001b[0m in \u001b[0;36mwalk\u001b[0;34m(self, top, followlinks, sep)\u001b[0m\n\u001b[1;32m     31\u001b[0m         \u001b[0;32mtry\u001b[0m\u001b[0;34m:\u001b[0m\u001b[0;34m\u001b[0m\u001b[0;34m\u001b[0m\u001b[0m\n\u001b[0;32m---> 32\u001b[0;31m             \u001b[0mnames\u001b[0m \u001b[0;34m=\u001b[0m \u001b[0mself\u001b[0m\u001b[0;34m.\u001b[0m\u001b[0mlistdir\u001b[0m\u001b[0;34m(\u001b[0m\u001b[0mtop\u001b[0m\u001b[0;34m)\u001b[0m\u001b[0;34m\u001b[0m\u001b[0;34m\u001b[0m\u001b[0m\n\u001b[0m\u001b[1;32m     33\u001b[0m         \u001b[0;32mexcept\u001b[0m \u001b[0mos\u001b[0m\u001b[0;34m.\u001b[0m\u001b[0merror\u001b[0m \u001b[0;32mas\u001b[0m \u001b[0merr\u001b[0m\u001b[0;34m:\u001b[0m\u001b[0;34m\u001b[0m\u001b[0;34m\u001b[0m\u001b[0m\n",
      "\u001b[0;31mNotADirectoryError\u001b[0m: [Errno 20] Not a directory: './drive/MyDrive/LTSS/data2/Cat/11425.jpg'",
      "\nDuring handling of the above exception, another exception occurred:\n",
      "\u001b[0;31mKeyboardInterrupt\u001b[0m                         Traceback (most recent call last)",
      "\u001b[0;32m<ipython-input-9-1b2f8cda1c1e>\u001b[0m in \u001b[0;36m<cell line: 12>\u001b[0;34m()\u001b[0m\n\u001b[1;32m     11\u001b[0m \u001b[0mtime4\u001b[0m \u001b[0;34m=\u001b[0m \u001b[0;34m[\u001b[0m\u001b[0;34m]\u001b[0m\u001b[0;34m\u001b[0m\u001b[0;34m\u001b[0m\u001b[0m\n\u001b[1;32m     12\u001b[0m \u001b[0;32mfor\u001b[0m \u001b[0mn\u001b[0m \u001b[0;32min\u001b[0m \u001b[0mn_test\u001b[0m\u001b[0;34m:\u001b[0m\u001b[0;34m\u001b[0m\u001b[0;34m\u001b[0m\u001b[0m\n\u001b[0;32m---> 13\u001b[0;31m     \u001b[0mX_train\u001b[0m\u001b[0;34m,\u001b[0m \u001b[0my_train\u001b[0m\u001b[0;34m,\u001b[0m \u001b[0mX_test\u001b[0m\u001b[0;34m,\u001b[0m \u001b[0my_test\u001b[0m \u001b[0;34m=\u001b[0m \u001b[0mread_data\u001b[0m\u001b[0;34m(\u001b[0m\u001b[0mlink_cat\u001b[0m\u001b[0;34m,\u001b[0m \u001b[0mlink_dog\u001b[0m\u001b[0;34m,\u001b[0m \u001b[0mn\u001b[0m\u001b[0;34m,\u001b[0m \u001b[0mrandom_state\u001b[0m \u001b[0;34m=\u001b[0m \u001b[0;36m0\u001b[0m\u001b[0;34m)\u001b[0m\u001b[0;34m\u001b[0m\u001b[0;34m\u001b[0m\u001b[0m\n\u001b[0m\u001b[1;32m     14\u001b[0m     \u001b[0mx_train\u001b[0m \u001b[0;34m=\u001b[0m \u001b[0mnp\u001b[0m\u001b[0;34m.\u001b[0m\u001b[0marray\u001b[0m\u001b[0;34m(\u001b[0m\u001b[0;34m[\u001b[0m\u001b[0mx\u001b[0m\u001b[0;34m.\u001b[0m\u001b[0mflatten\u001b[0m\u001b[0;34m(\u001b[0m\u001b[0;34m)\u001b[0m \u001b[0;32mfor\u001b[0m \u001b[0mx\u001b[0m \u001b[0;32min\u001b[0m \u001b[0mX_train\u001b[0m\u001b[0;34m]\u001b[0m\u001b[0;34m)\u001b[0m\u001b[0;34m\u001b[0m\u001b[0;34m\u001b[0m\u001b[0m\n\u001b[1;32m     15\u001b[0m     \u001b[0mx_test\u001b[0m \u001b[0;34m=\u001b[0m \u001b[0mnp\u001b[0m\u001b[0;34m.\u001b[0m\u001b[0marray\u001b[0m\u001b[0;34m(\u001b[0m\u001b[0;34m[\u001b[0m\u001b[0mx\u001b[0m\u001b[0;34m.\u001b[0m\u001b[0mflatten\u001b[0m\u001b[0;34m(\u001b[0m\u001b[0;34m)\u001b[0m \u001b[0;32mfor\u001b[0m \u001b[0mx\u001b[0m \u001b[0;32min\u001b[0m \u001b[0mX_test\u001b[0m\u001b[0;34m]\u001b[0m\u001b[0;34m)\u001b[0m\u001b[0;34m\u001b[0m\u001b[0;34m\u001b[0m\u001b[0m\n",
      "\u001b[0;32m<ipython-input-3-4583134df9e3>\u001b[0m in \u001b[0;36mread_data\u001b[0;34m(link_cat, link_dog, n_samples, image_size, random_state)\u001b[0m\n\u001b[1;32m      1\u001b[0m \u001b[0;32mdef\u001b[0m \u001b[0mread_data\u001b[0m\u001b[0;34m(\u001b[0m\u001b[0mlink_cat\u001b[0m\u001b[0;34m,\u001b[0m \u001b[0mlink_dog\u001b[0m\u001b[0;34m,\u001b[0m \u001b[0mn_samples\u001b[0m\u001b[0;34m,\u001b[0m \u001b[0mimage_size\u001b[0m \u001b[0;34m=\u001b[0m \u001b[0;34m(\u001b[0m\u001b[0;36m400\u001b[0m\u001b[0;34m,\u001b[0m \u001b[0;36m400\u001b[0m\u001b[0;34m)\u001b[0m\u001b[0;34m,\u001b[0m \u001b[0mrandom_state\u001b[0m \u001b[0;34m=\u001b[0m \u001b[0;36m42\u001b[0m\u001b[0;34m)\u001b[0m\u001b[0;34m:\u001b[0m\u001b[0;34m\u001b[0m\u001b[0;34m\u001b[0m\u001b[0m\n\u001b[0;32m----> 2\u001b[0;31m     \u001b[0mlist_cat\u001b[0m \u001b[0;34m=\u001b[0m \u001b[0mglob2\u001b[0m\u001b[0;34m.\u001b[0m\u001b[0mglob\u001b[0m\u001b[0;34m(\u001b[0m\u001b[0mlink_cat\u001b[0m\u001b[0;34m)\u001b[0m\u001b[0;34m\u001b[0m\u001b[0;34m\u001b[0m\u001b[0m\n\u001b[0m\u001b[1;32m      3\u001b[0m     \u001b[0mlist_dog\u001b[0m \u001b[0;34m=\u001b[0m \u001b[0mglob2\u001b[0m\u001b[0;34m.\u001b[0m\u001b[0mglob\u001b[0m\u001b[0;34m(\u001b[0m\u001b[0mlink_dog\u001b[0m\u001b[0;34m)\u001b[0m\u001b[0;34m\u001b[0m\u001b[0;34m\u001b[0m\u001b[0m\n\u001b[1;32m      4\u001b[0m     \u001b[0mcat_images\u001b[0m \u001b[0;34m=\u001b[0m \u001b[0;34m[\u001b[0m\u001b[0;34m]\u001b[0m\u001b[0;34m\u001b[0m\u001b[0;34m\u001b[0m\u001b[0m\n\u001b[1;32m      5\u001b[0m     \u001b[0mcat_labels\u001b[0m \u001b[0;34m=\u001b[0m \u001b[0;34m[\u001b[0m\u001b[0;34m]\u001b[0m\u001b[0;34m\u001b[0m\u001b[0;34m\u001b[0m\u001b[0m\n",
      "\u001b[0;32m/usr/local/lib/python3.10/dist-packages/glob2/impl.py\u001b[0m in \u001b[0;36mglob\u001b[0;34m(self, pathname, with_matches, include_hidden, recursive, norm_paths, case_sensitive, sep)\u001b[0m\n\u001b[1;32m     58\u001b[0m         \u001b[0ma\u001b[0m \u001b[0mdot\u001b[0m \u001b[0mare\u001b[0m \u001b[0malso\u001b[0m \u001b[0mreturned\u001b[0m\u001b[0;34m.\u001b[0m\u001b[0;34m\u001b[0m\u001b[0;34m\u001b[0m\u001b[0m\n\u001b[1;32m     59\u001b[0m         \"\"\"\n\u001b[0;32m---> 60\u001b[0;31m         return list(self.iglob(pathname, with_matches, include_hidden,\n\u001b[0m\u001b[1;32m     61\u001b[0m                                norm_paths, case_sensitive, sep))\n\u001b[1;32m     62\u001b[0m \u001b[0;34m\u001b[0m\u001b[0m\n",
      "\u001b[0;32m/usr/local/lib/python3.10/dist-packages/glob2/impl.py\u001b[0m in \u001b[0;36m_iglob\u001b[0;34m(self, pathname, rootcall, include_hidden, norm_paths, case_sensitive, sep)\u001b[0m\n\u001b[1;32m    125\u001b[0m         \u001b[0;31m# Resolve ``basename`` expr for every directory found\u001b[0m\u001b[0;34m\u001b[0m\u001b[0;34m\u001b[0m\u001b[0m\n\u001b[1;32m    126\u001b[0m         \u001b[0;32mfor\u001b[0m \u001b[0mdirname\u001b[0m\u001b[0;34m,\u001b[0m \u001b[0mdir_groups\u001b[0m \u001b[0;32min\u001b[0m \u001b[0mdirs\u001b[0m\u001b[0;34m:\u001b[0m\u001b[0;34m\u001b[0m\u001b[0;34m\u001b[0m\u001b[0m\n\u001b[0;32m--> 127\u001b[0;31m             for name, groups in self.resolve_pattern(dirname, basename,\n\u001b[0m\u001b[1;32m    128\u001b[0m                                                      \u001b[0;32mnot\u001b[0m \u001b[0mrootcall\u001b[0m\u001b[0;34m,\u001b[0m \u001b[0minclude_hidden\u001b[0m\u001b[0;34m,\u001b[0m\u001b[0;34m\u001b[0m\u001b[0;34m\u001b[0m\u001b[0m\n\u001b[1;32m    129\u001b[0m                                                      norm_paths, case_sensitive, sep):\n",
      "\u001b[0;32m/usr/local/lib/python3.10/dist-packages/glob2/impl.py\u001b[0m in \u001b[0;36mresolve_pattern\u001b[0;34m(self, dirname, pattern, globstar_with_root, include_hidden, norm_paths, case_sensitive, sep)\u001b[0m\n\u001b[1;32m    168\u001b[0m                 \u001b[0;31m# having to deal with os.path.normpath() later.\u001b[0m\u001b[0;34m\u001b[0m\u001b[0;34m\u001b[0m\u001b[0m\n\u001b[1;32m    169\u001b[0m                 \u001b[0mnames\u001b[0m \u001b[0;34m=\u001b[0m \u001b[0;34m[\u001b[0m\u001b[0;34m''\u001b[0m\u001b[0;34m]\u001b[0m \u001b[0;32mif\u001b[0m \u001b[0mglobstar_with_root\u001b[0m \u001b[0;32melse\u001b[0m \u001b[0;34m[\u001b[0m\u001b[0;34m]\u001b[0m\u001b[0;34m\u001b[0m\u001b[0;34m\u001b[0m\u001b[0m\n\u001b[0;32m--> 170\u001b[0;31m                 \u001b[0;32mfor\u001b[0m \u001b[0mtop\u001b[0m\u001b[0;34m,\u001b[0m \u001b[0mentries\u001b[0m \u001b[0;32min\u001b[0m \u001b[0mself\u001b[0m\u001b[0;34m.\u001b[0m\u001b[0mwalk\u001b[0m\u001b[0;34m(\u001b[0m\u001b[0mdirname\u001b[0m\u001b[0;34m,\u001b[0m \u001b[0msep\u001b[0m\u001b[0;34m=\u001b[0m\u001b[0msep\u001b[0m\u001b[0;34m)\u001b[0m\u001b[0;34m:\u001b[0m\u001b[0;34m\u001b[0m\u001b[0;34m\u001b[0m\u001b[0m\n\u001b[0m\u001b[1;32m    171\u001b[0m                     \u001b[0m_mkabs\u001b[0m \u001b[0;34m=\u001b[0m \u001b[0;32mlambda\u001b[0m \u001b[0ms\u001b[0m\u001b[0;34m:\u001b[0m \u001b[0m_join_paths\u001b[0m\u001b[0;34m(\u001b[0m\u001b[0;34m[\u001b[0m\u001b[0mtop\u001b[0m\u001b[0;34m[\u001b[0m\u001b[0mlen\u001b[0m\u001b[0;34m(\u001b[0m\u001b[0mdirname\u001b[0m\u001b[0;34m)\u001b[0m \u001b[0;34m+\u001b[0m \u001b[0;36m1\u001b[0m\u001b[0;34m:\u001b[0m\u001b[0;34m]\u001b[0m\u001b[0;34m,\u001b[0m \u001b[0ms\u001b[0m\u001b[0;34m]\u001b[0m\u001b[0;34m,\u001b[0m \u001b[0msep\u001b[0m\u001b[0;34m=\u001b[0m\u001b[0msep\u001b[0m\u001b[0;34m)\u001b[0m\u001b[0;34m\u001b[0m\u001b[0;34m\u001b[0m\u001b[0m\n\u001b[1;32m    172\u001b[0m                     \u001b[0mnames\u001b[0m\u001b[0;34m.\u001b[0m\u001b[0mextend\u001b[0m\u001b[0;34m(\u001b[0m\u001b[0mmap\u001b[0m\u001b[0;34m(\u001b[0m\u001b[0m_mkabs\u001b[0m\u001b[0;34m,\u001b[0m \u001b[0mentries\u001b[0m\u001b[0;34m)\u001b[0m\u001b[0;34m)\u001b[0m\u001b[0;34m\u001b[0m\u001b[0;34m\u001b[0m\u001b[0m\n",
      "\u001b[0;32m/usr/local/lib/python3.10/dist-packages/glob2/impl.py\u001b[0m in \u001b[0;36mwalk\u001b[0;34m(self, top, followlinks, sep)\u001b[0m\n\u001b[1;32m     43\u001b[0m             \u001b[0mnew_path\u001b[0m \u001b[0;34m=\u001b[0m \u001b[0m_join_paths\u001b[0m\u001b[0;34m(\u001b[0m\u001b[0;34m[\u001b[0m\u001b[0mtop\u001b[0m\u001b[0;34m,\u001b[0m \u001b[0mname\u001b[0m\u001b[0;34m]\u001b[0m\u001b[0;34m,\u001b[0m \u001b[0msep\u001b[0m\u001b[0;34m=\u001b[0m\u001b[0msep\u001b[0m\u001b[0;34m)\u001b[0m\u001b[0;34m\u001b[0m\u001b[0;34m\u001b[0m\u001b[0m\n\u001b[1;32m     44\u001b[0m             \u001b[0;32mif\u001b[0m \u001b[0mfollowlinks\u001b[0m \u001b[0;32mor\u001b[0m \u001b[0;32mnot\u001b[0m \u001b[0mself\u001b[0m\u001b[0;34m.\u001b[0m\u001b[0mislink\u001b[0m\u001b[0;34m(\u001b[0m\u001b[0mnew_path\u001b[0m\u001b[0;34m)\u001b[0m\u001b[0;34m:\u001b[0m\u001b[0;34m\u001b[0m\u001b[0;34m\u001b[0m\u001b[0m\n\u001b[0;32m---> 45\u001b[0;31m                 \u001b[0;32mfor\u001b[0m \u001b[0mx\u001b[0m \u001b[0;32min\u001b[0m \u001b[0mself\u001b[0m\u001b[0;34m.\u001b[0m\u001b[0mwalk\u001b[0m\u001b[0;34m(\u001b[0m\u001b[0mnew_path\u001b[0m\u001b[0;34m,\u001b[0m \u001b[0mfollowlinks\u001b[0m\u001b[0;34m)\u001b[0m\u001b[0;34m:\u001b[0m\u001b[0;34m\u001b[0m\u001b[0;34m\u001b[0m\u001b[0m\n\u001b[0m\u001b[1;32m     46\u001b[0m                     \u001b[0;32myield\u001b[0m \u001b[0mx\u001b[0m\u001b[0;34m\u001b[0m\u001b[0;34m\u001b[0m\u001b[0m\n\u001b[1;32m     47\u001b[0m \u001b[0;34m\u001b[0m\u001b[0m\n",
      "\u001b[0;32m/usr/local/lib/python3.10/dist-packages/glob2/impl.py\u001b[0m in \u001b[0;36mwalk\u001b[0;34m(self, top, followlinks, sep)\u001b[0m\n\u001b[1;32m     30\u001b[0m         \"\"\"\n\u001b[1;32m     31\u001b[0m         \u001b[0;32mtry\u001b[0m\u001b[0;34m:\u001b[0m\u001b[0;34m\u001b[0m\u001b[0;34m\u001b[0m\u001b[0m\n\u001b[0;32m---> 32\u001b[0;31m             \u001b[0mnames\u001b[0m \u001b[0;34m=\u001b[0m \u001b[0mself\u001b[0m\u001b[0;34m.\u001b[0m\u001b[0mlistdir\u001b[0m\u001b[0;34m(\u001b[0m\u001b[0mtop\u001b[0m\u001b[0;34m)\u001b[0m\u001b[0;34m\u001b[0m\u001b[0;34m\u001b[0m\u001b[0m\n\u001b[0m\u001b[1;32m     33\u001b[0m         \u001b[0;32mexcept\u001b[0m \u001b[0mos\u001b[0m\u001b[0;34m.\u001b[0m\u001b[0merror\u001b[0m \u001b[0;32mas\u001b[0m \u001b[0merr\u001b[0m\u001b[0;34m:\u001b[0m\u001b[0;34m\u001b[0m\u001b[0;34m\u001b[0m\u001b[0m\n\u001b[1;32m     34\u001b[0m             \u001b[0;32mreturn\u001b[0m\u001b[0;34m\u001b[0m\u001b[0;34m\u001b[0m\u001b[0m\n",
      "\u001b[0;31mKeyboardInterrupt\u001b[0m: "
     ]
    }
   ],
   "source": [
    "n_test = [100, 150, 200, 300, 400]\n",
    "link_cat = './drive/MyDrive/LTSS/data2/Cat/**'\n",
    "link_dog = './drive/MyDrive/LTSS/data2/Dog/**'\n",
    "acc1 = []\n",
    "acc2 = []\n",
    "acc3 = []\n",
    "acc4 = []\n",
    "time1 = []\n",
    "time2 = []\n",
    "time3 = []\n",
    "time4 = []\n",
    "for n in n_test:\n",
    "    X_train, y_train, X_test, y_test = read_data(link_cat, link_dog, n, random_state = 0)\n",
    "    x_train = np.array([x.flatten() for x in X_train])\n",
    "    x_test = np.array([x.flatten() for x in X_test])\n",
    "    gamma = 1/(x_train.shape[1]*x_train.var())\n",
    "    y_train_sklearn = np.array([str(y) for y in y_train])\n",
    "    y_test_sklearn = np.array([str(y) for y in y_test])\n",
    "    \n",
    "    # print(\"SVM Sequential\")\n",
    "    # start = time.time()\n",
    "    # svm = SVM_Se(C = 1.0, gamma = gamma)\n",
    "    # svm.fit(x_train, y_train)\n",
    "    # pred = svm.predict(x_test)\n",
    "    # end = time.time()\n",
    "    # time1.append(end-start)\n",
    "    # acc1.append(accuracy_score(pred, y_test))\n",
    "    \n",
    "    print(\"SVM Parallel\")\n",
    "    start = time.time()\n",
    "    svm = SVM_Pa(kernel = 'linear')\n",
    "    svm.fit(x_train, y_train)\n",
    "    pred = svm.predict(x_test)\n",
    "    end = time.time()\n",
    "    time2.append(end-start)\n",
    "    acc2.append(accuracy_score(pred, y_test))\n",
    "        \n",
    "    print(\"Sklearn SVM no shrink\")\n",
    "    start = time.time()\n",
    "    svm = SVC(kernel = 'linear', shrinking = False)\n",
    "    svm.fit(x_train, y_train_sklearn)\n",
    "    pred = svm.predict(x_test)\n",
    "    end = time.time()\n",
    "    time3.append(end-start)\n",
    "    acc3.append(accuracy_score(pred, y_test_sklearn))\n",
    "    \n",
    "    print(\"Sklearn SVM shrink\")\n",
    "    start = time.time()\n",
    "    svm = SVC(kernel = 'linear', shrinking = True)\n",
    "    svm.fit(x_train, y_train_sklearn)\n",
    "    pred = svm.predict(x_test)\n",
    "    end = time.time()\n",
    "    time4.append(end-start)\n",
    "    acc4.append(accuracy_score(pred, y_test_sklearn))"
   ]
  },
  {
   "cell_type": "code",
   "execution_count": 12,
   "metadata": {
    "colab": {
     "base_uri": "https://localhost:8080/"
    },
    "id": "LtTnOmvQLNt2",
    "outputId": "07d30fbb-140a-4a00-c017-3677abad62ee"
   },
   "outputs": [
    {
     "data": {
      "text/plain": [
       "[]"
      ]
     },
     "execution_count": 12,
     "metadata": {},
     "output_type": "execute_result"
    }
   ],
   "source": [
    "acc1"
   ]
  },
  {
   "cell_type": "code",
   "execution_count": 13,
   "metadata": {
    "colab": {
     "base_uri": "https://localhost:8080/"
    },
    "id": "UlWdUF0ELOnR",
    "outputId": "cb5ad826-decf-42fe-9201-be9aa4f509de"
   },
   "outputs": [
    {
     "data": {
      "text/plain": [
       "[0.6666666666666666, 0.5666666666666667, 0.49166666666666664]"
      ]
     },
     "execution_count": 13,
     "metadata": {},
     "output_type": "execute_result"
    }
   ],
   "source": [
    "acc2"
   ]
  },
  {
   "cell_type": "code",
   "execution_count": 14,
   "metadata": {
    "colab": {
     "base_uri": "https://localhost:8080/"
    },
    "id": "cPNlXaRwLPg3",
    "outputId": "fc567927-5c79-48a1-dba1-e89b6c8b8624"
   },
   "outputs": [
    {
     "data": {
      "text/plain": [
       "[0.6666666666666666, 0.5666666666666667, 0.49166666666666664]"
      ]
     },
     "execution_count": 14,
     "metadata": {},
     "output_type": "execute_result"
    }
   ],
   "source": [
    "acc3"
   ]
  },
  {
   "cell_type": "code",
   "execution_count": 15,
   "metadata": {
    "colab": {
     "base_uri": "https://localhost:8080/"
    },
    "id": "sJyyHuwKLQNi",
    "outputId": "10b273f6-afb1-4f48-f0a9-c20eea98fbba"
   },
   "outputs": [
    {
     "data": {
      "text/plain": [
       "[0.6666666666666666, 0.5666666666666667, 0.49166666666666664]"
      ]
     },
     "execution_count": 15,
     "metadata": {},
     "output_type": "execute_result"
    }
   ],
   "source": [
    "acc4"
   ]
  },
  {
   "cell_type": "code",
   "execution_count": 10,
   "metadata": {
    "colab": {
     "base_uri": "https://localhost:8080/",
     "height": 817
    },
    "id": "ZHJdc9VNloST",
    "outputId": "af2a5cae-ad24-4b1d-ebde-cd1c86de8c2d"
   },
   "outputs": [
    {
     "ename": "ValueError",
     "evalue": "ignored",
     "output_type": "error",
     "traceback": [
      "\u001b[0;31m---------------------------------------------------------------------------\u001b[0m",
      "\u001b[0;31mValueError\u001b[0m                                Traceback (most recent call last)",
      "\u001b[0;32m<ipython-input-10-1f7104f833fe>\u001b[0m in \u001b[0;36m<cell line: 3>\u001b[0;34m()\u001b[0m\n\u001b[1;32m      1\u001b[0m \u001b[0;32mimport\u001b[0m \u001b[0mmatplotlib\u001b[0m\u001b[0;34m.\u001b[0m\u001b[0mpyplot\u001b[0m \u001b[0;32mas\u001b[0m \u001b[0mplt\u001b[0m\u001b[0;34m\u001b[0m\u001b[0;34m\u001b[0m\u001b[0m\n\u001b[1;32m      2\u001b[0m \u001b[0mn\u001b[0m \u001b[0;34m=\u001b[0m \u001b[0mnp\u001b[0m\u001b[0;34m.\u001b[0m\u001b[0mdot\u001b[0m\u001b[0;34m(\u001b[0m\u001b[0mn_test\u001b[0m\u001b[0;34m,\u001b[0m \u001b[0;36m2\u001b[0m\u001b[0;34m)\u001b[0m\u001b[0;34m\u001b[0m\u001b[0;34m\u001b[0m\u001b[0m\n\u001b[0;32m----> 3\u001b[0;31m \u001b[0mplt\u001b[0m\u001b[0;34m.\u001b[0m\u001b[0mplot\u001b[0m\u001b[0;34m(\u001b[0m\u001b[0mn\u001b[0m\u001b[0;34m,\u001b[0m \u001b[0macc1\u001b[0m\u001b[0;34m,\u001b[0m \u001b[0mlabel\u001b[0m \u001b[0;34m=\u001b[0m \u001b[0;34m'SVM Se'\u001b[0m\u001b[0;34m)\u001b[0m\u001b[0;34m\u001b[0m\u001b[0;34m\u001b[0m\u001b[0m\n\u001b[0m\u001b[1;32m      4\u001b[0m \u001b[0mplt\u001b[0m\u001b[0;34m.\u001b[0m\u001b[0mplot\u001b[0m\u001b[0;34m(\u001b[0m\u001b[0mn\u001b[0m\u001b[0;34m,\u001b[0m \u001b[0macc2\u001b[0m\u001b[0;34m,\u001b[0m \u001b[0mlabel\u001b[0m \u001b[0;34m=\u001b[0m \u001b[0;34m'SVM Pa'\u001b[0m\u001b[0;34m)\u001b[0m\u001b[0;34m\u001b[0m\u001b[0;34m\u001b[0m\u001b[0m\n\u001b[1;32m      5\u001b[0m \u001b[0mplt\u001b[0m\u001b[0;34m.\u001b[0m\u001b[0mplot\u001b[0m\u001b[0;34m(\u001b[0m\u001b[0mn\u001b[0m\u001b[0;34m,\u001b[0m \u001b[0macc3\u001b[0m\u001b[0;34m,\u001b[0m \u001b[0mlabel\u001b[0m \u001b[0;34m=\u001b[0m \u001b[0;34m'SVM no shrink'\u001b[0m\u001b[0;34m)\u001b[0m\u001b[0;34m\u001b[0m\u001b[0;34m\u001b[0m\u001b[0m\n",
      "\u001b[0;32m/usr/local/lib/python3.10/dist-packages/matplotlib/pyplot.py\u001b[0m in \u001b[0;36mplot\u001b[0;34m(scalex, scaley, data, *args, **kwargs)\u001b[0m\n\u001b[1;32m   2810\u001b[0m \u001b[0;34m@\u001b[0m\u001b[0m_copy_docstring_and_deprecators\u001b[0m\u001b[0;34m(\u001b[0m\u001b[0mAxes\u001b[0m\u001b[0;34m.\u001b[0m\u001b[0mplot\u001b[0m\u001b[0;34m)\u001b[0m\u001b[0;34m\u001b[0m\u001b[0;34m\u001b[0m\u001b[0m\n\u001b[1;32m   2811\u001b[0m \u001b[0;32mdef\u001b[0m \u001b[0mplot\u001b[0m\u001b[0;34m(\u001b[0m\u001b[0;34m*\u001b[0m\u001b[0margs\u001b[0m\u001b[0;34m,\u001b[0m \u001b[0mscalex\u001b[0m\u001b[0;34m=\u001b[0m\u001b[0;32mTrue\u001b[0m\u001b[0;34m,\u001b[0m \u001b[0mscaley\u001b[0m\u001b[0;34m=\u001b[0m\u001b[0;32mTrue\u001b[0m\u001b[0;34m,\u001b[0m \u001b[0mdata\u001b[0m\u001b[0;34m=\u001b[0m\u001b[0;32mNone\u001b[0m\u001b[0;34m,\u001b[0m \u001b[0;34m**\u001b[0m\u001b[0mkwargs\u001b[0m\u001b[0;34m)\u001b[0m\u001b[0;34m:\u001b[0m\u001b[0;34m\u001b[0m\u001b[0;34m\u001b[0m\u001b[0m\n\u001b[0;32m-> 2812\u001b[0;31m     return gca().plot(\n\u001b[0m\u001b[1;32m   2813\u001b[0m         \u001b[0;34m*\u001b[0m\u001b[0margs\u001b[0m\u001b[0;34m,\u001b[0m \u001b[0mscalex\u001b[0m\u001b[0;34m=\u001b[0m\u001b[0mscalex\u001b[0m\u001b[0;34m,\u001b[0m \u001b[0mscaley\u001b[0m\u001b[0;34m=\u001b[0m\u001b[0mscaley\u001b[0m\u001b[0;34m,\u001b[0m\u001b[0;34m\u001b[0m\u001b[0;34m\u001b[0m\u001b[0m\n\u001b[1;32m   2814\u001b[0m         **({\"data\": data} if data is not None else {}), **kwargs)\n",
      "\u001b[0;32m/usr/local/lib/python3.10/dist-packages/matplotlib/axes/_axes.py\u001b[0m in \u001b[0;36mplot\u001b[0;34m(self, scalex, scaley, data, *args, **kwargs)\u001b[0m\n\u001b[1;32m   1686\u001b[0m         \"\"\"\n\u001b[1;32m   1687\u001b[0m         \u001b[0mkwargs\u001b[0m \u001b[0;34m=\u001b[0m \u001b[0mcbook\u001b[0m\u001b[0;34m.\u001b[0m\u001b[0mnormalize_kwargs\u001b[0m\u001b[0;34m(\u001b[0m\u001b[0mkwargs\u001b[0m\u001b[0;34m,\u001b[0m \u001b[0mmlines\u001b[0m\u001b[0;34m.\u001b[0m\u001b[0mLine2D\u001b[0m\u001b[0;34m)\u001b[0m\u001b[0;34m\u001b[0m\u001b[0;34m\u001b[0m\u001b[0m\n\u001b[0;32m-> 1688\u001b[0;31m         \u001b[0mlines\u001b[0m \u001b[0;34m=\u001b[0m \u001b[0;34m[\u001b[0m\u001b[0;34m*\u001b[0m\u001b[0mself\u001b[0m\u001b[0;34m.\u001b[0m\u001b[0m_get_lines\u001b[0m\u001b[0;34m(\u001b[0m\u001b[0;34m*\u001b[0m\u001b[0margs\u001b[0m\u001b[0;34m,\u001b[0m \u001b[0mdata\u001b[0m\u001b[0;34m=\u001b[0m\u001b[0mdata\u001b[0m\u001b[0;34m,\u001b[0m \u001b[0;34m**\u001b[0m\u001b[0mkwargs\u001b[0m\u001b[0;34m)\u001b[0m\u001b[0;34m]\u001b[0m\u001b[0;34m\u001b[0m\u001b[0;34m\u001b[0m\u001b[0m\n\u001b[0m\u001b[1;32m   1689\u001b[0m         \u001b[0;32mfor\u001b[0m \u001b[0mline\u001b[0m \u001b[0;32min\u001b[0m \u001b[0mlines\u001b[0m\u001b[0;34m:\u001b[0m\u001b[0;34m\u001b[0m\u001b[0;34m\u001b[0m\u001b[0m\n\u001b[1;32m   1690\u001b[0m             \u001b[0mself\u001b[0m\u001b[0;34m.\u001b[0m\u001b[0madd_line\u001b[0m\u001b[0;34m(\u001b[0m\u001b[0mline\u001b[0m\u001b[0;34m)\u001b[0m\u001b[0;34m\u001b[0m\u001b[0;34m\u001b[0m\u001b[0m\n",
      "\u001b[0;32m/usr/local/lib/python3.10/dist-packages/matplotlib/axes/_base.py\u001b[0m in \u001b[0;36m__call__\u001b[0;34m(self, data, *args, **kwargs)\u001b[0m\n\u001b[1;32m    309\u001b[0m                 \u001b[0mthis\u001b[0m \u001b[0;34m+=\u001b[0m \u001b[0margs\u001b[0m\u001b[0;34m[\u001b[0m\u001b[0;36m0\u001b[0m\u001b[0;34m]\u001b[0m\u001b[0;34m,\u001b[0m\u001b[0;34m\u001b[0m\u001b[0;34m\u001b[0m\u001b[0m\n\u001b[1;32m    310\u001b[0m                 \u001b[0margs\u001b[0m \u001b[0;34m=\u001b[0m \u001b[0margs\u001b[0m\u001b[0;34m[\u001b[0m\u001b[0;36m1\u001b[0m\u001b[0;34m:\u001b[0m\u001b[0;34m]\u001b[0m\u001b[0;34m\u001b[0m\u001b[0;34m\u001b[0m\u001b[0m\n\u001b[0;32m--> 311\u001b[0;31m             yield from self._plot_args(\n\u001b[0m\u001b[1;32m    312\u001b[0m                 this, kwargs, ambiguous_fmt_datakey=ambiguous_fmt_datakey)\n\u001b[1;32m    313\u001b[0m \u001b[0;34m\u001b[0m\u001b[0m\n",
      "\u001b[0;32m/usr/local/lib/python3.10/dist-packages/matplotlib/axes/_base.py\u001b[0m in \u001b[0;36m_plot_args\u001b[0;34m(self, tup, kwargs, return_kwargs, ambiguous_fmt_datakey)\u001b[0m\n\u001b[1;32m    502\u001b[0m \u001b[0;34m\u001b[0m\u001b[0m\n\u001b[1;32m    503\u001b[0m         \u001b[0;32mif\u001b[0m \u001b[0mx\u001b[0m\u001b[0;34m.\u001b[0m\u001b[0mshape\u001b[0m\u001b[0;34m[\u001b[0m\u001b[0;36m0\u001b[0m\u001b[0;34m]\u001b[0m \u001b[0;34m!=\u001b[0m \u001b[0my\u001b[0m\u001b[0;34m.\u001b[0m\u001b[0mshape\u001b[0m\u001b[0;34m[\u001b[0m\u001b[0;36m0\u001b[0m\u001b[0;34m]\u001b[0m\u001b[0;34m:\u001b[0m\u001b[0;34m\u001b[0m\u001b[0;34m\u001b[0m\u001b[0m\n\u001b[0;32m--> 504\u001b[0;31m             raise ValueError(f\"x and y must have same first dimension, but \"\n\u001b[0m\u001b[1;32m    505\u001b[0m                              f\"have shapes {x.shape} and {y.shape}\")\n\u001b[1;32m    506\u001b[0m         \u001b[0;32mif\u001b[0m \u001b[0mx\u001b[0m\u001b[0;34m.\u001b[0m\u001b[0mndim\u001b[0m \u001b[0;34m>\u001b[0m \u001b[0;36m2\u001b[0m \u001b[0;32mor\u001b[0m \u001b[0my\u001b[0m\u001b[0;34m.\u001b[0m\u001b[0mndim\u001b[0m \u001b[0;34m>\u001b[0m \u001b[0;36m2\u001b[0m\u001b[0;34m:\u001b[0m\u001b[0;34m\u001b[0m\u001b[0;34m\u001b[0m\u001b[0m\n",
      "\u001b[0;31mValueError\u001b[0m: x and y must have same first dimension, but have shapes (5,) and (0,)"
     ]
    },
    {
     "data": {
      "image/png": "[encoded data removed]",
      "text/plain": [
       "<Figure size 640x480 with 1 Axes>"
      ]
     },
     "metadata": {},
     "output_type": "display_data"
    }
   ],
   "source": [
    "import matplotlib.pyplot as plt\n",
    "n = np.dot(n_test, 2)\n",
    "plt.plot(n, acc1, label = 'SVM Se')\n",
    "plt.plot(n, acc2, label = 'SVM Pa')\n",
    "plt.plot(n, acc3, label = 'SVM no shrink')\n",
    "plt.plot(n, acc4, label = 'SVM shrink')\n",
    "plt.ylabel(\"Số lượng mẫu\")\n",
    "plt.xlabel(\"Accuracy\")\n",
    "plt.title(\"Accuracy comparison\")\n",
    "plt.legend()\n",
    "plt.show()"
   ]
  },
  {
   "cell_type": "code",
   "execution_count": 11,
   "metadata": {
    "colab": {
     "base_uri": "https://localhost:8080/",
     "height": 817
    },
    "id": "f5sBGdk9lxv5",
    "outputId": "59f55736-95d8-4efd-ff26-f0192d738ac0"
   },
   "outputs": [
    {
     "ename": "ValueError",
     "evalue": "ignored",
     "output_type": "error",
     "traceback": [
      "\u001b[0;31m---------------------------------------------------------------------------\u001b[0m",
      "\u001b[0;31mValueError\u001b[0m                                Traceback (most recent call last)",
      "\u001b[0;32m<ipython-input-11-b6af37689a44>\u001b[0m in \u001b[0;36m<cell line: 3>\u001b[0;34m()\u001b[0m\n\u001b[1;32m      1\u001b[0m \u001b[0;32mimport\u001b[0m \u001b[0mmatplotlib\u001b[0m\u001b[0;34m.\u001b[0m\u001b[0mpyplot\u001b[0m \u001b[0;32mas\u001b[0m \u001b[0mplt\u001b[0m\u001b[0;34m\u001b[0m\u001b[0;34m\u001b[0m\u001b[0m\n\u001b[1;32m      2\u001b[0m \u001b[0mn\u001b[0m \u001b[0;34m=\u001b[0m \u001b[0mnp\u001b[0m\u001b[0;34m.\u001b[0m\u001b[0mdot\u001b[0m\u001b[0;34m(\u001b[0m\u001b[0mn_test\u001b[0m\u001b[0;34m,\u001b[0m \u001b[0;36m2\u001b[0m\u001b[0;34m)\u001b[0m\u001b[0;34m\u001b[0m\u001b[0;34m\u001b[0m\u001b[0m\n\u001b[0;32m----> 3\u001b[0;31m \u001b[0mplt\u001b[0m\u001b[0;34m.\u001b[0m\u001b[0mplot\u001b[0m\u001b[0;34m(\u001b[0m\u001b[0mn\u001b[0m\u001b[0;34m,\u001b[0m \u001b[0mtime1\u001b[0m\u001b[0;34m,\u001b[0m \u001b[0mlabel\u001b[0m \u001b[0;34m=\u001b[0m \u001b[0;34m'SVM Se'\u001b[0m\u001b[0;34m)\u001b[0m\u001b[0;34m\u001b[0m\u001b[0;34m\u001b[0m\u001b[0m\n\u001b[0m\u001b[1;32m      4\u001b[0m \u001b[0mplt\u001b[0m\u001b[0;34m.\u001b[0m\u001b[0mplot\u001b[0m\u001b[0;34m(\u001b[0m\u001b[0mn\u001b[0m\u001b[0;34m,\u001b[0m \u001b[0mtime2\u001b[0m\u001b[0;34m,\u001b[0m \u001b[0mlabel\u001b[0m \u001b[0;34m=\u001b[0m \u001b[0;34m'SVM Pa'\u001b[0m\u001b[0;34m)\u001b[0m\u001b[0;34m\u001b[0m\u001b[0;34m\u001b[0m\u001b[0m\n\u001b[1;32m      5\u001b[0m \u001b[0mplt\u001b[0m\u001b[0;34m.\u001b[0m\u001b[0mplot\u001b[0m\u001b[0;34m(\u001b[0m\u001b[0mn\u001b[0m\u001b[0;34m,\u001b[0m \u001b[0mtime3\u001b[0m\u001b[0;34m,\u001b[0m \u001b[0mlabel\u001b[0m \u001b[0;34m=\u001b[0m \u001b[0;34m'SVM no shrink'\u001b[0m\u001b[0;34m)\u001b[0m\u001b[0;34m\u001b[0m\u001b[0;34m\u001b[0m\u001b[0m\n",
      "\u001b[0;32m/usr/local/lib/python3.10/dist-packages/matplotlib/pyplot.py\u001b[0m in \u001b[0;36mplot\u001b[0;34m(scalex, scaley, data, *args, **kwargs)\u001b[0m\n\u001b[1;32m   2810\u001b[0m \u001b[0;34m@\u001b[0m\u001b[0m_copy_docstring_and_deprecators\u001b[0m\u001b[0;34m(\u001b[0m\u001b[0mAxes\u001b[0m\u001b[0;34m.\u001b[0m\u001b[0mplot\u001b[0m\u001b[0;34m)\u001b[0m\u001b[0;34m\u001b[0m\u001b[0;34m\u001b[0m\u001b[0m\n\u001b[1;32m   2811\u001b[0m \u001b[0;32mdef\u001b[0m \u001b[0mplot\u001b[0m\u001b[0;34m(\u001b[0m\u001b[0;34m*\u001b[0m\u001b[0margs\u001b[0m\u001b[0;34m,\u001b[0m \u001b[0mscalex\u001b[0m\u001b[0;34m=\u001b[0m\u001b[0;32mTrue\u001b[0m\u001b[0;34m,\u001b[0m \u001b[0mscaley\u001b[0m\u001b[0;34m=\u001b[0m\u001b[0;32mTrue\u001b[0m\u001b[0;34m,\u001b[0m \u001b[0mdata\u001b[0m\u001b[0;34m=\u001b[0m\u001b[0;32mNone\u001b[0m\u001b[0;34m,\u001b[0m \u001b[0;34m**\u001b[0m\u001b[0mkwargs\u001b[0m\u001b[0;34m)\u001b[0m\u001b[0;34m:\u001b[0m\u001b[0;34m\u001b[0m\u001b[0;34m\u001b[0m\u001b[0m\n\u001b[0;32m-> 2812\u001b[0;31m     return gca().plot(\n\u001b[0m\u001b[1;32m   2813\u001b[0m         \u001b[0;34m*\u001b[0m\u001b[0margs\u001b[0m\u001b[0;34m,\u001b[0m \u001b[0mscalex\u001b[0m\u001b[0;34m=\u001b[0m\u001b[0mscalex\u001b[0m\u001b[0;34m,\u001b[0m \u001b[0mscaley\u001b[0m\u001b[0;34m=\u001b[0m\u001b[0mscaley\u001b[0m\u001b[0;34m,\u001b[0m\u001b[0;34m\u001b[0m\u001b[0;34m\u001b[0m\u001b[0m\n\u001b[1;32m   2814\u001b[0m         **({\"data\": data} if data is not None else {}), **kwargs)\n",
      "\u001b[0;32m/usr/local/lib/python3.10/dist-packages/matplotlib/axes/_axes.py\u001b[0m in \u001b[0;36mplot\u001b[0;34m(self, scalex, scaley, data, *args, **kwargs)\u001b[0m\n\u001b[1;32m   1686\u001b[0m         \"\"\"\n\u001b[1;32m   1687\u001b[0m         \u001b[0mkwargs\u001b[0m \u001b[0;34m=\u001b[0m \u001b[0mcbook\u001b[0m\u001b[0;34m.\u001b[0m\u001b[0mnormalize_kwargs\u001b[0m\u001b[0;34m(\u001b[0m\u001b[0mkwargs\u001b[0m\u001b[0;34m,\u001b[0m \u001b[0mmlines\u001b[0m\u001b[0;34m.\u001b[0m\u001b[0mLine2D\u001b[0m\u001b[0;34m)\u001b[0m\u001b[0;34m\u001b[0m\u001b[0;34m\u001b[0m\u001b[0m\n\u001b[0;32m-> 1688\u001b[0;31m         \u001b[0mlines\u001b[0m \u001b[0;34m=\u001b[0m \u001b[0;34m[\u001b[0m\u001b[0;34m*\u001b[0m\u001b[0mself\u001b[0m\u001b[0;34m.\u001b[0m\u001b[0m_get_lines\u001b[0m\u001b[0;34m(\u001b[0m\u001b[0;34m*\u001b[0m\u001b[0margs\u001b[0m\u001b[0;34m,\u001b[0m \u001b[0mdata\u001b[0m\u001b[0;34m=\u001b[0m\u001b[0mdata\u001b[0m\u001b[0;34m,\u001b[0m \u001b[0;34m**\u001b[0m\u001b[0mkwargs\u001b[0m\u001b[0;34m)\u001b[0m\u001b[0;34m]\u001b[0m\u001b[0;34m\u001b[0m\u001b[0;34m\u001b[0m\u001b[0m\n\u001b[0m\u001b[1;32m   1689\u001b[0m         \u001b[0;32mfor\u001b[0m \u001b[0mline\u001b[0m \u001b[0;32min\u001b[0m \u001b[0mlines\u001b[0m\u001b[0;34m:\u001b[0m\u001b[0;34m\u001b[0m\u001b[0;34m\u001b[0m\u001b[0m\n\u001b[1;32m   1690\u001b[0m             \u001b[0mself\u001b[0m\u001b[0;34m.\u001b[0m\u001b[0madd_line\u001b[0m\u001b[0;34m(\u001b[0m\u001b[0mline\u001b[0m\u001b[0;34m)\u001b[0m\u001b[0;34m\u001b[0m\u001b[0;34m\u001b[0m\u001b[0m\n",
      "\u001b[0;32m/usr/local/lib/python3.10/dist-packages/matplotlib/axes/_base.py\u001b[0m in \u001b[0;36m__call__\u001b[0;34m(self, data, *args, **kwargs)\u001b[0m\n\u001b[1;32m    309\u001b[0m                 \u001b[0mthis\u001b[0m \u001b[0;34m+=\u001b[0m \u001b[0margs\u001b[0m\u001b[0;34m[\u001b[0m\u001b[0;36m0\u001b[0m\u001b[0;34m]\u001b[0m\u001b[0;34m,\u001b[0m\u001b[0;34m\u001b[0m\u001b[0;34m\u001b[0m\u001b[0m\n\u001b[1;32m    310\u001b[0m                 \u001b[0margs\u001b[0m \u001b[0;34m=\u001b[0m \u001b[0margs\u001b[0m\u001b[0;34m[\u001b[0m\u001b[0;36m1\u001b[0m\u001b[0;34m:\u001b[0m\u001b[0;34m]\u001b[0m\u001b[0;34m\u001b[0m\u001b[0;34m\u001b[0m\u001b[0m\n\u001b[0;32m--> 311\u001b[0;31m             yield from self._plot_args(\n\u001b[0m\u001b[1;32m    312\u001b[0m                 this, kwargs, ambiguous_fmt_datakey=ambiguous_fmt_datakey)\n\u001b[1;32m    313\u001b[0m \u001b[0;34m\u001b[0m\u001b[0m\n",
      "\u001b[0;32m/usr/local/lib/python3.10/dist-packages/matplotlib/axes/_base.py\u001b[0m in \u001b[0;36m_plot_args\u001b[0;34m(self, tup, kwargs, return_kwargs, ambiguous_fmt_datakey)\u001b[0m\n\u001b[1;32m    502\u001b[0m \u001b[0;34m\u001b[0m\u001b[0m\n\u001b[1;32m    503\u001b[0m         \u001b[0;32mif\u001b[0m \u001b[0mx\u001b[0m\u001b[0;34m.\u001b[0m\u001b[0mshape\u001b[0m\u001b[0;34m[\u001b[0m\u001b[0;36m0\u001b[0m\u001b[0;34m]\u001b[0m \u001b[0;34m!=\u001b[0m \u001b[0my\u001b[0m\u001b[0;34m.\u001b[0m\u001b[0mshape\u001b[0m\u001b[0;34m[\u001b[0m\u001b[0;36m0\u001b[0m\u001b[0;34m]\u001b[0m\u001b[0;34m:\u001b[0m\u001b[0;34m\u001b[0m\u001b[0;34m\u001b[0m\u001b[0m\n\u001b[0;32m--> 504\u001b[0;31m             raise ValueError(f\"x and y must have same first dimension, but \"\n\u001b[0m\u001b[1;32m    505\u001b[0m                              f\"have shapes {x.shape} and {y.shape}\")\n\u001b[1;32m    506\u001b[0m         \u001b[0;32mif\u001b[0m \u001b[0mx\u001b[0m\u001b[0;34m.\u001b[0m\u001b[0mndim\u001b[0m \u001b[0;34m>\u001b[0m \u001b[0;36m2\u001b[0m \u001b[0;32mor\u001b[0m \u001b[0my\u001b[0m\u001b[0;34m.\u001b[0m\u001b[0mndim\u001b[0m \u001b[0;34m>\u001b[0m \u001b[0;36m2\u001b[0m\u001b[0;34m:\u001b[0m\u001b[0;34m\u001b[0m\u001b[0;34m\u001b[0m\u001b[0m\n",
      "\u001b[0;31mValueError\u001b[0m: x and y must have same first dimension, but have shapes (5,) and (0,)"
     ]
    },
    {
     "data": {
      "image/png": "[encoded data removed]",
      "text/plain": [
       "<Figure size 640x480 with 1 Axes>"
      ]
     },
     "metadata": {},
     "output_type": "display_data"
    }
   ],
   "source": [
    "import matplotlib.pyplot as plt\n",
    "n = np.dot(n_test, 2)\n",
    "plt.plot(n, time1, label = 'SVM Se')\n",
    "plt.plot(n, time2, label = 'SVM Pa')\n",
    "plt.plot(n, time3, label = 'SVM no shrink')\n",
    "plt.plot(n, time4, label = 'SVM shrink')\n",
    "plt.ylabel(\"Số lượng mẫu\")\n",
    "plt.xlabel(\"Time\")\n",
    "plt.title(\"Time comparison\")\n",
    "plt.legend()\n",
    "plt.show()"
   ]
  }
 ],
 "metadata": {
  "accelerator": "GPU",
  "colab": {
   "gpuType": "T4",
   "provenance": []
  },
  "kernelspec": {
   "display_name": "Python 3 (ipykernel)",
   "language": "python",
   "name": "python3"
  },
  "language_info": {
   "codemirror_mode": {
    "name": "ipython",
    "version": 3
   },
   "file_extension": ".py",
   "mimetype": "text/x-python",
   "name": "python",
   "nbconvert_exporter": "python",
   "pygments_lexer": "ipython3",
   "version": "3.9.16"
  }
 },
 "nbformat": 4,
 "nbformat_minor": 1
}

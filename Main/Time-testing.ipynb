{
 "cells": [
  {
   "cell_type": "markdown",
   "id": "adacad02",
   "metadata": {},
   "source": [
    "### 1. Import libraries"
   ]
  },
  {
   "cell_type": "code",
   "execution_count": 16,
   "id": "72e89c38",
   "metadata": {},
   "outputs": [
    {
     "name": "stdout",
     "output_type": "stream",
     "text": [
      "<Managed Device 0>\n"
     ]
    }
   ],
   "source": [
    "from numba import cuda\n",
    "\n",
    "import numpy as np\n",
    "\n",
    "import matplotlib.image as mpimg\n",
    "import matplotlib.pyplot as plt\n",
    "\n",
    "from PIL import Image\n",
    "import cv2\n",
    "import math\n",
    "import operator\n",
    "\n",
    "import glob2\n",
    "\n",
    "import timeit\n",
    "\n",
    "print(cuda.gpus)"
   ]
  },
  {
   "cell_type": "code",
   "execution_count": 2,
   "id": "ab0965b8",
   "metadata": {},
   "outputs": [],
   "source": [
    "from HOG_CUDA import HOG_CUDA"
   ]
  },
  {
   "cell_type": "code",
   "execution_count": 3,
   "id": "c2e685fa",
   "metadata": {},
   "outputs": [],
   "source": [
    "from HOG_CPU  import HOG_CPU"
   ]
  },
  {
   "cell_type": "code",
   "execution_count": 4,
   "id": "17e37432",
   "metadata": {},
   "outputs": [],
   "source": [
    "from skimage import feature"
   ]
  },
  {
   "cell_type": "markdown",
   "id": "b9afe01d",
   "metadata": {},
   "source": [
    "### 2. Configure settings"
   ]
  },
  {
   "cell_type": "code",
   "execution_count": 5,
   "id": "33f49a17",
   "metadata": {},
   "outputs": [],
   "source": [
    "cell_size = (8, 8)\n",
    "block_size = (2, 2)\n",
    "nbins = 9\n",
    "sbins = 40\n",
    "threadsperblock = (32,32)"
   ]
  },
  {
   "cell_type": "markdown",
   "id": "2dca397a",
   "metadata": {},
   "source": [
    "### 3. Read images"
   ]
  },
  {
   "cell_type": "markdown",
   "id": "47ccdf58",
   "metadata": {},
   "source": [
    "##### Nếu dùng google colab"
   ]
  },
  {
   "cell_type": "code",
   "execution_count": 6,
   "id": "0a1b8918",
   "metadata": {},
   "outputs": [],
   "source": [
    "# from google.colab import drive\n",
    "# drive.mount('/content/drive')\n",
    "# link_cat = 'drive/MyDrive/ltssud/data/Cat/**'\n",
    "# link_dog = 'drive/MyDrive/ltssud/data/Dog/**'"
   ]
  },
  {
   "cell_type": "markdown",
   "id": "57dc1f69",
   "metadata": {},
   "source": [
    "##### Nếu dùng local drive"
   ]
  },
  {
   "cell_type": "code",
   "execution_count": 7,
   "id": "b1e40f05",
   "metadata": {},
   "outputs": [],
   "source": [
    "link_cat = r'C:\\Users\\dolek\\Documents\\GitHub\\Applied-Parallel-Programming\\Main\\Data\\Cat\\**'\n",
    "link_dog = r'C:\\Users\\dolek\\Documents\\GitHub\\Applied-Parallel-Programming\\Main\\Data\\Dog\\**'"
   ]
  },
  {
   "cell_type": "code",
   "execution_count": 8,
   "id": "651ad487",
   "metadata": {},
   "outputs": [],
   "source": [
    "def get_image(link_cat, link_dog,number):\n",
    "    images  = []\n",
    "    labels = []\n",
    "    list_cat = glob2.glob(link_cat)\n",
    "    list_dog = glob2.glob(link_dog)\n",
    "    print('Cat images size : ',len(list_cat))\n",
    "    for i in range(number):\n",
    "        if('jpg' in list_cat[i]):\n",
    "            img = Image.open(list_cat[i]).convert('RGB')\n",
    "            img = img.resize((400,400), Image.LANCZOS)\n",
    "            temp_img = np.asarray(img)\n",
    "            if len(temp_img.shape)  == 3:\n",
    "                images.append(temp_img)\n",
    "                labels.append(1)\n",
    "    print(\"Cat done!\")\n",
    "    print('Dog images size : ',len(list_dog))\n",
    "    for i in range(number):\n",
    "        if('jpg' in list_dog[i]):\n",
    "            img = Image.open(list_dog[i]).convert('RGB')\n",
    "            img = img.resize((400,400), Image.LANCZOS)\n",
    "            temp_img = np.asarray(img)\n",
    "            if len(temp_img.shape)  == 3:\n",
    "                images.append(temp_img)\n",
    "                labels.append(-1)\n",
    "    print(\"Dog done!\")\n",
    "    return images,labels"
   ]
  },
  {
   "cell_type": "markdown",
   "id": "e7bb8881",
   "metadata": {},
   "source": [
    "### 4. Time testing"
   ]
  },
  {
   "cell_type": "code",
   "execution_count": 9,
   "id": "c81cd5dd",
   "metadata": {},
   "outputs": [],
   "source": [
    "def time_library(images, block_size, cell_size, nbins):\n",
    "    #result = []\n",
    "    for image in images:\n",
    "        H = feature.hog(image, orientations=nbins, pixels_per_cell=block_size, \\\n",
    "                cells_per_block=cell_size, transform_sqrt=True, block_norm=\"L2\",channel_axis=-1)\n",
    "        #result.append(H)\n",
    "    #return result"
   ]
  },
  {
   "cell_type": "code",
   "execution_count": 10,
   "id": "b054c8c2",
   "metadata": {},
   "outputs": [],
   "source": [
    "def time_HOG_CPU(images, block_size, cell_size, nbins, sbins):\n",
    "    #result = []\n",
    "    kernel = HOG_CPU(block_size, cell_size, nbins, sbins)\n",
    "    for image in images:\n",
    "        kernel.compute_HOG(image)\n",
    "    #return result"
   ]
  },
  {
   "cell_type": "code",
   "execution_count": 11,
   "id": "e9df0f5b",
   "metadata": {},
   "outputs": [],
   "source": [
    "def time_HOG_CUDA(images, block_size, cell_size, nbins, sbins,threadsperblock):\n",
    "    #result = []\n",
    "    kernel = HOG_CUDA(block_size, cell_size, nbins, sbins, threadsperblock)\n",
    "    for image in images:\n",
    "        kernel.compute_HOG(image)\n",
    "    #return result"
   ]
  },
  {
   "cell_type": "code",
   "execution_count": 12,
   "id": "db27932a",
   "metadata": {},
   "outputs": [],
   "source": [
    "def time_testing(images, block_size, cell_size, nbins, sbins, threadsperblock):\n",
    "    print(len(images))\n",
    "    print(\"Library\")\n",
    "    %timeit time_library(images, block_size, cell_size, nbins)\n",
    "    print(\"CPU :\")\n",
    "    %timeit time_HOG_CPU(images, block_size, cell_size, nbins, sbins)\n",
    "    print(\"GPU :\")\n",
    "    %timeit time_HOG_CUDA(images, block_size, cell_size, nbins, sbins, threadsperblock)"
   ]
  },
  {
   "cell_type": "code",
   "execution_count": 13,
   "id": "81bc7c57",
   "metadata": {},
   "outputs": [
    {
     "name": "stdout",
     "output_type": "stream",
     "text": [
      "Cat images size :  12500\n",
      "Cat done!\n",
      "Dog images size :  12500\n",
      "Dog done!\n"
     ]
    }
   ],
   "source": [
    "image,label =  get_image(link_cat, link_dog, 5000)"
   ]
  },
  {
   "cell_type": "code",
   "execution_count": 14,
   "id": "ccbc3302",
   "metadata": {},
   "outputs": [
    {
     "name": "stdout",
     "output_type": "stream",
     "text": [
      "1\n",
      "Library\n",
      "409 ms ± 18.5 ms per loop (mean ± std. dev. of 7 runs, 1 loop each)\n",
      "CPU :\n",
      "1.1 s ± 6.67 ms per loop (mean ± std. dev. of 7 runs, 1 loop each)\n",
      "GPU :\n",
      "32.1 ms ± 334 µs per loop (mean ± std. dev. of 7 runs, 1 loop each)\n"
     ]
    }
   ],
   "source": [
    "time_testing(image[0:1], block_size, cell_size, nbins, sbins, threadsperblock)"
   ]
  },
  {
   "cell_type": "code",
   "execution_count": 15,
   "id": "4bf82156",
   "metadata": {},
   "outputs": [
    {
     "name": "stdout",
     "output_type": "stream",
     "text": [
      "100\n",
      "Library\n",
      "40.6 s ± 1.21 s per loop (mean ± std. dev. of 7 runs, 1 loop each)\n",
      "CPU :\n"
     ]
    },
    {
     "name": "stderr",
     "output_type": "stream",
     "text": [
      "\n",
      "KeyboardInterrupt\n",
      "\n"
     ]
    }
   ],
   "source": [
    "time_testing(image[0:100], block_size, cell_size, nbins, sbins, threadsperblock)"
   ]
  },
  {
   "cell_type": "code",
   "execution_count": null,
   "id": "6f0242ab",
   "metadata": {},
   "outputs": [],
   "source": [
    "time_testing(image[0:200], block_size, cell_size, nbins, sbins, threadsperblock)"
   ]
  },
  {
   "cell_type": "code",
   "execution_count": null,
   "id": "d24e981c",
   "metadata": {},
   "outputs": [],
   "source": [
    "time_testing(image[0:500], block_size, cell_size, nbins, sbins, threadsperblock)"
   ]
  },
  {
   "cell_type": "code",
   "execution_count": null,
   "id": "13f7714d",
   "metadata": {},
   "outputs": [],
   "source": [
    "time_testing(image[0:1000], block_size, cell_size, nbins, sbins, threadsperblock)"
   ]
  },
  {
   "cell_type": "code",
   "execution_count": null,
   "id": "6808aec0",
   "metadata": {},
   "outputs": [],
   "source": [
    "time_testing(image[0:2000], block_size, cell_size, nbins, sbins, threadsperblock)"
   ]
  },
  {
   "cell_type": "code",
   "execution_count": null,
   "id": "151a256d",
   "metadata": {},
   "outputs": [],
   "source": [
    "time_testing(image[0:5000], block_size, cell_size, nbins, sbins, threadsperblock)"
   ]
  }
 ],
 "metadata": {
  "kernelspec": {
   "display_name": "Python 3 (ipykernel)",
   "language": "python",
   "name": "python3"
  },
  "language_info": {
   "codemirror_mode": {
    "name": "ipython",
    "version": 3
   },
   "file_extension": ".py",
   "mimetype": "text/x-python",
   "name": "python",
   "nbconvert_exporter": "python",
   "pygments_lexer": "ipython3",
   "version": "3.9.16"
  }
 },
 "nbformat": 4,
 "nbformat_minor": 5
}

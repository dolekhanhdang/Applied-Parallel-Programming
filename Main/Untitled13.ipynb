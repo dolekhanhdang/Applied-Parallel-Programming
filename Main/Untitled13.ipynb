{
 "cells": [
  {
   "cell_type": "markdown",
   "metadata": {
    "id": "-_llgsITQeYW"
   },
   "source": [
    "# Thuật toán SVM\n"
   ]
  },
  {
   "cell_type": "markdown",
   "metadata": {
    "id": "QjYC7kmsQln0"
   },
   "source": [
    "## 1. Những thay đổi so với SVM trước đó:\n",
    "- SVM cũ: dùng kernel tuyến tính và tối ưu bằng Gradient Descent\n",
    "- SVM mới: dùng kernel rbf và tối ưu bằng SMO"
   ]
  },
  {
   "cell_type": "code",
   "execution_count": 1,
   "metadata": {
    "id": "zURkJPKzbkl3"
   },
   "outputs": [],
   "source": [
    "import numpy as np\n",
    "import glob2\n",
    "from PIL import Image\n",
    "from sklearn.model_selection import train_test_split\n",
    "from sklearn.metrics import accuracy_score\n",
    "from sklearn.svm import SVC\n",
    "from random import randrange\n",
    "import logging\n",
    "import random\n",
    "import numba as nb\n",
    "from numba import cuda\n",
    "import math\n",
    "import time\n",
    "import numpy as np\n",
    "import pandas as pd\n",
    "import matplotlib.pyplot as plt"
   ]
  },
  {
   "cell_type": "markdown",
   "metadata": {
    "id": "LztVtOkWQ8qU"
   },
   "source": [
    "## 2. Kernel RBF:\n",
    "\n",
    "- Là kernel dùng để biểu diễn quan hệ phi tuyến trong dữ liệu.\n",
    "- Công thức kernel trick: $\\exp(-\\gamma*||x-x'||^2)$ với $0<\\gamma<1$"
   ]
  },
  {
   "cell_type": "code",
   "execution_count": 2,
   "metadata": {
    "id": "pJzHwJr2SGd2"
   },
   "outputs": [],
   "source": [
    "def rbf(self, x1, x2):\n",
    "    return np.exp(-self.gamma * (np.linalg.norm(x1 - x2) **2 ))"
   ]
  },
  {
   "cell_type": "markdown",
   "metadata": {
    "id": "feaAVDQrSJ0q"
   },
   "source": [
    "## 3. SVM:\n",
    "- Output của thuật toán: $u_i = \\sum^n_{j=1}(y_j\\alpha_jK(x_j,x_i))-b$\n",
    "- Dự đoán: $y\\_pred = sign(u_i)$\n",
    "- $K(x_j, x_i)$: rbf kernel của $x_j$ và $x_i$\n",
    "- $\\alpha_j$: Lagrange multiplier của data point thứ j\n",
    "- $y_j$: true label (1 hoặc -1) thứ j"
   ]
  },
  {
   "cell_type": "markdown",
   "metadata": {
    "id": "HC2YR_xATnTk"
   },
   "source": [
    "## 4. SMO:\n",
    "- Ý tưởng: chuyển bài toán ban đầu thành các bài toán tối ưu 2 Lagrange multipliers. Tối ưu cho đến khi tất cả data point đều thỏa điều kiện KKT\n",
    "- Gồm 2 phần chính:\n",
    "  + Heuristic chọn ra 2 multipliers để tối ưu\n",
    "  + Tối ưu 2 multipliers vừa chọn\n",
    "- Điều kiện KKT: 1 điểm gọi là vi phạm điều kiện nếu $( E_i * y_i < - tol\\ \\&\\  alpha_i < C)\\ or\\ (E_i*y_i > tol\\ and\\ alpha_i > 0)$ và ngược lại.\n",
    "- Với $E_i=u_i-y_i$ là độ lỗi hiện tại của data point thứ i"
   ]
  },
  {
   "cell_type": "markdown",
   "metadata": {
    "id": "rTcFmjfuVEZZ"
   },
   "source": [
    "### 4.1: Heuristic:\n",
    "- Heuristic 1: dùng để chọn ra alpha1 để tối ưu, luân phiên thực hiện 2 bước sau đến khi tất cả datapoint thỏa KKT:\n",
    "  + Duyệt toàn bộ data, tối ưu tất cả những điểm không thỏa KKT.\n",
    "  + Duyệt các data point non-bound, tối ưu tất cả những điểm không thỏa KKT.\n",
    "- Heuristic 2: Sau khi chọn được alpha1 bất kỳ từ H1 thì tiến hành chọn alpha2:\n",
    "  + Duyệt toàn bộ non-bound data point, tìm điểm có độ lỗi cách xa nhất với độ lỗi của alpha1. Nếu không có thì\n",
    "  + Duyệt toàn bộ non-bound data point, bắt đầu từ điểm ngẫu nhiên và tiến hành tối ưu thử đến khi được tối ưu. Nếu không được thì:\n",
    "  + Thực hiện tương tự nhưng duyệt với toàn bộ data.\n",
    "- non-bound: Mỗi alpha sẽ có 2 biên là 0 và C. Data point i được gọi là non-bound nếu $0<alpha_i<C$ và ngược lại."
   ]
  },
  {
   "cell_type": "markdown",
   "metadata": {
    "id": "14xOr0yUXVl3"
   },
   "source": [
    "```python\n",
    "def choose_a1():\n",
    "  examine_all = True\n",
    "  num_changed = 0\n",
    "  while num_changed > 0 or examine_all:\n",
    "    num_changed = 0\n",
    "    if examine_all:\n",
    "      for i in range(n_samples):\n",
    "        num_changed += choose_a2(i, X, y)\n",
    "    else:\n",
    "      for i in range(n_samples):\n",
    "        if 0 < alphas[i] < self.C:\n",
    "          num_changed += choose_a2(i, X, y)\n",
    "    if examine_all:\n",
    "      examine_all = False\n",
    "    elif num_changed == 0:\n",
    "      examine_all = True\n",
    "```"
   ]
  },
  {
   "cell_type": "markdown",
   "metadata": {
    "id": "Oafi0MPbYBKn"
   },
   "source": [
    "```python\n",
    "def choose_a2():\n",
    "  # Check KKT\n",
    "  if (y1 * E1 < -tol and alpha1 < C) or (y1*E1 > tol and alpha1 > 0):\n",
    "    i2 = find_max_error_differences()\n",
    "    if optimize(i1, i2):\n",
    "      return 1\n",
    "    for i2 in non_bound_data:\n",
    "      if optimize(i1, i2):\n",
    "        return 1\n",
    "    for i2 in all_data:\n",
    "      if optimize(i1, i2):\n",
    "        return 1\n",
    "  return 0\n",
    "```"
   ]
  },
  {
   "cell_type": "markdown",
   "metadata": {
    "id": "eqSaJ7YhY1xs"
   },
   "source": [
    "### 4.2: Tối ưu hóa alpha1 và alpha2\n",
    "\n",
    "- Tối ưu hóa để alpha1 và alpha2. Nếu tối ưu hóa thành công thì return True và ngược lại.\n",
    "- Chi tiết các bước tối ưu hóa và công thức xem tại: ... "
   ]
  },
  {
   "cell_type": "markdown",
   "metadata": {
    "id": "YqUiZUjmZXW_"
   },
   "source": [
    "## 4.3: Class SVM implement:"
   ]
  },
  {
   "cell_type": "code",
   "execution_count": 3,
   "metadata": {
    "id": "ipHribffZalk"
   },
   "outputs": [],
   "source": [
    "class SVM:\n",
    "  def __init__(self, C=1.0, gamma=-1, tol=1e-3, eps = 1e-5, max_iter=1200):\n",
    "    self.C = C\n",
    "    self.gamma = gamma\n",
    "    self.tol = tol\n",
    "    self.max_iter = max_iter\n",
    "    self.n_iter = 0\n",
    "    self.eps = eps\n",
    "\n",
    "  def rbf(self, x1, x2):\n",
    "    return np.exp(-self.gamma * (np.linalg.norm(x1 - x2) **2 ))\n",
    "  \n",
    "  def output(self, x, X, y, n_samples):\n",
    "    return np.sum([self.alphas[i] * y[i] * self.rbf(X[i], x) for i in range(n_samples)]) - self.b\n",
    "\n",
    "  def get_error(self, i, X, y):   \n",
    "    if self.non_bound[i]:\n",
    "      return self.errors[i]\n",
    "    else:\n",
    "      op = self.output(X[i], X, y, self.n_samples) - y[i]\n",
    "      self.errors[i] = op\n",
    "      return op  \n",
    "\n",
    "  def predict(self, X):\n",
    "    pred = []\n",
    "    for x in X:\n",
    "      pred.append(np.sign(self.output(x, self.support_vectors, self.support_vector_labels, self.n_vector)))\n",
    "    return pred\n",
    "    \n",
    "  def compute_L_H(self):\n",
    "    if self.y1 != self.y2:\n",
    "      L = max(0, self.alpha2 - self.alpha1)\n",
    "      H = min(self.C, self.C + self.alpha2 - self.alpha1)\n",
    "    else:\n",
    "      L = max(0, self.alpha2 + self.alpha1 - self.C)\n",
    "      H = min(self.C, self.alpha2 + self.alpha1)\n",
    "    return L, H\n",
    "  \n",
    "  def compute_threshold(self, alpha1_new, alpha2_new, k11, k12, k22):\n",
    "    b1 = self.E1 + self.y1 * (alpha1_new - self.alpha1) * k11 + \\\n",
    "        self.y2 * (alpha2_new - self.alpha2) * k12 + self.b\n",
    "    b2 = self.E2 + self.y1 * (alpha1_new - self.alpha1) * k12 + \\\n",
    "        self.y2 * (alpha2_new - self.alpha2) * k22 + self.b\n",
    "\n",
    "    if 0 < alpha1_new and alpha1_new < self.C:\n",
    "      return b1\n",
    "    if 0 < alpha2_new and alpha2_new < self.C:\n",
    "      return b2\n",
    "    return (b1 + b2)/2.0\n",
    "    \n",
    "  def update_error_cache(self, alpha1_new, alpha2_new, old_b, X):\n",
    "    delta1 = self.y1 * (alpha1_new - self.alpha1)\n",
    "    delta2 = self.y2 * (alpha2_new - self.alpha2)\n",
    "    for i in self.non_bound_idx:\n",
    "      self.errors[i] += delta1 * self.rbf(self.x1, X[i]) + \\\n",
    "                        delta2 * self.rbf(self.x2, X[i]) + \\\n",
    "                        old_b - self.b\n",
    "\n",
    "  def update_non_bound(self, i1, i2):\n",
    "    if 0 < self.alphas[i1] and self.alphas[i1] < self.C:\n",
    "      self.non_bound[i1] = True\n",
    "      if i1 not in self.non_bound_idx:\n",
    "        self.non_bound_idx.append(i1)\n",
    "    else:\n",
    "      self.non_bound[i1] = False\n",
    "      if i1 in self.non_bound_idx:\n",
    "        self.non_bound_idx.remove(i1)\n",
    "      \n",
    "    if 0 < self.alphas[i2] and self.alphas[i2] < self.C:\n",
    "      self.non_bound[i2] = True\n",
    "      if i2 not in self.non_bound_idx:\n",
    "        self.non_bound_idx.append(i2)\n",
    "    else:\n",
    "      self.non_bound[i2] = False\n",
    "      if i2 in self.non_bound_idx:\n",
    "        self.non_bound_idx.remove(i2)\n",
    "\n",
    "    \n",
    "  def get_alpha2(self, L, H, k11, k12, k22, s):\n",
    "    eta = k11 + k22 - 2 * k12\n",
    "    if eta > 0:\n",
    "      alpha2_new = self.alpha2 + self.y2 * (self.E1-self.E2)/eta\n",
    "      alpha2_new = min(H, max(L, alpha2_new))\n",
    "    else:\n",
    "      f1 = self.y1*(self.E1 + self.b) - self.alpha1*k11 - s*self.alpha2*k12\n",
    "      f2 = self.y2*(self.E2 + self.b) - s*self.alpha1*k12 - self.alpha2*k22\n",
    "      L1 = self.alpha1 + s*(self.alpha2-L)\n",
    "      H1 = self.alpha1 + s*(self.alpha2-H)\n",
    "      Lobj = L1*f1 + L*f2 + 0.5*(L1**2)*k11 + 0.5*(L**2)*k22 + s*L*L1*k12\n",
    "      Hobj = H1*f1 + H*f2 + 0.5*(H1**2)*k11 + 0.5*(H**2)*k22 + s*H*H1*k12\n",
    "      if Lobj < Hobj - self.eps:\n",
    "        alpha2_new = L\n",
    "      elif Lobj > Hobj + self.eps:\n",
    "        alpha2_new = H\n",
    "      else:\n",
    "        alpha2_new = self.alpha2\n",
    "    return alpha2_new\n",
    "    \n",
    "  def take_step(self, i1, i2, X, y):\n",
    "    if i1 == i2:\n",
    "      return 0\n",
    "    self.y2 = y[i2]\n",
    "    self.alpha2 = self.alphas[i2]\n",
    "    self.x2 = X[i2]\n",
    "    self.E2 = self.get_error(i2, X, y)\n",
    "    s = self.y1 * self.y2\n",
    "    L, H = self.compute_L_H()\n",
    "    if L==H:\n",
    "      return 0\n",
    "    k11 = self.rbf(self.x1, self.x1)\n",
    "    k12 = self.rbf(self.x1, self.x2)\n",
    "    k22 = self.rbf(self.x2, self.x2)\n",
    "    self.alphas[i2] = self.get_alpha2(L, H, k11, k12, k22, s)\n",
    "    if abs(self.alphas[i2] -self.alpha2) < self.eps * (self.alphas[i2] + self.alpha2 + self.eps):\n",
    "      return 0\n",
    "    self.alphas[i1] = self.alpha1 + s * (self.alpha2 - self.alphas[i2])\n",
    "    old_b = self.b\n",
    "    self.b = self.compute_threshold(self.alphas[i1], self.alphas[i2], k11, k12, k22)\n",
    "    self.update_non_bound(i1, i2)\n",
    "    self.update_error_cache(self.alphas[i1], self.alphas[i2], old_b, X)\n",
    "    return 1\n",
    "  \n",
    "  def second_choice_heuristic(self, X ,y):\n",
    "    i2 = -1\n",
    "    m = 0.0\n",
    "    for i in self.non_bound_idx:\n",
    "      step = abs(self.get_error(i, X, y) - self.E1)\n",
    "      if step > m:\n",
    "        m = step\n",
    "        i2 = i\n",
    "    return i2\n",
    "  \n",
    "\n",
    "  def examine_example(self, i1, X, y):\n",
    "    self.y1 = y[i1]\n",
    "    self.alpha1 = self.alphas[i1]\n",
    "    self.x1 = X[i1]\n",
    "    self.E1 = self.get_error(i1, X, y)\n",
    "    \n",
    "    r2 = self.E1 * self.y1\n",
    "    if (r2 < -self.tol and self.alpha1 < self.C) or \\\n",
    "      (r2 > self.tol and self.alpha1 > 0):\n",
    "      n_non_bound = len(self.non_bound_idx)\n",
    "      mark = -1\n",
    "      if (n_non_bound > 1):\n",
    "        i2 = self.second_choice_heuristic(X, y)\n",
    "        if i2 != -1:\n",
    "          if self.take_step(i1, i2, X, y):\n",
    "            return 1\n",
    "        mark = i2\n",
    "      if n_non_bound > 0:\n",
    "        rand_i = randrange(n_non_bound)\n",
    "        for i2 in self.non_bound_idx[rand_i:] + self.non_bound_idx[:rand_i]:\n",
    "          if i2 == mark:\n",
    "            continue\n",
    "          if self.take_step(i1, i2, X, y):\n",
    "            return 1\n",
    "          \n",
    "      rand_i = randrange(self.n_samples)\n",
    "      all_indexes = list(range(self.n_samples))\n",
    "      for i2 in all_indexes[rand_i:] + all_indexes[:rand_i]:\n",
    "        if self.non_bound[i2]:\n",
    "          continue\n",
    "        if self.take_step(i1, i2, X, y):\n",
    "          return 1\n",
    "    return 0\n",
    "\n",
    "  def fit(self, X, y):\n",
    "    # random.seed(42)\n",
    "    self.n_samples, self.n_features = X.shape\n",
    "    if self.gamma < 0 or self.gamma > 1:\n",
    "      self.gamma = 1/(self.n_features * X.var())\n",
    "    self.errors = np.zeros(self.n_samples)\n",
    "    self.alphas = np.zeros(self.n_samples)\n",
    "    self.non_bound = np.array([False for _ in range(self.n_samples)])\n",
    "    self.non_bound_idx = []\n",
    "    self.b = 0\n",
    "    num_changed = 0\n",
    "    examine_all = True\n",
    "    while num_changed > 0 or examine_all:\n",
    "      self.n_iter += 1\n",
    "      num_changed = 0\n",
    "      if examine_all:\n",
    "        for i in range(self.n_samples):\n",
    "          num_changed += self.examine_example(i, X, y)\n",
    "      else:\n",
    "        for i in range(self.n_samples):\n",
    "          if 0 < self.alphas[i] < self.C:\n",
    "            num_changed += self.examine_example(i, X, y)\n",
    "  \n",
    "      if examine_all:\n",
    "        examine_all = False\n",
    "      elif num_changed == 0:\n",
    "        examine_all = True\n",
    "        \n",
    "    sv_idx = (self.alphas > 0)\n",
    "    self.support_vectors = X[sv_idx]\n",
    "    self.support_vector_labels = y[sv_idx]\n",
    "    self.n_vector = np.sum(sv_idx)"
   ]
  },
  {
   "cell_type": "markdown",
   "metadata": {
    "id": "bD-WhteKaF63"
   },
   "source": [
    "## 4.4: So sánh với SVM cũ:"
   ]
  },
  {
   "cell_type": "markdown",
   "metadata": {
    "id": "nuCExYP6aMe6"
   },
   "source": [
    "### 4.4.1: Class SVM cũ:"
   ]
  },
  {
   "cell_type": "code",
   "execution_count": 4,
   "metadata": {
    "id": "lQ3DEtpiaKx4"
   },
   "outputs": [],
   "source": [
    "class SVM_old():\n",
    "  def __init__(self,C=1.0):\n",
    "    # C error terms\n",
    "    self.C = C\n",
    "    self.w = 0\n",
    "    self.b = 0\n",
    "\n",
    "  # Hinge Loss Function / Calculation\n",
    "  def hingeloss(self, w, b, x, y):\n",
    "    # Regularizer term\n",
    "    reg = 0.5 * (w * w)\n",
    "    for i in range(x.shape[0]):\n",
    "      # Optimization term\n",
    "      opt_term = y[i] * ((np.dot(w, x[i])) + b)\n",
    "      # calculating loss\n",
    "      loss = reg + self.C * max(0, 1-opt_term)\n",
    "    return loss[0][0]\n",
    "\n",
    "  def fit(self, X, Y, batch_size=100, learning_rate=0.001, epochs=1000):\n",
    "    # The number of features in X\n",
    "    number_of_features = X.shape[1]\n",
    "    # The number of Samples in X\n",
    "    number_of_samples = X.shape[0]\n",
    "    c = self.C\n",
    "    # Creating ids from 0 to number_of_samples - 1\n",
    "    ids = np.arange(number_of_samples)\n",
    "    # Shuffling the samples randomly\n",
    "    np.random.shuffle(ids)\n",
    "    # creating an array of zeros\n",
    "    w = np.zeros((1, number_of_features))\n",
    "    b = 0\n",
    "    losses = []\n",
    "    # Gradient Descent logic\n",
    "    for i in range(epochs):\n",
    "      # Calculating the Hinge Loss\n",
    "      l = self.hingeloss(w, b, X, Y)\n",
    "      # Appending all losses \n",
    "      losses.append(l)\n",
    "      # Starting from 0 to the number of samples with batch_size as interval\n",
    "      for batch_initial in range(0, number_of_samples, batch_size):\n",
    "        gradw = 0\n",
    "        gradb = 0\n",
    "        for j in range(batch_initial, batch_initial + batch_size):\n",
    "          if j < number_of_samples:\n",
    "            x = ids[j]\n",
    "            ti = Y[x] * (np.dot(w, X[x].T) + b)\n",
    "            if ti > 1:\n",
    "              gradw += 0\n",
    "              gradb += 0\n",
    "            else:\n",
    "              # Calculating the gradients\n",
    "              #w.r.t w \n",
    "              gradw += c * Y[x] * X[x]\n",
    "              # w.r.t b\n",
    "              gradb += c * Y[x]\n",
    "        # Updating weights and bias\n",
    "        w = w - learning_rate * w + learning_rate * gradw\n",
    "        b = b + learning_rate * gradb\n",
    "    self.w = w\n",
    "    self.b = b\n",
    "    return self.w, self.b, losses\n",
    "      \n",
    "  def predict(self, X):\n",
    "    prediction = np.dot(X, self.w[0]) + self.b # w.x + b\n",
    "    return np.sign(prediction)"
   ]
  },
  {
   "cell_type": "markdown",
   "metadata": {
    "id": "vcFApkpKak5h"
   },
   "source": [
    "### 4.4.2: Đọc data:"
   ]
  },
  {
   "cell_type": "code",
   "execution_count": 5,
   "metadata": {
    "colab": {
     "base_uri": "https://localhost:8080/"
    },
    "id": "Pdgm_6DCJ0RI",
    "outputId": "2c4c4032-6244-4671-adda-bd9e1607e53f"
   },
   "outputs": [],
   "source": [
    "# from google.colab import drive\n",
    "# drive.mount('/content/drive')"
   ]
  },
  {
   "cell_type": "code",
   "execution_count": 6,
   "metadata": {
    "id": "HUqLin55c1Ph"
   },
   "outputs": [],
   "source": [
    "link_cat = r'C:\\Users\\dolek\\Documents\\GitHub\\Applied-Parallel-Programming\\Main\\Data\\Cat\\**'\n",
    "link_dog = r'C:\\Users\\dolek\\Documents\\GitHub\\Applied-Parallel-Programming\\Main\\Data\\Dog\\**'\n",
    "list_cat = glob2.glob(link_cat)\n",
    "list_dog = glob2.glob(link_dog)"
   ]
  },
  {
   "cell_type": "code",
   "execution_count": 7,
   "metadata": {
    "id": "ceuqboyjatez"
   },
   "outputs": [],
   "source": [
    "test_cases = [150, 200]"
   ]
  },
  {
   "cell_type": "code",
   "execution_count": null,
   "metadata": {
    "id": "EcGB-i22c0zF"
   },
   "outputs": [],
   "source": [
    "acc_1 = []\n",
    "acc_2 = []\n",
    "time_1 = []\n",
    "time_2 = []\n",
    "for t in test_cases:\n",
    "  n_samples = int(t/2)\n",
    "  cat_images = []\n",
    "  cat_labels = []\n",
    "  for i in range(n_samples):\n",
    "    if('jpg' in list_cat[i]):\n",
    "        img = Image.open(list_cat[i]).convert('RGB')\n",
    "        img = img.resize((400,400), Image.LANCZOS)\n",
    "        if len(np.array(img).shape)  == 3:\n",
    "            cat_images.append(np.array(img))\n",
    "            cat_labels.append(1)\n",
    "  dog_images = []\n",
    "  dog_labels = []\n",
    "  for i in range(n_samples):\n",
    "    if('jpg' in list_dog[i]):\n",
    "        img = Image.open(list_dog[i]).convert('RGB')\n",
    "        img = img.resize((400,400), Image.LANCZOS)\n",
    "        if len(np.array(img).shape)  == 3:\n",
    "            dog_images.append(np.array(img))\n",
    "            dog_labels.append(-1)\n",
    "  for index in range(len(cat_images)):\n",
    "    if cat_images[index].shape[2] != 3:\n",
    "        print(index, cat_images[index].shape[2])\n",
    "  for index in range(len(dog_images)):\n",
    "    if dog_images[index].shape[2] != 3:\n",
    "        print(index, dog_images[index].shape[2])  \n",
    "  cat_images = np.array(cat_images)\n",
    "  cat_labels = np.array(cat_labels)\n",
    "  dog_images = np.array(dog_images)\n",
    "  dog_labels = np.array(dog_labels)\n",
    "\n",
    "\n",
    "  x_cat_train, x_cat_test, y_cat_train, y_cat_test = train_test_split(cat_images, cat_labels, test_size=0.3)\n",
    "  x_dog_train, x_dog_test, y_dog_train, y_dog_test = train_test_split(dog_images, dog_labels, test_size=0.3)\n",
    "  X_train = np.concatenate((x_cat_train, x_dog_train), axis = 0)\n",
    "  y_train = np.concatenate((y_cat_train, y_dog_train), axis = 0)\n",
    "  X_test = np.concatenate((x_cat_test, x_dog_test), axis = 0)\n",
    "  y_test = np.concatenate((y_cat_test, y_dog_test), axis = 0)\n",
    "\n",
    "  shuffler = np.arange(X_train.shape[0])\n",
    "  np.random.shuffle(shuffler)\n",
    "  X_train = X_train.take(shuffler)\n",
    "  y_train = y_train.take(shuffler)\n",
    "  shuffler = np.arange(X_test.shape[0])\n",
    "  np.random.shuffle(shuffler)\n",
    "  X_test = X_test.take(shuffler)\n",
    "  y_test = y_test.take(shuffler)\n",
    "\n",
    "  x_train = np.array([x.flatten() for x in X_train])\n",
    "  x_test = np.array([x.flatten() for x in X_test])\n",
    "  start = time.time()\n",
    "  svm = SVM()\n",
    "  svm.fit(x_train, y_train)\n",
    "  pred = svm.predict(x_test)\n",
    "  end = time.time()\n",
    "  time_1.append(end-start)\n",
    "  acc_1.append(accuracy_score(pred, y_test))\n",
    "  start = time.time()\n",
    "  svm = SVM_old()\n",
    "  svm.fit(x_train, y_train)\n",
    "  pred = svm.predict(x_test)\n",
    "  end = time.time()\n",
    "  time_2.append(end-start)\n",
    "  acc_2.append(accuracy_score(pred, y_test))"
   ]
  },
  {
   "cell_type": "code",
   "execution_count": null,
   "metadata": {
    "colab": {
     "base_uri": "https://localhost:8080/",
     "height": 452
    },
    "id": "cuRSZoYodR5N",
    "outputId": "a09fef13-572b-41a6-9f89-3bd82cc70714"
   },
   "outputs": [],
   "source": [
    "plt.plot(test_cases, acc_1, label = 'New SVM')\n",
    "plt.plot(test_cases, acc_2, label = 'Old SVM')\n",
    "plt.title(\"Accuracy comparison\")\n",
    "plt.legend()\n",
    "plt.show()"
   ]
  },
  {
   "cell_type": "code",
   "execution_count": null,
   "metadata": {
    "colab": {
     "base_uri": "https://localhost:8080/",
     "height": 452
    },
    "id": "RlwL9U0heMgJ",
    "outputId": "83f40b4e-dadf-4a07-803f-34e6903e9931"
   },
   "outputs": [],
   "source": [
    "plt.plot(test_cases, time_1, label = 'New SVM')\n",
    "plt.plot(test_cases, time_2, label = 'Old SVM')\n",
    "plt.title(\"Time comparison\")\n",
    "plt.legend()\n",
    "plt.show()"
   ]
  },
  {
   "cell_type": "markdown",
   "metadata": {
    "id": "tg22NhQRfd9E"
   },
   "source": [
    "### 4.3: So sánh khi kết hợp với HOG:"
   ]
  },
  {
   "cell_type": "markdown",
   "metadata": {
    "id": "zzExGV_Afw0k"
   },
   "source": [
    "#### Hog model"
   ]
  },
  {
   "cell_type": "code",
   "execution_count": null,
   "metadata": {
    "id": "MfI97FLUfhBx"
   },
   "outputs": [],
   "source": [
    "from numba import cuda,float64\n",
    "\n",
    "import numpy as np\n",
    "\n",
    "import matplotlib.image as mpimg\n",
    "import matplotlib.pyplot as plt\n",
    "\n",
    "from PIL import Image\n",
    "import cv2\n",
    "import math\n",
    "import operator\n",
    "\n",
    "class HOG:\n",
    "    def __init__(self, blockSize, cellSize, nbins, sbins, threadsperblock):\n",
    "        self.blockSize       = blockSize\n",
    "        self.cellSize        = cellSize\n",
    "        self.nbins           = nbins\n",
    "        self.sbins           = sbins\n",
    "        self.threadsperblock = threadsperblock\n",
    "        self.x_Dim   = self.threadsperblock[0]//self.cellSize[0]\n",
    "        self.y_Dim   = self.threadsperblock[1]//self.cellSize[1]\n",
    "    \n",
    "    @staticmethod\n",
    "    @cuda.jit\n",
    "    def __gray_kernel(input, width, height, channel, gray):\n",
    "        row, col = cuda.grid(2)\n",
    "        if row >= height or col >= width or channel != 3:\n",
    "            return\n",
    "        rgb = input[row][col]\n",
    "        gray[row][col] = 0.299*rgb[0] + 0.587*rgb[1] + 0.114*rgb[2]\n",
    "    \n",
    "    def __gray(self):\n",
    "        picture = self.picture_array\n",
    "        # Memory Allocation\n",
    "        blockspergrid_x = math.ceil(self.picture_array.shape[0] / self.threadsperblock[0])\n",
    "        blockspergrid_y = math.ceil(self.picture_array.shape[1] / self.threadsperblock[1])\n",
    "        blockspergrid = (blockspergrid_x, blockspergrid_y)\n",
    "        gray_dev   = np.empty([self.height, self.width],dtype = float)\n",
    "        input_dev   = cuda.to_device(self.picture_array)\n",
    "        gray_device = cuda.device_array_like(gray_dev)\n",
    "        kernel = self.__gray_kernel\n",
    "        kernel[blockspergrid, self.threadsperblock](input_dev, self.width, self.height, self.channel, gray_device)\n",
    "        self.gray = gray_device\n",
    "    \n",
    "    @staticmethod\n",
    "    @cuda.jit\n",
    "    def __calc_gradient_kernel_2(input, width, height, magnitude, direction):\n",
    "        row, col = cuda.grid(2)\n",
    "        y = 0.0\n",
    "        x = 0.0\n",
    "        if (row>=height) or (col>=width):\n",
    "            return\n",
    "        for i in range(-1,2):\n",
    "            pixel_r = row + i\n",
    "            pixel_r = min(max(0, pixel_r), height - 1)\n",
    "            y += input[pixel_r,col] * i\n",
    "\n",
    "            pixel_c = col + i\n",
    "            pixel_c = min(max(0, pixel_c), width - 1)\n",
    "            x += input[row,pixel_c] * i\n",
    "\n",
    "        magnitude[row, col] = math.sqrt(y**2+x**2)\n",
    "        direction[row, col] = operator.mod((360 + math.atan2(y,x)*180/math.pi), 360)\n",
    "        \n",
    "    def __calc_gradient(self):\n",
    "        blockspergrid_x = math.ceil(self.picture_array.shape[0] / self.threadsperblock[0])\n",
    "        blockspergrid_y = math.ceil(self.picture_array.shape[1] / self.threadsperblock[1])\n",
    "        blockspergrid   = (blockspergrid_x, blockspergrid_y)\n",
    "\n",
    "        mag_dev            = np.zeros((self.height, self.width))\n",
    "        dir_dev            = np.zeros((self.height, self.width))\n",
    "\n",
    "\n",
    "        mag_device            = cuda.to_device(mag_dev)\n",
    "        dir_device            = cuda.to_device(dir_dev)\n",
    "        \n",
    "        self.__calc_gradient_kernel_2[blockspergrid, self.threadsperblock]\\\n",
    "                (self.gray, self.width, self.height,mag_device, dir_device)\n",
    "\n",
    "        return mag_device,dir_device\n",
    "    \n",
    "    def __calc_direc_mag(self):\n",
    "        self.__gray()\n",
    "        mag_device, dir_device = self.__calc_gradient()\n",
    "        self.magnitude = mag_device\n",
    "        self.direction = dir_device\n",
    "    \n",
    "\n",
    "    @staticmethod\n",
    "    @cuda.jit()\n",
    "    def __hist_kernel(direction, magnitude, cell_size, d_sbin, result_out,out_l2,x_Dim,y_Dim,nbins):    \n",
    "        cur_r, cur_c  = cuda.grid(2)\n",
    "        height, width = direction.shape\n",
    "\n",
    "        idy   = int(cur_r//cell_size[0])\n",
    "        idx   = int(cur_c//cell_size[1])\n",
    "        sbin  = d_sbin\n",
    "\n",
    "        # Creat 3D shared array\n",
    "        shared     = cuda.shared.array(shape=(4, 4, 9), dtype=float64)\n",
    "        l2         = cuda.shared.array(shape=(4, 4)   , dtype=float64)\n",
    "        idy_shared = idy%x_Dim\n",
    "        idx_shared = idx%y_Dim\n",
    "\n",
    "        condition_1 = cur_r%cell_size[0]\n",
    "        condition_2 = int(cur_c  %(cell_size[1]))\n",
    "        if  condition_1 == 0:\n",
    "            check   = condition_2 \n",
    "            if check < 8:\n",
    "                shared[idy_shared][idx_shared][check] = 0.0\n",
    "        elif  condition_1 == 1:\n",
    "            check   = condition_2 \n",
    "            if check == 0:\n",
    "                shared[idy_shared][idx_shared][8] = 0.0\n",
    "                l2[idy_shared][idx_shared] = 0.0\n",
    "\n",
    "        cuda.syncthreads()\n",
    "        # kiểm tra\n",
    "        if cur_r>=height or cur_c>= width:\n",
    "            return\n",
    "        thread_direction = direction[cur_r][cur_c]\n",
    "        thread_mag       = magnitude[cur_r][cur_c]\n",
    "        # chia lấy phần nguyên và phần dư\n",
    "        quotient  = int(thread_direction//sbin)\n",
    "        remainder =     thread_direction % sbin\n",
    "\n",
    "        if remainder==0:\n",
    "            cuda.atomic.add(shared, (idy_shared, idx_shared, quotient), thread_mag)\n",
    "\n",
    "        else:\n",
    "            first_bin = quotient\n",
    "            second_bin     = first_bin+1\n",
    "            need_to_add    = thread_mag*((second_bin*sbin - thread_direction)/sbin)\n",
    "            cuda.atomic.add(shared, (idy_shared, idx_shared, first_bin), need_to_add)\n",
    "\n",
    "\n",
    "            second_bin_idx = second_bin\n",
    "            if second_bin > 8:\n",
    "                second_bin_idx = 0\n",
    "            need_to_add_2  = thread_mag*((thread_direction - first_bin*sbin)/sbin)   \n",
    "\n",
    "            cuda.atomic.add(shared, (idy_shared, idx_shared, second_bin_idx), need_to_add_2)\n",
    "\n",
    "        cuda.syncthreads()\n",
    "\n",
    "        if condition_1 == 0:\n",
    "            check   = condition_2\n",
    "            if check < 8:\n",
    "                result_out[idy][idx][check]     = shared[idy_shared][idx_shared][check]\n",
    "                cuda.atomic.add(l2, (idy_shared, idx_shared), shared[idy_shared][idx_shared][check]**2)\n",
    "        elif  condition_1 == 1:\n",
    "            if check == 0:\n",
    "                cuda.atomic.add(l2, (idy_shared, idx_shared), shared[idy_shared][idx_shared][8]**2)\n",
    "                result_out[idy][idx][8]            = shared[idy_shared][idx_shared][8]\n",
    "                cuda.syncthreads()\n",
    "                out_l2[idy][idx]                   = l2[idy_shared][idx_shared]\n",
    "        else:\n",
    "            return\n",
    "\n",
    "\n",
    "    \n",
    "    def __all_hist(self):\n",
    "        blockspergrid_x = math.ceil(self.direction.shape[0] / self.threadsperblock[0])\n",
    "        blockspergrid_y = math.ceil(self.direction.shape[1] / self.threadsperblock[1])\n",
    "        blockspergrid = (blockspergrid_x, blockspergrid_y)\n",
    "        \n",
    "        hist_dev           = np.empty([self.n_cell[0], self.n_cell[1], self.nbins],dtype = np.float64)\n",
    "        l2_dev             = np.empty([self.n_cell[0], self.n_cell[1]],dtype = np.float64)\n",
    "        d_cell_size        = cuda.to_device(self.cellSize)\n",
    "        hist_device        = cuda.device_array_like(hist_dev)\n",
    "        l2_device          = cuda.device_array_like(l2_dev)\n",
    "        kernel = self.__hist_kernel\n",
    "        kernel[blockspergrid, self.threadsperblock]\\\n",
    "                            (self.direction, self.magnitude,d_cell_size, self.sbins, hist_device,l2_device,\\\n",
    "                                     self.x_Dim,self.y_Dim,self.nbins)\n",
    "        self.hist        = hist_device\n",
    "        self.test        = hist_device.copy_to_host()\n",
    "        self.l2_sum      = l2_device\n",
    "    @staticmethod\n",
    "    @cuda.jit()\n",
    "    def __l2_kernel(l2_hist,n_block,final_l2):\n",
    "        row, col  = cuda.grid(2)\n",
    "        if row >= n_block[0] or col >= n_block[1]:\n",
    "            return\n",
    "        need_to_sum = l2_hist[row:row+2, col:col+2]\n",
    "        sum_result = 0.0\n",
    "        for i in range(2):\n",
    "            for j in range(2):\n",
    "                sum_result += need_to_sum[i][j] \n",
    "        final_l2[row][col] = math.sqrt(sum_result)\n",
    "    \n",
    "    @staticmethod\n",
    "    @cuda.jit()\n",
    "    def __normalize_kernel(hist, n_block, block_size, l2, normed):\n",
    "        row, col  = cuda.grid(2)\n",
    "        if row >= n_block[0] or col >= n_block[1]:\n",
    "            return\n",
    "        for y in range(block_size[0]):\n",
    "            for x in range(block_size[1]):\n",
    "                for i in range(9):\n",
    "                    normed[row][col][y][x][i] = hist[row + y][col + x][i]/(l2[row][col]+1)\n",
    "        \n",
    "    def compute_HOG(self, picture):\n",
    "        \n",
    "        self.picture_array = picture\n",
    "        self.height, self.width, self.channel = self.picture_array.shape\n",
    "        self.n_cell  = (self.height//self.cellSize[0], self.width//self.cellSize[1])\n",
    "        self.n_block = (self.n_cell[0] - self.blockSize[0] + 1, self.n_cell[1] - self.blockSize[1] + 1)\n",
    "        \n",
    "        self.__calc_direc_mag()\n",
    "        self.__all_hist()\n",
    "        \n",
    "        blockspergrid_x = math.ceil(self.n_block[0] /  self.threadsperblock[0])\n",
    "        blockspergrid_y = math.ceil(self.n_block[1] /  self.threadsperblock[1])\n",
    "        blockspergrid   = (blockspergrid_x, blockspergrid_y)\n",
    "                \n",
    "        norm_array_size = self.n_block[0] * self.n_block[1] * self.blockSize[0] * self.blockSize[1] * self.nbins\n",
    "        final_l2   = np.empty([self.n_block[0],self.n_block[1]],dtype = np.float64)\n",
    "        device_l2 = cuda.device_array_like(final_l2)\n",
    "        self.__l2_kernel[blockspergrid, self.threadsperblock](self.l2_sum,self.n_block,device_l2)\n",
    "        self.l2 = device_l2\n",
    "        \n",
    "\n",
    "        norm_block    = np.zeros((self.n_block[0], self.n_block[1], self.blockSize[0], self.blockSize[1], self.nbins))\n",
    "        normed_device = cuda.to_device(norm_block)\n",
    "            \n",
    "        self.__normalize_kernel[blockspergrid, self.threadsperblock] \\\n",
    "                                    (self.hist, self.n_block, self.blockSize, self.l2, normed_device)\n",
    "        norm_block = normed_device.copy_to_host()\n",
    "        \n",
    "        self.HOG        = norm_block.reshape(norm_array_size)\n",
    "        self.norm_block = norm_block\n",
    "        return self.HOG"
   ]
  },
  {
   "cell_type": "code",
   "execution_count": null,
   "metadata": {
    "id": "FzScDdOFfppu"
   },
   "outputs": [],
   "source": [
    "def big_fit(X_train, y_train, hog, svm):\n",
    "  x_train = []\n",
    "  t = 0\n",
    "  for x in X_train:\n",
    "    x_train.append(hog.compute_HOG(x))\n",
    "  x_train = np.array(x_train)\n",
    "  svm.fit(x_train, y_train)\n",
    "\n",
    "def big_predict(X_test, y_test, hog, svm):\n",
    "  x_test = []\n",
    "  for x in X_test:\n",
    "    x_test.append(hog.compute_HOG(x))\n",
    "  x_test = np.array(x_test)\n",
    "  return svm.predict(x_test)"
   ]
  },
  {
   "cell_type": "code",
   "execution_count": null,
   "metadata": {
    "colab": {
     "base_uri": "https://localhost:8080/"
    },
    "id": "72Z9V3ppft5F",
    "outputId": "9b071bf1-a656-4a35-9e39-e2c082cbc4a0"
   },
   "outputs": [
    {
     "name": "stderr",
     "output_type": "stream",
     "text": [
      "/usr/local/lib/python3.10/dist-packages/PIL/TiffImagePlugin.py:819: UserWarning: Truncated File Read\n",
      "  warnings.warn(str(msg))\n"
     ]
    }
   ],
   "source": [
    "acc_1 = []\n",
    "acc_2 = []\n",
    "time_1 = []\n",
    "time_2 = []\n",
    "hog = HOG((2,2), (8,8), 9, 40,(32,32))\n",
    "for t in test_cases:\n",
    "  n_samples = int(t/2)\n",
    "  images = []\n",
    "  labels = []\n",
    "  for i in range(n_samples):\n",
    "    if('jpg' in list_cat[i]):\n",
    "        img = Image.open(list_cat[i]).convert('RGB')\n",
    "        img = img.resize((400,400), Image.LANCZOS)\n",
    "        if len(np.array(img).shape)  == 3:\n",
    "            images.append(np.array(img))\n",
    "            labels.append(1)\n",
    "  for i in range(n_samples):\n",
    "    if('jpg' in list_dog[i]):\n",
    "        img = Image.open(list_dog[i]).convert('RGB')\n",
    "        img = img.resize((400,400), Image.LANCZOS)\n",
    "        if len(np.array(img).shape)  == 3:\n",
    "            images.append(np.array(img))\n",
    "            labels.append(-1)\n",
    "  X = np.array(images)\n",
    "  y = np.array(labels)\n",
    "\n",
    "  for index in range(len(images)):\n",
    "    if images[index].shape[2] != 3:\n",
    "        print(index, images[index].shape[2])\n",
    "  X_train, X_test, y_train, y_test = train_test_split(X, y, test_size=0.3, random_state = 42)\n",
    "  x_train = np.array([x.flatten() for x in X_train])\n",
    "  x_test = np.array([x.flatten() for x in X_test])\n",
    "  start = time.time()\n",
    "  svm = SVM()\n",
    "  big_fit(X_train, y_train, hog, svm)\n",
    "  pred = big_predict(X_test, y_test, hog, svm)\n",
    "  end = time.time()\n",
    "  time_1.append(end-start)\n",
    "  acc_1.append(accuracy_score(pred, y_test))\n",
    "  start = time.time()\n",
    "  svm = SVM_old()\n",
    "  big_fit(X_train, y_train, hog, svm)\n",
    "  pred = big_predict(X_test, y_test, hog, svm)\n",
    "  end = time.time()\n",
    "  time_2.append(end-start)\n",
    "  acc_2.append(accuracy_score(pred, y_test))"
   ]
  },
  {
   "cell_type": "code",
   "execution_count": null,
   "metadata": {
    "colab": {
     "base_uri": "https://localhost:8080/",
     "height": 452
    },
    "id": "jeNHBNJYgzKw",
    "outputId": "ce3bbe36-908e-4e01-d77e-547436686e24"
   },
   "outputs": [
    {
     "data": {
      "image/png": "[encoded data removed]",
      "text/plain": [
       "<Figure size 640x480 with 1 Axes>"
      ]
     },
     "metadata": {},
     "output_type": "display_data"
    }
   ],
   "source": [
    "plt.plot(test_cases, acc_1, label = 'New SVM')\n",
    "plt.plot(test_cases, acc_2, label = 'Old SVM')\n",
    "plt.title(\"Accuracy comparison\")\n",
    "plt.legend()\n",
    "plt.show()"
   ]
  },
  {
   "cell_type": "code",
   "execution_count": null,
   "metadata": {
    "colab": {
     "base_uri": "https://localhost:8080/",
     "height": 452
    },
    "id": "On_2dRXPg1fS",
    "outputId": "86fd21ed-eb88-448e-f1db-dee473821173"
   },
   "outputs": [
    {
     "data": {
      "image/png": "[encoded data removed]",
      "text/plain": [
       "<Figure size 640x480 with 1 Axes>"
      ]
     },
     "metadata": {},
     "output_type": "display_data"
    }
   ],
   "source": [
    "plt.plot(test_cases, time_1, label = 'New SVM')\n",
    "plt.plot(test_cases, time_2, label = 'Old SVM')\n",
    "plt.title(\"Time comparison\")\n",
    "plt.legend()\n",
    "plt.show()"
   ]
  }
 ],
 "metadata": {
  "accelerator": "GPU",
  "colab": {
   "provenance": []
  },
  "kernelspec": {
   "display_name": "Python 3 (ipykernel)",
   "language": "python",
   "name": "python3"
  },
  "language_info": {
   "codemirror_mode": {
    "name": "ipython",
    "version": 3
   },
   "file_extension": ".py",
   "mimetype": "text/x-python",
   "name": "python",
   "nbconvert_exporter": "python",
   "pygments_lexer": "ipython3",
   "version": "3.9.16"
  }
 },
 "nbformat": 4,
 "nbformat_minor": 1
}

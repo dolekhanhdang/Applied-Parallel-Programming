{
 "cells": [
  {
   "cell_type": "code",
   "execution_count": 1,
   "metadata": {
    "id": "40ygIDXEhjav"
   },
   "outputs": [],
   "source": [
    "import pandas as pd\n",
    "import numpy as np\n",
    "import matplotlib.pyplot as plt\n",
    "import glob2\n",
    "from PIL import Image\n",
    "from sklearn.model_selection import train_test_split\n",
    "import cv2\n",
    "import math\n",
    "from numba import cuda\n",
    "from skimage import exposure\n",
    "from sklearn.metrics import accuracy_score"
   ]
  },
  {
   "cell_type": "markdown",
   "metadata": {
    "id": "LXMhyoM3Wnq4"
   },
   "source": [
    "# SVM"
   ]
  },
  {
   "cell_type": "code",
   "execution_count": 2,
   "metadata": {
    "id": "mkzNZxxdhsa5"
   },
   "outputs": [],
   "source": [
    "class SVM():\n",
    "  def __init__(self,C=1.0):\n",
    "    # C error terms\n",
    "    self.C = C\n",
    "    self.w = 0\n",
    "    self.b = 0\n",
    "\n",
    "  # Hinge Loss Function / Calculation\n",
    "  def hingeloss(self, w, b, x, y):\n",
    "    # Regularizer term\n",
    "    reg = 0.5 * (w * w)\n",
    "\n",
    "    for i in range(x.shape[0]):\n",
    "      # Optimization term\n",
    "      opt_term = y[i] * ((np.dot(w, x[i])) + b)\n",
    "\n",
    "      # calculating loss\n",
    "      loss = reg + self.C * max(0, 1-opt_term)\n",
    "    return loss[0][0]\n",
    "\n",
    "  def fit(self, X, Y, batch_size=100, learning_rate=0.001, epochs=1000):\n",
    "    # The number of features in X\n",
    "    number_of_features = X.shape[1]\n",
    "\n",
    "    # The number of Samples in X\n",
    "    number_of_samples = X.shape[0]\n",
    "\n",
    "    c = self.C\n",
    "\n",
    "    # Creating ids from 0 to number_of_samples - 1\n",
    "    ids = np.arange(number_of_samples)\n",
    "\n",
    "    # Shuffling the samples randomly\n",
    "    np.random.shuffle(ids)\n",
    "\n",
    "    # creating an array of zeros\n",
    "    w = np.zeros((1, number_of_features))\n",
    "    b = 0\n",
    "    losses = []\n",
    "\n",
    "    # Gradient Descent logic\n",
    "    for i in range(epochs):\n",
    "      # Calculating the Hinge Loss\n",
    "      l = self.hingeloss(w, b, X, Y)\n",
    "\n",
    "      # Appending all losses \n",
    "      losses.append(l)\n",
    "      \n",
    "      # Starting from 0 to the number of samples with batch_size as interval\n",
    "      for batch_initial in range(0, number_of_samples, batch_size):\n",
    "        gradw = 0\n",
    "        gradb = 0\n",
    "\n",
    "        for j in range(batch_initial, batch_initial + batch_size):\n",
    "          if j < number_of_samples:\n",
    "            x = ids[j]\n",
    "            ti = Y[x] * (np.dot(w, X[x].T) + b)\n",
    "\n",
    "            if ti > 1:\n",
    "              gradw += 0\n",
    "              gradb += 0\n",
    "            else:\n",
    "              # Calculating the gradients\n",
    "              #w.r.t w \n",
    "              gradw += c * Y[x] * X[x]\n",
    "              # w.r.t b\n",
    "              gradb += c * Y[x]\n",
    "\n",
    "        # Updating weights and bias\n",
    "        w = w - learning_rate * w + learning_rate * gradw\n",
    "        b = b + learning_rate * gradb\n",
    "\n",
    "    self.w = w\n",
    "    self.b = b\n",
    "\n",
    "    return self.w, self.b, losses\n",
    "\n",
    "  def predict(self, X):\n",
    "    prediction = np.dot(X, self.w[0]) + self.b # w.x + b\n",
    "    return np.sign(prediction)"
   ]
  },
  {
   "cell_type": "markdown",
   "metadata": {
    "id": "AKFm3J8JWqPp"
   },
   "source": [
    "# HOG"
   ]
  },
  {
   "cell_type": "code",
   "execution_count": 3,
   "metadata": {
    "id": "6elbwjp4WrPD"
   },
   "outputs": [],
   "source": [
    "class HOG:\n",
    "    def __init__(self, blockSize, cellSize, nbins, sbins, threadsperblock):\n",
    "        self.blockSize       = blockSize\n",
    "        self.cellSize        = cellSize\n",
    "        self.nbins           = nbins\n",
    "        self.sbins           = sbins\n",
    "        self.threadsperblock = threadsperblock\n",
    "    \n",
    "    @staticmethod\n",
    "    @cuda.jit\n",
    "    def __gray_kernel(input, width, height, channel, gray):\n",
    "        row, col = cuda.grid(2)\n",
    "        if row >= height or col >= width or channel != 3:\n",
    "            return\n",
    "        rgb = input[row][col]\n",
    "        gray[row][col] = 0.299*rgb[0] + 0.587*rgb[1] + 0.114*rgb[2]\n",
    "    \n",
    "    def __gray(self):\n",
    "        picture = self.picture_array\n",
    "        # Memory Allocation\n",
    "        blockspergrid_x = math.ceil(self.picture_array.shape[0] / self.threadsperblock[0])\n",
    "        blockspergrid_y = math.ceil(self.picture_array.shape[1] / self.threadsperblock[1])\n",
    "        blockspergrid = (blockspergrid_x, blockspergrid_y)\n",
    "        gray_dev   = np.empty([self.height, self.width],dtype = float)\n",
    "        input_dev   = cuda.to_device(self.picture_array)\n",
    "        gray_device = cuda.device_array_like(gray_dev)\n",
    "        kernel = self.__gray_kernel\n",
    "        kernel[blockspergrid, self.threadsperblock](input_dev, self.width, self.height, self.channel, gray_device)\n",
    "        gray_dev = gray_device.copy_to_host()\n",
    "        self.gray = gray_dev\n",
    "    \n",
    "    @staticmethod\n",
    "    @cuda.jit\n",
    "    def __calc_gradient_kernel(input, width, height, output_x, output_y):\n",
    "      row, col = cuda.grid(2)\n",
    "      if (row>=height) or (col>=width):\n",
    "        return\n",
    "      for i in range(-1,2):\n",
    "        pixel_r = row + i\n",
    "        pixel_r = min(max(0, pixel_r), height - 1)\n",
    "        output_y[row, col] += input[pixel_r,col] * i\n",
    "\n",
    "        pixel_c = col + i\n",
    "        pixel_c = min(max(0, pixel_c), width - 1)\n",
    "        output_x[row,col] += input[row,pixel_c] * i\n",
    "        \n",
    "    def __calc_gradient(self):\n",
    "        blockspergrid_x = math.ceil(self.picture_array.shape[0] / self.threadsperblock[0])\n",
    "        blockspergrid_y = math.ceil(self.picture_array.shape[1] / self.threadsperblock[1])\n",
    "        blockspergrid = (blockspergrid_x, blockspergrid_y)\n",
    "        gradient_x_dev = np.zeros((self.height, self.width))\n",
    "        gradient_y_dev = np.zeros((self.height, self.width))\n",
    "\n",
    "        gradient_x_device = cuda.to_device(gradient_x_dev)\n",
    "        gradient_y_device = cuda.to_device(gradient_y_dev)\n",
    "        gray_device       = cuda.to_device(self.gray)\n",
    "        self.__calc_gradient_kernel[blockspergrid, self.threadsperblock]\\\n",
    "                (gray_device, self.width, self.height, gradient_x_device, gradient_y_device)\n",
    "\n",
    "        gradient_x_dev = gradient_x_device.copy_to_host()\n",
    "        gradient_y_dev = gradient_y_device.copy_to_host()\n",
    "        return gradient_x_dev, gradient_y_dev\n",
    "    \n",
    "    def __calc_direc_mag(self):\n",
    "        self.__gray()\n",
    "        gradient_x, gradient_y = self.__calc_gradient()\n",
    "        self.magnitude = np.sqrt(np.square(gradient_x)+np.square(gradient_y))\n",
    "        self.direction = np.mod(np.add(360, np.rad2deg(np.arctan2(np.array(gradient_y), np.array(gradient_x)))), 360)\n",
    "    \n",
    "    @staticmethod\n",
    "    @cuda.jit\n",
    "    def __hist_kernel(direction, magnitude, width, height, sbin, cell_size, result_out):    \n",
    "        cur_r, cur_c  = cuda.grid(2)\n",
    "\n",
    "        idy   = int(cur_r//cell_size[0])\n",
    "        idx   = int(cur_c//cell_size[1])\n",
    "        # kiểm tra\n",
    "        if cur_r>=height or cur_c>= width:\n",
    "            return \n",
    "        thread_direction = direction[cur_r][cur_c]\n",
    "        thread_mag       = magnitude[cur_r][cur_c]\n",
    "        # chia lấy phần nguyên và phần dư\n",
    "        quotient  = int(thread_direction//sbin)\n",
    "        remainder =     thread_direction % sbin\n",
    "\n",
    "        if remainder==0:\n",
    "            cuda.atomic.add(result_out, (idy, idx, quotient), thread_mag)\n",
    "        else:\n",
    "            first_bin = quotient\n",
    "\n",
    "            second_bin   = first_bin+1\n",
    "            need_to_add    = thread_mag*((second_bin*sbin - thread_direction)/(second_bin*sbin - first_bin*sbin))\n",
    "            cuda.atomic.add(result_out, (idy, idx, first_bin), need_to_add)\n",
    "\n",
    "            second_bin_idx = second_bin\n",
    "            if second_bin > 8:\n",
    "                second_bin_idx = 0\n",
    "            need_to_add_2  = thread_mag*((thread_direction - first_bin*sbin)/(second_bin*sbin - first_bin*sbin))   \n",
    "            cuda.atomic.add(result_out, (idy, idx, second_bin_idx), need_to_add_2)\n",
    "    \n",
    "    def __all_hist(self):\n",
    "        blockspergrid_x = math.ceil(self.picture_array.shape[0] / self.threadsperblock[0])\n",
    "        blockspergrid_y = math.ceil(self.picture_array.shape[1] / self.threadsperblock[1])\n",
    "        blockspergrid = (blockspergrid_x, blockspergrid_y)\n",
    "        hist_dev    = np.empty([self.n_cell[0], self.n_cell[1], self.nbins],dtype = np.float64)\n",
    "        d_direction = cuda.to_device(self.direction)\n",
    "        d_magnitude = cuda.to_device(self.magnitude)\n",
    "        d_cell_size = cuda.to_device(self.cellSize)\n",
    "        hist_device = cuda.device_array_like(hist_dev)\n",
    "        kernel = self.__hist_kernel\n",
    "        kernel[blockspergrid, self.threadsperblock]\\\n",
    "                            (d_direction, d_magnitude, self.width, self.height, self.sbins, d_cell_size, hist_device)\n",
    "        self.hist = hist_device.copy_to_host()\n",
    "        \n",
    "        \n",
    "    def compute_HOG(self, picture):\n",
    "        self.picture_array = picture\n",
    "        self.height, self.width, self.channel = self.picture_array.shape\n",
    "        self.n_cell  = (self.height//self.cellSize[0], self.width//self.cellSize[1])\n",
    "        self.n_block = (self.n_cell[0] - self.blockSize[0] + 1, self.n_cell[1] - self.blockSize[1] + 1)\n",
    "        \n",
    "        self.__calc_direc_mag()\n",
    "        self.__all_hist()\n",
    "        norm_array_size = self.n_block[0] * self.n_block[1] * self.blockSize[0] * self.blockSize[1] * self.nbins\n",
    "        l2 = np.empty(self.n_block)\n",
    "        for i in range(self.n_block[0]):\n",
    "            for j in range(self.n_block[1]):\n",
    "                l2[i][j] = math.sqrt(np.sum(np.square(self.hist[i:i+2, j:j+2])))\n",
    "        norm_block = np.zeros((self.n_block[0], self.n_block[1], self.blockSize[0], self.blockSize[1], self.nbins))\n",
    "        for y in range(self.n_block[0]):\n",
    "            for x in range(self.n_block[1]):\n",
    "                out = self.hist[y: y + self.blockSize[0], x: x + self.blockSize[1]] / (l2[y][x] + 1)\n",
    "                norm_block[y][x] = out\n",
    "        self.HOG        = norm_block.flatten()\n",
    "        self.norm_block = norm_block\n",
    "        return self.HOG"
   ]
  },
  {
   "cell_type": "markdown",
   "metadata": {
    "id": "igvtzXRlX032"
   },
   "source": [
    "# Đọc data"
   ]
  },
  {
   "cell_type": "code",
   "execution_count": 4,
   "metadata": {
    "id": "oSYXaWpQN_J9"
   },
   "outputs": [],
   "source": [
    "cell_size = (8,8)"
   ]
  },
  {
   "cell_type": "markdown",
   "metadata": {},
   "source": [
    "##### Nếu dùng google colab"
   ]
  },
  {
   "cell_type": "code",
   "execution_count": 5,
   "metadata": {
    "colab": {
     "base_uri": "https://localhost:8080/"
    },
    "id": "H_YfnG2b-p7z",
    "outputId": "205f9ff1-2949-4a43-85e0-b52e2782aae8"
   },
   "outputs": [],
   "source": [
    "# from google.colab import drive\n",
    "# drive.mount('/content/drive')\n",
    "# link_cat = 'drive/MyDrive/ltssud/data/Cat/**'\n",
    "# link_dog = 'drive/MyDrive/ltssud/data/Dog/**'"
   ]
  },
  {
   "cell_type": "markdown",
   "metadata": {},
   "source": [
    "##### Nếu dùng local drive"
   ]
  },
  {
   "cell_type": "code",
   "execution_count": 6,
   "metadata": {},
   "outputs": [],
   "source": [
    "link_cat = r'C:\\Users\\dolek\\Documents\\GitHub\\Applied-Parallel-Programming\\Main\\Data\\Cat\\**'\n",
    "link_dog = r'C:\\Users\\dolek\\Documents\\GitHub\\Applied-Parallel-Programming\\Main\\Data\\Dog\\**'"
   ]
  },
  {
   "cell_type": "code",
   "execution_count": 7,
   "metadata": {
    "colab": {
     "base_uri": "https://localhost:8080/"
    },
    "id": "cKbrU0kbM0j6",
    "outputId": "805c23dd-2078-4712-d033-2d23d0d594ad"
   },
   "outputs": [
    {
     "name": "stdout",
     "output_type": "stream",
     "text": [
      "12500\n"
     ]
    }
   ],
   "source": [
    "link_cat = r'C:\\Users\\dolek\\Documents\\GitHub\\Applied-Parallel-Programming\\Main\\Data\\Cat\\**'\n",
    "link_dog = r'C:\\Users\\dolek\\Documents\\GitHub\\Applied-Parallel-Programming\\Main\\Data\\Dog\\**'"
   ]
  },
  {
   "cell_type": "code",
   "execution_count": null,
   "metadata": {},
   "outputs": [],
   "source": [
    "images  = []\n",
    "labels = []\n",
    "list_cat = glob2.glob(link_cat)\n",
    "print(len(list_cat))\n",
    "for i in range(1000):\n",
    "    if('jpg' in list_cat[i]):\n",
    "        img = Image.open(list_cat[i]).convert('RGB')\n",
    "        img = img.resize((400,400), Image.LANCZOS)\n",
    "        if len(np.array(img).shape)  == 3:\n",
    "            images.append(np.array(img))\n",
    "            labels.append(-1)"
   ]
  },
  {
   "cell_type": "code",
   "execution_count": 8,
   "metadata": {
    "id": "5X7TNxfEM0j7"
   },
   "outputs": [
    {
     "name": "stdout",
     "output_type": "stream",
     "text": [
      "12500\n"
     ]
    }
   ],
   "source": [
    "list_dog = glob2.glob(link_dog)\n",
    "print(len(list_dog))\n",
    "for i in range(1000):\n",
    "    if('jpg' in list_dog[i]):\n",
    "        img = Image.open(list_dog[i]).convert('RGB')\n",
    "        img = img.resize((400,400), Image.LANCZOS)\n",
    "        if len(np.array(img).shape)  == 3:\n",
    "            images.append(np.array(img))\n",
    "            labels.append(-1)"
   ]
  },
  {
   "cell_type": "code",
   "execution_count": 9,
   "metadata": {
    "id": "HWeY3Or8jakZ"
   },
   "outputs": [],
   "source": [
    "X = np.array(images)\n",
    "y = np.array(labels)"
   ]
  },
  {
   "cell_type": "code",
   "execution_count": 10,
   "metadata": {},
   "outputs": [],
   "source": [
    "for index in range(len(images)):\n",
    "    if images[index].shape[2] != 3:\n",
    "        print(index, images[index].shape[2])"
   ]
  },
  {
   "cell_type": "code",
   "execution_count": 11,
   "metadata": {
    "id": "oGqEcWO3NQs1"
   },
   "outputs": [],
   "source": [
    "X_train, X_test, y_train, y_test = train_test_split(X, y, test_size=0.3, random_state=42)"
   ]
  },
  {
   "cell_type": "markdown",
   "metadata": {
    "id": "KkHiZuFP_qQz"
   },
   "source": [
    "# Thử nghiệm SVM không có HOG"
   ]
  },
  {
   "cell_type": "code",
   "execution_count": 12,
   "metadata": {
    "id": "qp19xQQl_stR"
   },
   "outputs": [],
   "source": [
    "x_train_nohog = np.array([x.flatten() for x in X_train])\n",
    "x_test_nohog = np.array([x.flatten() for x in X_test])"
   ]
  },
  {
   "cell_type": "code",
   "execution_count": 13,
   "metadata": {
    "colab": {
     "base_uri": "https://localhost:8080/"
    },
    "id": "WPX7eu3l_--N",
    "outputId": "5c4d5586-0b7f-4f40-b357-58e80195bdfd"
   },
   "outputs": [],
   "source": [
    "# svm = SVM()\n",
    "# svm.fit(x_train_nohog, y_train)\n",
    "# pred = svm.predict(x_test_nohog)\n",
    "# accuracy_score(pred, y_test)"
   ]
  },
  {
   "cell_type": "markdown",
   "metadata": {
    "id": "n5XIkuwpAP7g"
   },
   "source": [
    "# SVM không HOG của sklearn"
   ]
  },
  {
   "cell_type": "code",
   "execution_count": 14,
   "metadata": {
    "id": "81A6fQxuAT3c"
   },
   "outputs": [],
   "source": [
    "from sklearn.svm import SVC\n",
    "from sklearn.model_selection import train_test_split\n",
    "from sklearn.metrics import accuracy_score\n",
    "from sklearn.preprocessing import StandardScaler\n",
    "import numpy as np"
   ]
  },
  {
   "cell_type": "code",
   "execution_count": 15,
   "metadata": {
    "id": "lF7j1JviBPZ_"
   },
   "outputs": [],
   "source": [
    "y_train_sklearn = np.array([str(y) for y in y_train])\n",
    "y_test_sklearn = np.array([str(y) for y in y_test])"
   ]
  },
  {
   "cell_type": "code",
   "execution_count": 16,
   "metadata": {
    "colab": {
     "base_uri": "https://localhost:8080/"
    },
    "id": "XpmSnc60Aa8F",
    "outputId": "9f9be904-2184-40d2-9baf-a4b84dcb399b"
   },
   "outputs": [
    {
     "data": {
      "text/plain": [
       "0.54"
      ]
     },
     "execution_count": 16,
     "metadata": {},
     "output_type": "execute_result"
    }
   ],
   "source": [
    "svm = SVC(kernel='linear')\n",
    "svm.fit(x_train_nohog, y_train_sklearn)\n",
    "pred = svm.predict(x_test_nohog)\n",
    "accuracy_score(pred, y_test_sklearn)"
   ]
  },
  {
   "cell_type": "markdown",
   "metadata": {
    "id": "n7uvXUDsAbaA"
   },
   "source": [
    "# SVM có HOG"
   ]
  },
  {
   "cell_type": "code",
   "execution_count": 17,
   "metadata": {
    "id": "onBGKDPfQHjG"
   },
   "outputs": [],
   "source": [
    "def big_fit(X_train, y_train, hog, svm):\n",
    "  x_train = []\n",
    "  t = 0\n",
    "  for x in X_train:\n",
    "    print(t, end=\"  \")\n",
    "    x_train.append(hog.compute_HOG(x))\n",
    "    t+=1\n",
    "  x_train = np.array(x_train)\n",
    "  svm.fit(x_train, y_train)\n",
    "\n",
    "def big_predict(X_test, y_test, hog, svm):\n",
    "  x_test = []\n",
    "  t = 0\n",
    "  for x in X_test:\n",
    "    print(t, end = \"  \")\n",
    "    x_test.append(hog.compute_HOG(x))\n",
    "    t+=1\n",
    "  x_test = np.array(x_test)\n",
    "  return svm.predict(x_test)"
   ]
  },
  {
   "cell_type": "code",
   "execution_count": 18,
   "metadata": {
    "id": "X-UiPA4jQ96W"
   },
   "outputs": [],
   "source": [
    "hog = HOG((2,2), (8,8), 9, 40,(32,32))\n",
    "svm = SVC(kernel='linear')"
   ]
  },
  {
   "cell_type": "code",
   "execution_count": 19,
   "metadata": {
    "colab": {
     "base_uri": "https://localhost:8080/"
    },
    "id": "6Q5zMUfc-ipN",
    "outputId": "ba39dfeb-0ea4-46f7-d4ff-8191b55ed9ea",
    "scrolled": true
   },
   "outputs": [
    {
     "name": "stdout",
     "output_type": "stream",
     "text": [
      "0  1  2  3  4  5  6  7  8  9  10  11  12  13  14  15  16  17  18  19  20  21  22  23  24  25  26  27  28  29  30  31  32  33  34  35  36  37  38  39  40  41  42  43  44  45  46  47  48  49  50  51  52  53  54  55  56  57  58  59  60  61  62  63  64  65  66  67  68  69  70  71  72  73  74  75  76  77  78  79  80  81  82  83  84  85  86  87  88  89  90  91  92  93  94  95  96  97  98  99  100  101  102  103  104  105  106  107  108  109  110  111  112  113  114  115  116  117  118  119  120  121  122  123  124  125  126  127  128  129  130  131  132  133  134  135  136  137  138  139  140  141  142  143  144  145  146  147  148  149  150  151  152  153  154  155  156  157  158  159  160  161  162  163  164  165  166  167  168  169  170  171  172  173  174  175  176  177  178  179  180  181  182  183  184  185  186  187  188  189  190  191  192  193  194  195  196  197  198  199  200  201  202  203  204  205  206  207  208  209  210  211  212  213  214  215  216  217  218  219  220  221  222  223  224  225  226  227  228  229  230  231  232  233  234  235  236  237  238  239  240  241  242  243  244  245  246  247  248  249  250  251  252  253  254  255  256  257  258  259  260  261  262  263  264  265  266  267  268  269  270  271  272  273  274  275  276  277  278  279  280  281  282  283  284  285  286  287  288  289  290  291  292  293  294  295  296  297  298  299  300  301  302  303  304  305  306  307  308  309  310  311  312  313  314  315  316  317  318  319  320  321  322  323  324  325  326  327  328  329  330  331  332  333  334  335  336  337  338  339  340  341  342  343  344  345  346  347  348  349  350  351  352  353  354  355  356  357  358  359  360  361  362  363  364  365  366  367  368  369  370  371  372  373  374  375  376  377  378  379  380  381  382  383  384  385  386  387  388  389  390  391  392  393  394  395  396  397  398  399  400  401  402  403  404  405  406  407  408  409  410  411  412  413  414  415  416  417  418  419  420  421  422  423  424  425  426  427  428  429  430  431  432  433  434  435  436  437  438  439  440  441  442  443  444  445  446  447  448  449  450  451  452  453  454  455  456  457  458  459  460  461  462  463  464  465  466  467  468  469  470  471  472  473  474  475  476  477  478  479  480  481  482  483  484  485  486  487  488  489  490  491  492  493  494  495  496  497  498  499  500  501  502  503  504  505  506  507  508  509  510  511  512  513  514  515  516  517  518  519  520  521  522  523  524  525  526  527  528  529  530  531  532  533  534  535  536  537  538  539  540  541  542  543  544  545  546  547  548  549  550  551  552  553  554  555  556  557  558  559  560  561  562  563  564  565  566  567  568  569  570  571  572  573  574  575  576  577  578  579  580  581  582  583  584  585  586  587  588  589  590  591  592  593  594  595  596  597  598  599  600  601  602  603  604  605  606  607  608  609  610  611  612  613  614  615  616  617  618  619  620  621  622  623  624  625  626  627  628  629  630  631  632  633  634  635  636  637  638  639  640  641  642  643  644  645  646  647  648  649  650  651  652  653  654  655  656  657  658  659  660  661  662  663  664  665  666  667  668  669  670  671  672  673  674  675  676  677  678  679  680  681  682  683  684  685  686  687  688  689  690  691  692  693  694  695  696  697  698  699  700  701  702  703  704  705  706  707  708  709  710  711  712  713  714  715  716  717  718  719  720  721  722  723  724  725  726  727  728  729  730  731  732  733  734  735  736  737  738  739  740  741  742  743  744  745  746  747  748  749  750  751  752  753  754  755  756  757  758  759  760  761  762  763  764  765  766  767  768  769  770  771  772  773  774  775  776  777  778  779  780  781  782  783  784  785  786  787  788  789  790  791  792  793  794  795  796  797  798  799  800  801  802  803  804  805  806  807  808  809  810  811  812  813  814  815  816  817  818  819  820  821  822  823  824  825  826  827  828  829  830  831  832  833  834  835  836  837  838  839  840  841  842  843  844  845  846  847  848  849  850  851  852  853  854  855  856  857  858  859  860  861  862  863  864  865  866  867  868  869  870  871  872  873  874  875  876  877  878  879  880  881  882  883  884  885  886  887  888  889  890  891  892  893  894  895  896  897  898  899  900  901  902  903  904  905  906  907  908  909  910  911  912  913  914  915  916  917  918  919  920  921  922  923  924  925  926  927  928  929  930  931  932  933  934  935  936  937  938  939  940  941  942  943  944  945  946  947  948  949  950  951  952  953  954  955  956  957  958  959  960  961  962  963  964  965  966  967  968  969  970  971  972  973  974  975  976  977  978  979  980  981  982  983  984  985  986  987  988  989  990  991  992  993  994  995  996  997  998  999  1000  1001  1002  1003  1004  1005  1006  1007  1008  1009  1010  1011  1012  1013  1014  1015  1016  1017  1018  1019  1020  1021  1022  1023  1024  1025  1026  1027  1028  1029  1030  1031  1032  1033  1034  1035  1036  1037  1038  1039  1040  1041  1042  1043  1044  1045  1046  1047  1048  1049  1050  1051  1052  1053  1054  1055  1056  1057  1058  1059  1060  1061  1062  1063  1064  1065  1066  1067  1068  1069  1070  1071  1072  1073  1074  1075  1076  1077  1078  1079  1080  1081  1082  1083  1084  1085  1086  1087  1088  1089  1090  1091  1092  1093  1094  1095  1096  1097  1098  1099  1100  1101  1102  1103  1104  1105  1106  1107  1108  1109  1110  1111  1112  1113  1114  1115  1116  1117  1118  1119  1120  1121  1122  1123  1124  1125  1126  1127  1128  1129  1130  1131  1132  1133  1134  1135  1136  1137  1138  1139  1140  1141  1142  1143  1144  1145  1146  1147  1148  1149  1150  1151  1152  1153  1154  1155  1156  1157  1158  1159  1160  1161  1162  1163  1164  1165  1166  1167  1168  1169  1170  1171  1172  1173  1174  1175  1176  1177  1178  1179  1180  1181  1182  1183  1184  1185  1186  1187  1188  1189  1190  1191  1192  1193  1194  1195  1196  1197  1198  1199  1200  1201  1202  1203  1204  1205  1206  1207  1208  1209  1210  1211  1212  1213  1214  1215  1216  1217  1218  1219  1220  1221  1222  1223  1224  1225  1226  1227  1228  1229  1230  1231  1232  1233  1234  1235  1236  1237  1238  1239  1240  1241  1242  1243  1244  1245  1246  1247  1248  1249  1250  1251  1252  1253  1254  1255  1256  1257  1258  1259  1260  1261  1262  1263  1264  1265  1266  1267  1268  1269  1270  1271  1272  1273  1274  1275  1276  1277  1278  1279  1280  1281  1282  1283  1284  1285  1286  1287  1288  1289  1290  1291  1292  1293  1294  1295  1296  1297  1298  1299  1300  1301  1302  1303  1304  1305  1306  1307  1308  1309  1310  1311  1312  1313  1314  1315  1316  1317  1318  1319  1320  1321  1322  1323  1324  1325  1326  1327  1328  1329  1330  1331  1332  1333  1334  1335  1336  1337  1338  1339  1340  1341  1342  1343  1344  1345  1346  1347  1348  1349  1350  1351  1352  1353  1354  1355  1356  1357  1358  1359  1360  1361  1362  1363  1364  1365  1366  1367  1368  1369  1370  1371  1372  1373  1374  1375  1376  1377  1378  1379  1380  1381  1382  1383  1384  1385  1386  1387  1388  1389  1390  1391  1392  1393  1394  1395  1396  1397  1398  1399  "
     ]
    }
   ],
   "source": [
    "big_fit(X_train, y_train, hog, svm)"
   ]
  },
  {
   "cell_type": "code",
   "execution_count": 20,
   "metadata": {
    "colab": {
     "base_uri": "https://localhost:8080/"
    },
    "id": "Qc0BB9w0-ipN",
    "outputId": "bbc4b96d-d139-4b6f-d390-90660e1c1eca"
   },
   "outputs": [
    {
     "name": "stdout",
     "output_type": "stream",
     "text": [
      "0  1  2  3  4  5  6  7  8  9  10  11  12  13  14  15  16  17  18  19  20  21  22  23  24  25  26  27  28  29  30  31  32  33  34  35  36  37  38  39  40  41  42  43  44  45  46  47  48  49  50  51  52  53  54  55  56  57  58  59  60  61  62  63  64  65  66  67  68  69  70  71  72  73  74  75  76  77  78  79  80  81  82  83  84  85  86  87  88  89  90  91  92  93  94  95  96  97  98  99  100  101  102  103  104  105  106  107  108  109  110  111  112  113  114  115  116  117  118  119  120  121  122  123  124  125  126  127  128  129  130  131  132  133  134  135  136  137  138  139  140  141  142  143  144  145  146  147  148  149  150  151  152  153  154  155  156  157  158  159  160  161  162  163  164  165  166  167  168  169  170  171  172  173  174  175  176  177  178  179  180  181  182  183  184  185  186  187  188  189  190  191  192  193  194  195  196  197  198  199  200  201  202  203  204  205  206  207  208  209  210  211  212  213  214  215  216  217  218  219  220  221  222  223  224  225  226  227  228  229  230  231  232  233  234  235  236  237  238  239  240  241  242  243  244  245  246  247  248  249  250  251  252  253  254  255  256  257  258  259  260  261  262  263  264  265  266  267  268  269  270  271  272  273  274  275  276  277  278  279  280  281  282  283  284  285  286  287  288  289  290  291  292  293  294  295  296  297  298  299  300  301  302  303  304  305  306  307  308  309  310  311  312  313  314  315  316  317  318  319  320  321  322  323  324  325  326  327  328  329  330  331  332  333  334  335  336  337  338  339  340  341  342  343  344  345  346  347  348  349  350  351  352  353  354  355  356  357  358  359  360  361  362  363  364  365  366  367  368  369  370  371  372  373  374  375  376  377  378  379  380  381  382  383  384  385  386  387  388  389  390  391  392  393  394  395  396  397  398  399  400  401  402  403  404  405  406  407  408  409  410  411  412  413  414  415  416  417  418  419  420  421  422  423  424  425  426  427  428  429  430  431  432  433  434  435  436  437  438  439  440  441  442  443  444  445  446  447  448  449  450  451  452  453  454  455  456  457  458  459  460  461  462  463  464  465  466  467  468  469  470  471  472  473  474  475  476  477  478  479  480  481  482  483  484  485  486  487  488  489  490  491  492  493  494  495  496  497  498  499  500  501  502  503  504  505  506  507  508  509  510  511  512  513  514  515  516  517  518  519  520  521  522  523  524  525  526  527  528  529  530  531  532  533  534  535  536  537  538  539  540  541  542  543  544  545  546  547  548  549  550  551  552  553  554  555  556  557  558  559  560  561  562  563  564  565  566  567  568  569  570  571  572  573  574  575  576  577  578  579  580  581  582  583  584  585  586  587  588  589  590  591  592  593  594  595  596  597  598  599  "
     ]
    }
   ],
   "source": [
    "test_predict = big_predict(X_test, y_test, hog, svm)"
   ]
  },
  {
   "cell_type": "code",
   "execution_count": 21,
   "metadata": {
    "colab": {
     "base_uri": "https://localhost:8080/"
    },
    "id": "4nbJ13fc-ipO",
    "outputId": "c025c18a-cc25-4754-ea8d-09f6842ac821"
   },
   "outputs": [
    {
     "data": {
      "text/plain": [
       "0.6583333333333333"
      ]
     },
     "execution_count": 21,
     "metadata": {},
     "output_type": "execute_result"
    }
   ],
   "source": [
    "accuracy_score(y_test, test_predict)"
   ]
  }
 ],
 "metadata": {
  "accelerator": "GPU",
  "colab": {
   "provenance": []
  },
  "gpuClass": "standard",
  "kernelspec": {
   "display_name": "Python 3 (ipykernel)",
   "language": "python",
   "name": "python3"
  },
  "language_info": {
   "codemirror_mode": {
    "name": "ipython",
    "version": 3
   },
   "file_extension": ".py",
   "mimetype": "text/x-python",
   "name": "python",
   "nbconvert_exporter": "python",
   "pygments_lexer": "ipython3",
   "version": "3.9.16"
  }
 },
 "nbformat": 4,
 "nbformat_minor": 1
}

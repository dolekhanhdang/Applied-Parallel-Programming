{
 "cells": [
  {
   "cell_type": "code",
   "execution_count": null,
   "metadata": {
    "id": "40ygIDXEhjav"
   },
   "outputs": [],
   "source": [
    "import pandas as pd\n",
    "import numpy as np\n",
    "import matplotlib.pyplot as plt\n",
    "import glob2\n",
    "from PIL import Image\n",
    "from sklearn.model_selection import train_test_split\n",
    "import cv2\n",
    "import math\n",
    "from numba import cuda\n",
    "from skimage import exposure\n",
    "from sklearn.metrics import accuracy_score"
   ]
  },
  {
   "cell_type": "markdown",
   "metadata": {
    "id": "LXMhyoM3Wnq4"
   },
   "source": [
    "# SVM"
   ]
  },
  {
   "cell_type": "code",
   "execution_count": null,
   "metadata": {
    "id": "mkzNZxxdhsa5"
   },
   "outputs": [],
   "source": [
    "class SVM():\n",
    "  def __init__(self,C=1.0):\n",
    "    # C error terms\n",
    "    self.C = C\n",
    "    self.w = 0\n",
    "    self.b = 0\n",
    "\n",
    "  # Hinge Loss Function / Calculation\n",
    "  def hingeloss(self, w, b, x, y):\n",
    "    # Regularizer term\n",
    "    reg = 0.5 * (w * w)\n",
    "\n",
    "    for i in range(x.shape[0]):\n",
    "      # Optimization term\n",
    "      opt_term = y[i] * ((np.dot(w, x[i])) + b)\n",
    "\n",
    "      # calculating loss\n",
    "      loss = reg + self.C * max(0, 1-opt_term)\n",
    "    return loss[0][0]\n",
    "\n",
    "  def fit(self, X, Y, batch_size=100, learning_rate=0.001, epochs=1000):\n",
    "    # The number of features in X\n",
    "    number_of_features = X.shape[1]\n",
    "\n",
    "    # The number of Samples in X\n",
    "    number_of_samples = X.shape[0]\n",
    "\n",
    "    c = self.C\n",
    "\n",
    "    # Creating ids from 0 to number_of_samples - 1\n",
    "    ids = np.arange(number_of_samples)\n",
    "\n",
    "    # Shuffling the samples randomly\n",
    "    np.random.shuffle(ids)\n",
    "\n",
    "    # creating an array of zeros\n",
    "    w = np.zeros((1, number_of_features))\n",
    "    b = 0\n",
    "    losses = []\n",
    "\n",
    "    # Gradient Descent logic\n",
    "    for i in range(epochs):\n",
    "      # Calculating the Hinge Loss\n",
    "      l = self.hingeloss(w, b, X, Y)\n",
    "\n",
    "      # Appending all losses \n",
    "      losses.append(l)\n",
    "      \n",
    "      # Starting from 0 to the number of samples with batch_size as interval\n",
    "      for batch_initial in range(0, number_of_samples, batch_size):\n",
    "        gradw = 0\n",
    "        gradb = 0\n",
    "\n",
    "        for j in range(batch_initial, batch_initial + batch_size):\n",
    "          if j < number_of_samples:\n",
    "            x = ids[j]\n",
    "            ti = Y[x] * (np.dot(w, X[x].T) + b)\n",
    "\n",
    "            if ti > 1:\n",
    "              gradw += 0\n",
    "              gradb += 0\n",
    "            else:\n",
    "              # Calculating the gradients\n",
    "              #w.r.t w \n",
    "              gradw += c * Y[x] * X[x]\n",
    "              # w.r.t b\n",
    "              gradb += c * Y[x]\n",
    "\n",
    "        # Updating weights and bias\n",
    "        w = w - learning_rate * w + learning_rate * gradw\n",
    "        b = b + learning_rate * gradb\n",
    "\n",
    "    self.w = w\n",
    "    self.b = b\n",
    "\n",
    "    return self.w, self.b, losses\n",
    "\n",
    "  def predict(self, X):\n",
    "    prediction = np.dot(X, self.w[0]) + self.b # w.x + b\n",
    "    return np.sign(prediction)"
   ]
  },
  {
   "cell_type": "markdown",
   "metadata": {
    "id": "AKFm3J8JWqPp"
   },
   "source": [
    "# HOG"
   ]
  },
  {
   "cell_type": "code",
   "execution_count": null,
   "metadata": {
    "id": "6elbwjp4WrPD"
   },
   "outputs": [],
   "source": [
    "class HOG:\n",
    "    def __init__(self, blockSize, cellSize, nbins, sbins, threadsperblock):\n",
    "        self.blockSize       = blockSize\n",
    "        self.cellSize        = cellSize\n",
    "        self.nbins           = nbins\n",
    "        self.sbins           = sbins\n",
    "        self.threadsperblock = threadsperblock\n",
    "    \n",
    "    @staticmethod\n",
    "    @cuda.jit\n",
    "    def __gray_kernel(input, width, height, channel, gray):\n",
    "        row, col = cuda.grid(2)\n",
    "        if row >= height or col >= width or channel != 3:\n",
    "            return\n",
    "        rgb = input[row][col]\n",
    "        gray[row][col] = 0.299*rgb[0] + 0.587*rgb[1] + 0.114*rgb[2]\n",
    "    \n",
    "    def __gray(self):\n",
    "        picture = self.picture_array\n",
    "        # Memory Allocation\n",
    "        blockspergrid_x = math.ceil(self.picture_array.shape[0] / self.threadsperblock[0])\n",
    "        blockspergrid_y = math.ceil(self.picture_array.shape[1] / self.threadsperblock[1])\n",
    "        blockspergrid = (blockspergrid_x, blockspergrid_y)\n",
    "        gray_dev   = np.empty([self.height, self.width],dtype = float)\n",
    "        input_dev   = cuda.to_device(self.picture_array)\n",
    "        gray_device = cuda.device_array_like(gray_dev)\n",
    "        kernel = self.__gray_kernel\n",
    "        kernel[blockspergrid, self.threadsperblock](input_dev, self.width, self.height, self.channel, gray_device)\n",
    "        gray_dev = gray_device.copy_to_host()\n",
    "        self.gray = gray_dev\n",
    "    \n",
    "    @staticmethod\n",
    "    @cuda.jit\n",
    "    def __calc_gradient_kernel(input, width, height, output_x, output_y):\n",
    "      row, col = cuda.grid(2)\n",
    "      if (row>=height) or (col>=width):\n",
    "        return\n",
    "      for i in range(-1,2):\n",
    "        pixel_r = row + i\n",
    "        pixel_r = min(max(0, pixel_r), height - 1)\n",
    "        output_y[row, col] += input[pixel_r,col] * i\n",
    "\n",
    "        pixel_c = col + i\n",
    "        pixel_c = min(max(0, pixel_c), width - 1)\n",
    "        output_x[row,col] += input[row,pixel_c] * i\n",
    "        \n",
    "    def __calc_gradient(self):\n",
    "        blockspergrid_x = math.ceil(self.picture_array.shape[0] / self.threadsperblock[0])\n",
    "        blockspergrid_y = math.ceil(self.picture_array.shape[1] / self.threadsperblock[1])\n",
    "        blockspergrid = (blockspergrid_x, blockspergrid_y)\n",
    "        gradient_x_dev = np.zeros((self.height, self.width))\n",
    "        gradient_y_dev = np.zeros((self.height, self.width))\n",
    "\n",
    "        gradient_x_device = cuda.to_device(gradient_x_dev)\n",
    "        gradient_y_device = cuda.to_device(gradient_y_dev)\n",
    "        gray_device       = cuda.to_device(self.gray)\n",
    "        self.__calc_gradient_kernel[blockspergrid, self.threadsperblock]\\\n",
    "                (gray_device, self.width, self.height, gradient_x_device, gradient_y_device)\n",
    "\n",
    "        gradient_x_dev = gradient_x_device.copy_to_host()\n",
    "        gradient_y_dev = gradient_y_device.copy_to_host()\n",
    "        return gradient_x_dev, gradient_y_dev\n",
    "    \n",
    "    def __calc_direc_mag(self):\n",
    "        self.__gray()\n",
    "        gradient_x, gradient_y = self.__calc_gradient()\n",
    "        self.magnitude = np.sqrt(np.square(gradient_x)+np.square(gradient_y))\n",
    "        self.direction = np.mod(np.add(360, np.rad2deg(np.arctan2(np.array(gradient_y), np.array(gradient_x)))), 360)\n",
    "    \n",
    "    @staticmethod\n",
    "    @cuda.jit\n",
    "    def __hist_kernel(direction, magnitude, width, height, sbin, cell_size, result_out):    \n",
    "        cur_r, cur_c  = cuda.grid(2)\n",
    "\n",
    "        idy   = int(cur_r//cell_size[0])\n",
    "        idx   = int(cur_c//cell_size[1])\n",
    "        # kiểm tra\n",
    "        if cur_r>=height or cur_c>= width:\n",
    "            return \n",
    "        thread_direction = direction[cur_r][cur_c]\n",
    "        thread_mag       = magnitude[cur_r][cur_c]\n",
    "        # chia lấy phần nguyên và phần dư\n",
    "        quotient  = int(thread_direction//sbin)\n",
    "        remainder =     thread_direction % sbin\n",
    "\n",
    "        if remainder==0:\n",
    "            cuda.atomic.add(result_out, (idy, idx, quotient), thread_mag)\n",
    "        else:\n",
    "            first_bin = quotient\n",
    "\n",
    "            second_bin   = first_bin+1\n",
    "            need_to_add    = thread_mag*((second_bin*sbin - thread_direction)/(second_bin*sbin - first_bin*sbin))\n",
    "            cuda.atomic.add(result_out, (idy, idx, first_bin), need_to_add)\n",
    "\n",
    "            second_bin_idx = second_bin\n",
    "            if second_bin > 8:\n",
    "                second_bin_idx = 0\n",
    "            need_to_add_2  = thread_mag*((thread_direction - first_bin*sbin)/(second_bin*sbin - first_bin*sbin))   \n",
    "            cuda.atomic.add(result_out, (idy, idx, second_bin_idx), need_to_add_2)\n",
    "    \n",
    "    def __all_hist(self):\n",
    "        blockspergrid_x = math.ceil(self.picture_array.shape[0] / self.threadsperblock[0])\n",
    "        blockspergrid_y = math.ceil(self.picture_array.shape[1] / self.threadsperblock[1])\n",
    "        blockspergrid = (blockspergrid_x, blockspergrid_y)\n",
    "        hist_dev    = np.empty([self.n_cell[0], self.n_cell[1], self.nbins],dtype = np.float64)\n",
    "        d_direction = cuda.to_device(self.direction)\n",
    "        d_magnitude = cuda.to_device(self.magnitude)\n",
    "        d_cell_size = cuda.to_device(self.cellSize)\n",
    "        hist_device = cuda.device_array_like(hist_dev)\n",
    "        kernel = self.__hist_kernel\n",
    "        kernel[blockspergrid, self.threadsperblock]\\\n",
    "                            (d_direction, d_magnitude, self.width, self.height, self.sbins, d_cell_size, hist_device)\n",
    "        self.hist = hist_device.copy_to_host()\n",
    "        \n",
    "        \n",
    "    def compute_HOG(self, picture):\n",
    "        self.picture_array = picture\n",
    "        self.height, self.width, self.channel = self.picture_array.shape\n",
    "        self.n_cell  = (self.height//self.cellSize[0], self.width//self.cellSize[1])\n",
    "        self.n_block = (self.n_cell[0] - self.blockSize[0] + 1, self.n_cell[1] - self.blockSize[1] + 1)\n",
    "        \n",
    "        self.__calc_direc_mag()\n",
    "        self.__all_hist()\n",
    "        norm_array_size = self.n_block[0] * self.n_block[1] * self.blockSize[0] * self.blockSize[1] * self.nbins\n",
    "        l2 = np.empty(self.n_block)\n",
    "        for i in range(self.n_block[0]):\n",
    "            for j in range(self.n_block[1]):\n",
    "                l2[i][j] = math.sqrt(np.sum(np.square(self.hist[i:i+2, j:j+2])))\n",
    "        norm_block = np.zeros((self.n_block[0], self.n_block[1], self.blockSize[0], self.blockSize[1], self.nbins))\n",
    "        for y in range(self.n_block[0]):\n",
    "            for x in range(self.n_block[1]):\n",
    "                out = self.hist[y: y + self.blockSize[0], x: x + self.blockSize[1]] / (l2[y][x] + 1)\n",
    "                norm_block[y][x] = out\n",
    "        self.HOG        = norm_block.flatten()\n",
    "        self.norm_block = norm_block\n",
    "        return self.HOG"
   ]
  },
  {
   "cell_type": "markdown",
   "metadata": {
    "id": "igvtzXRlX032"
   },
   "source": [
    "# Đọc data"
   ]
  },
  {
   "cell_type": "code",
   "execution_count": null,
   "metadata": {
    "id": "oSYXaWpQN_J9"
   },
   "outputs": [],
   "source": [
    "cell_size = (8,8)"
   ]
  },
  {
   "cell_type": "markdown",
   "metadata": {},
   "source": [
    "##### Nếu dùng google colab"
   ]
  },
  {
   "cell_type": "code",
   "execution_count": null,
   "metadata": {
    "colab": {
     "base_uri": "https://localhost:8080/"
    },
    "id": "H_YfnG2b-p7z",
    "outputId": "205f9ff1-2949-4a43-85e0-b52e2782aae8"
   },
   "outputs": [],
   "source": [
    "# from google.colab import drive\n",
    "# drive.mount('/content/drive')\n",
    "# link_cat = 'drive/MyDrive/ltssud/data/Cat/**'\n",
    "# link_dog = 'drive/MyDrive/ltssud/data/Dog/**'"
   ]
  },
  {
   "cell_type": "markdown",
   "metadata": {},
   "source": [
    "##### Nếu dùng local drive"
   ]
  },
  {
   "cell_type": "code",
   "execution_count": null,
   "metadata": {},
   "outputs": [],
   "source": [
    "link_cat = r'C:\\Users\\dolek\\Documents\\GitHub\\Applied-Parallel-Programming\\Main\\Data\\Cat\\**'\n",
    "link_dog = r'C:\\Users\\dolek\\Documents\\GitHub\\Applied-Parallel-Programming\\Main\\Data\\Dog\\**'"
   ]
  },
  {
   "cell_type": "code",
   "execution_count": null,
   "metadata": {
    "colab": {
     "base_uri": "https://localhost:8080/"
    },
    "id": "cKbrU0kbM0j6",
    "outputId": "805c23dd-2078-4712-d033-2d23d0d594ad"
   },
   "outputs": [],
   "source": [
    "link_cat = r'C:\\Users\\dolek\\Documents\\GitHub\\Applied-Parallel-Programming\\Main\\Data\\Cat\\**'\n",
    "link_dog = r'C:\\Users\\dolek\\Documents\\GitHub\\Applied-Parallel-Programming\\Main\\Data\\Dog\\**'"
   ]
  },
  {
   "cell_type": "code",
   "execution_count": null,
   "metadata": {},
   "outputs": [],
   "source": [
    "images  = []\n",
    "labels = []\n",
    "list_cat = glob2.glob(link_cat)\n",
    "print(len(list_cat))\n",
    "for i in range(1000):\n",
    "    if('jpg' in list_cat[i]):\n",
    "        img = Image.open(list_cat[i]).convert('RGB')\n",
    "        img = img.resize((400,400), Image.LANCZOS)\n",
    "        if len(np.array(img).shape)  == 3:\n",
    "            images.append(np.array(img))\n",
    "            labels.append(-1)"
   ]
  },
  {
   "cell_type": "code",
   "execution_count": null,
   "metadata": {
    "id": "5X7TNxfEM0j7"
   },
   "outputs": [],
   "source": [
    "list_dog = glob2.glob(link_dog)\n",
    "print(len(list_dog))\n",
    "for i in range(1000):\n",
    "    if('jpg' in list_dog[i]):\n",
    "        img = Image.open(list_dog[i]).convert('RGB')\n",
    "        img = img.resize((400,400), Image.LANCZOS)\n",
    "        if len(np.array(img).shape)  == 3:\n",
    "            images.append(np.array(img))\n",
    "            labels.append(-1)"
   ]
  },
  {
   "cell_type": "code",
   "execution_count": null,
   "metadata": {
    "id": "HWeY3Or8jakZ"
   },
   "outputs": [],
   "source": [
    "X = np.array(images)\n",
    "y = np.array(labels)"
   ]
  },
  {
   "cell_type": "code",
   "execution_count": null,
   "metadata": {},
   "outputs": [],
   "source": [
    "for index in range(len(images)):\n",
    "    if images[index].shape[2] != 3:\n",
    "        print(index, images[index].shape[2])"
   ]
  },
  {
   "cell_type": "code",
   "execution_count": null,
   "metadata": {
    "id": "oGqEcWO3NQs1"
   },
   "outputs": [],
   "source": [
    "X_train, X_test, y_train, y_test = train_test_split(X, y, test_size=0.3, random_state=42)"
   ]
  },
  {
   "cell_type": "markdown",
   "metadata": {
    "id": "KkHiZuFP_qQz"
   },
   "source": [
    "# Thử nghiệm SVM không có HOG"
   ]
  },
  {
   "cell_type": "code",
   "execution_count": null,
   "metadata": {
    "id": "qp19xQQl_stR"
   },
   "outputs": [],
   "source": [
    "x_train_nohog = np.array([x.flatten() for x in X_train])\n",
    "x_test_nohog = np.array([x.flatten() for x in X_test])"
   ]
  },
  {
   "cell_type": "code",
   "execution_count": null,
   "metadata": {
    "colab": {
     "base_uri": "https://localhost:8080/"
    },
    "id": "WPX7eu3l_--N",
    "outputId": "5c4d5586-0b7f-4f40-b357-58e80195bdfd"
   },
   "outputs": [],
   "source": [
    "# svm = SVM()\n",
    "# svm.fit(x_train_nohog, y_train)\n",
    "# pred = svm.predict(x_test_nohog)\n",
    "# accuracy_score(pred, y_test)"
   ]
  },
  {
   "cell_type": "markdown",
   "metadata": {
    "id": "n5XIkuwpAP7g"
   },
   "source": [
    "# SVM không HOG của sklearn"
   ]
  },
  {
   "cell_type": "code",
   "execution_count": null,
   "metadata": {
    "id": "81A6fQxuAT3c"
   },
   "outputs": [],
   "source": [
    "from sklearn.svm import SVC\n",
    "from sklearn.model_selection import train_test_split\n",
    "from sklearn.metrics import accuracy_score\n",
    "from sklearn.preprocessing import StandardScaler\n",
    "import numpy as np"
   ]
  },
  {
   "cell_type": "code",
   "execution_count": null,
   "metadata": {
    "id": "lF7j1JviBPZ_"
   },
   "outputs": [],
   "source": [
    "y_train_sklearn = np.array([str(y) for y in y_train])\n",
    "y_test_sklearn = np.array([str(y) for y in y_test])"
   ]
  },
  {
   "cell_type": "code",
   "execution_count": null,
   "metadata": {
    "colab": {
     "base_uri": "https://localhost:8080/"
    },
    "id": "XpmSnc60Aa8F",
    "outputId": "9f9be904-2184-40d2-9baf-a4b84dcb399b"
   },
   "outputs": [],
   "source": [
    "svm = SVC(kernel='linear')\n",
    "svm.fit(x_train_nohog, y_train_sklearn)\n",
    "pred = svm.predict(x_test_nohog)\n",
    "accuracy_score(pred, y_test_sklearn)"
   ]
  },
  {
   "cell_type": "markdown",
   "metadata": {
    "id": "n7uvXUDsAbaA"
   },
   "source": [
    "# SVM có HOG"
   ]
  },
  {
   "cell_type": "code",
   "execution_count": null,
   "metadata": {
    "id": "onBGKDPfQHjG"
   },
   "outputs": [],
   "source": [
    "def big_fit(X_train, y_train, hog, svm):\n",
    "  x_train = []\n",
    "  t = 0\n",
    "  for x in X_train:\n",
    "    print(t, end=\"  \")\n",
    "    x_train.append(hog.compute_HOG(x))\n",
    "    t+=1\n",
    "  x_train = np.array(x_train)\n",
    "  svm.fit(x_train, y_train)\n",
    "\n",
    "def big_predict(X_test, y_test, hog, svm):\n",
    "  x_test = []\n",
    "  t = 0\n",
    "  for x in X_test:\n",
    "    print(t, end = \"  \")\n",
    "    x_test.append(hog.compute_HOG(x))\n",
    "    t+=1\n",
    "  x_test = np.array(x_test)\n",
    "  return svm.predict(x_test)"
   ]
  },
  {
   "cell_type": "code",
   "execution_count": null,
   "metadata": {
    "id": "X-UiPA4jQ96W"
   },
   "outputs": [],
   "source": [
    "hog = HOG((2,2), (8,8), 9, 40,(32,32))\n",
    "svm = SVC(kernel='linear')"
   ]
  },
  {
   "cell_type": "code",
   "execution_count": null,
   "metadata": {
    "colab": {
     "base_uri": "https://localhost:8080/"
    },
    "id": "6Q5zMUfc-ipN",
    "outputId": "ba39dfeb-0ea4-46f7-d4ff-8191b55ed9ea",
    "scrolled": true
   },
   "outputs": [],
   "source": [
    "big_fit(X_train, y_train, hog, svm)"
   ]
  },
  {
   "cell_type": "code",
   "execution_count": null,
   "metadata": {
    "colab": {
     "base_uri": "https://localhost:8080/"
    },
    "id": "Qc0BB9w0-ipN",
    "outputId": "bbc4b96d-d139-4b6f-d390-90660e1c1eca"
   },
   "outputs": [],
   "source": [
    "test_predict = big_predict(X_test, y_test, hog, svm)"
   ]
  },
  {
   "cell_type": "code",
   "execution_count": null,
   "metadata": {
    "colab": {
     "base_uri": "https://localhost:8080/"
    },
    "id": "4nbJ13fc-ipO",
    "outputId": "c025c18a-cc25-4754-ea8d-09f6842ac821"
   },
   "outputs": [],
   "source": [
    "accuracy_score(y_test, test_predict)"
   ]
  }
 ],
 "metadata": {
  "accelerator": "GPU",
  "colab": {
   "provenance": []
  },
  "gpuClass": "standard",
  "kernelspec": {
   "display_name": "Python 3 (ipykernel)",
   "language": "python",
   "name": "python3"
  },
  "language_info": {
   "codemirror_mode": {
    "name": "ipython",
    "version": 3
   },
   "file_extension": ".py",
   "mimetype": "text/x-python",
   "name": "python",
   "nbconvert_exporter": "python",
   "pygments_lexer": "ipython3",
   "version": "3.9.16"
  }
 },
 "nbformat": 4,
 "nbformat_minor": 1
}
